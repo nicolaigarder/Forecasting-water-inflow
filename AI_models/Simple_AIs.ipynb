{
 "cells": [
  {
   "cell_type": "code",
   "execution_count": 3,
   "metadata": {},
   "outputs": [],
   "source": [
    "import os\n",
    "import math\n",
    "import numpy as np\n",
    "import pandas as pd\n",
    "import torch\n",
    "import torch.nn as nn\n",
    "from torch.utils.data import Dataset, DataLoader\n",
    "from sklearn.preprocessing import StandardScaler\n",
    "from sklearn.metrics import mean_squared_error\n",
    "import matplotlib.pyplot as plt"
   ]
  },
  {
   "cell_type": "markdown",
   "metadata": {},
   "source": [
    "## Loading data"
   ]
  },
  {
   "cell_type": "code",
   "execution_count": 4,
   "metadata": {},
   "outputs": [
    {
     "data": {
      "text/html": [
       "<div>\n",
       "<style scoped>\n",
       "    .dataframe tbody tr th:only-of-type {\n",
       "        vertical-align: middle;\n",
       "    }\n",
       "\n",
       "    .dataframe tbody tr th {\n",
       "        vertical-align: top;\n",
       "    }\n",
       "\n",
       "    .dataframe thead th {\n",
       "        text-align: right;\n",
       "    }\n",
       "</style>\n",
       "<table border=\"1\" class=\"dataframe\">\n",
       "  <thead>\n",
       "    <tr style=\"text-align: right;\">\n",
       "      <th></th>\n",
       "      <th>temp_min_daily</th>\n",
       "      <th>temp_max_daily</th>\n",
       "      <th>temp_mean_daily</th>\n",
       "      <th>temp_grass_mean_daily</th>\n",
       "      <th>temp_soil_min_daily</th>\n",
       "      <th>temp_soil_max_daily</th>\n",
       "      <th>temp_soil_mean_daily</th>\n",
       "      <th>humidity_daily</th>\n",
       "      <th>wind_direction_daily</th>\n",
       "      <th>wind_speed_daily</th>\n",
       "      <th>wind_gust_max_daily</th>\n",
       "      <th>precip_total_daily</th>\n",
       "      <th>precip_duration_daily</th>\n",
       "      <th>radiation_global_daily</th>\n",
       "      <th>sunshine_duration_daily</th>\n",
       "      <th>KarupBro</th>\n",
       "    </tr>\n",
       "    <tr>\n",
       "      <th>time</th>\n",
       "      <th></th>\n",
       "      <th></th>\n",
       "      <th></th>\n",
       "      <th></th>\n",
       "      <th></th>\n",
       "      <th></th>\n",
       "      <th></th>\n",
       "      <th></th>\n",
       "      <th></th>\n",
       "      <th></th>\n",
       "      <th></th>\n",
       "      <th></th>\n",
       "      <th></th>\n",
       "      <th></th>\n",
       "      <th></th>\n",
       "      <th></th>\n",
       "    </tr>\n",
       "  </thead>\n",
       "  <tbody>\n",
       "    <tr>\n",
       "      <th>2024-12-27</th>\n",
       "      <td>4.0</td>\n",
       "      <td>6.0</td>\n",
       "      <td>5.250000</td>\n",
       "      <td>2.016421</td>\n",
       "      <td>6.6</td>\n",
       "      <td>7.4</td>\n",
       "      <td>6.941667</td>\n",
       "      <td>97.250000</td>\n",
       "      <td>223.583333</td>\n",
       "      <td>1.966667</td>\n",
       "      <td>6.0</td>\n",
       "      <td>0.0</td>\n",
       "      <td>0.0</td>\n",
       "      <td>131.0</td>\n",
       "      <td>12.0</td>\n",
       "      <td>NaN</td>\n",
       "    </tr>\n",
       "    <tr>\n",
       "      <th>2024-12-28</th>\n",
       "      <td>3.3</td>\n",
       "      <td>5.1</td>\n",
       "      <td>4.116667</td>\n",
       "      <td>1.946083</td>\n",
       "      <td>6.1</td>\n",
       "      <td>6.9</td>\n",
       "      <td>6.445833</td>\n",
       "      <td>97.666667</td>\n",
       "      <td>217.708333</td>\n",
       "      <td>3.050000</td>\n",
       "      <td>7.7</td>\n",
       "      <td>0.0</td>\n",
       "      <td>0.0</td>\n",
       "      <td>188.0</td>\n",
       "      <td>25.0</td>\n",
       "      <td>NaN</td>\n",
       "    </tr>\n",
       "    <tr>\n",
       "      <th>2024-12-29</th>\n",
       "      <td>4.5</td>\n",
       "      <td>8.4</td>\n",
       "      <td>7.133333</td>\n",
       "      <td>1.524006</td>\n",
       "      <td>6.1</td>\n",
       "      <td>7.4</td>\n",
       "      <td>6.812500</td>\n",
       "      <td>91.958333</td>\n",
       "      <td>231.291667</td>\n",
       "      <td>6.154167</td>\n",
       "      <td>15.4</td>\n",
       "      <td>0.1</td>\n",
       "      <td>0.0</td>\n",
       "      <td>210.0</td>\n",
       "      <td>26.0</td>\n",
       "      <td>NaN</td>\n",
       "    </tr>\n",
       "    <tr>\n",
       "      <th>2024-12-30</th>\n",
       "      <td>7.7</td>\n",
       "      <td>8.9</td>\n",
       "      <td>8.179167</td>\n",
       "      <td>2.204877</td>\n",
       "      <td>7.1</td>\n",
       "      <td>7.9</td>\n",
       "      <td>7.466667</td>\n",
       "      <td>91.041667</td>\n",
       "      <td>236.416667</td>\n",
       "      <td>8.741667</td>\n",
       "      <td>16.7</td>\n",
       "      <td>2.9</td>\n",
       "      <td>0.0</td>\n",
       "      <td>87.0</td>\n",
       "      <td>0.0</td>\n",
       "      <td>NaN</td>\n",
       "    </tr>\n",
       "    <tr>\n",
       "      <th>2024-12-31</th>\n",
       "      <td>7.9</td>\n",
       "      <td>8.6</td>\n",
       "      <td>8.300000</td>\n",
       "      <td>1.909754</td>\n",
       "      <td>7.5</td>\n",
       "      <td>7.8</td>\n",
       "      <td>7.600000</td>\n",
       "      <td>85.000000</td>\n",
       "      <td>261.000000</td>\n",
       "      <td>9.400000</td>\n",
       "      <td>16.4</td>\n",
       "      <td>0.0</td>\n",
       "      <td>0.0</td>\n",
       "      <td>0.0</td>\n",
       "      <td>0.0</td>\n",
       "      <td>NaN</td>\n",
       "    </tr>\n",
       "  </tbody>\n",
       "</table>\n",
       "</div>"
      ],
      "text/plain": [
       "            temp_min_daily  temp_max_daily  temp_mean_daily  \\\n",
       "time                                                          \n",
       "2024-12-27             4.0             6.0         5.250000   \n",
       "2024-12-28             3.3             5.1         4.116667   \n",
       "2024-12-29             4.5             8.4         7.133333   \n",
       "2024-12-30             7.7             8.9         8.179167   \n",
       "2024-12-31             7.9             8.6         8.300000   \n",
       "\n",
       "            temp_grass_mean_daily  temp_soil_min_daily  temp_soil_max_daily  \\\n",
       "time                                                                          \n",
       "2024-12-27               2.016421                  6.6                  7.4   \n",
       "2024-12-28               1.946083                  6.1                  6.9   \n",
       "2024-12-29               1.524006                  6.1                  7.4   \n",
       "2024-12-30               2.204877                  7.1                  7.9   \n",
       "2024-12-31               1.909754                  7.5                  7.8   \n",
       "\n",
       "            temp_soil_mean_daily  humidity_daily  wind_direction_daily  \\\n",
       "time                                                                     \n",
       "2024-12-27              6.941667       97.250000            223.583333   \n",
       "2024-12-28              6.445833       97.666667            217.708333   \n",
       "2024-12-29              6.812500       91.958333            231.291667   \n",
       "2024-12-30              7.466667       91.041667            236.416667   \n",
       "2024-12-31              7.600000       85.000000            261.000000   \n",
       "\n",
       "            wind_speed_daily  wind_gust_max_daily  precip_total_daily  \\\n",
       "time                                                                    \n",
       "2024-12-27          1.966667                  6.0                 0.0   \n",
       "2024-12-28          3.050000                  7.7                 0.0   \n",
       "2024-12-29          6.154167                 15.4                 0.1   \n",
       "2024-12-30          8.741667                 16.7                 2.9   \n",
       "2024-12-31          9.400000                 16.4                 0.0   \n",
       "\n",
       "            precip_duration_daily  radiation_global_daily  \\\n",
       "time                                                        \n",
       "2024-12-27                    0.0                   131.0   \n",
       "2024-12-28                    0.0                   188.0   \n",
       "2024-12-29                    0.0                   210.0   \n",
       "2024-12-30                    0.0                    87.0   \n",
       "2024-12-31                    0.0                     0.0   \n",
       "\n",
       "            sunshine_duration_daily  KarupBro  \n",
       "time                                           \n",
       "2024-12-27                     12.0       NaN  \n",
       "2024-12-28                     25.0       NaN  \n",
       "2024-12-29                     26.0       NaN  \n",
       "2024-12-30                      0.0       NaN  \n",
       "2024-12-31                      0.0       NaN  "
      ]
     },
     "execution_count": 4,
     "metadata": {},
     "output_type": "execute_result"
    }
   ],
   "source": [
    "DATA_PATH = '/Users/nicolaigarderhansen/Desktop/Bachelorprojekt/Forecasting-water-inflow/Data loading and handling/Cleaned data etc./data_cleaned_and_interpolated.csv'\n",
    "\n",
    "# Adjust these column names as needed.\n",
    "date_col = 'time'\n",
    "target_col = 'KarupBro'\n",
    "# List of meteorological features from DMI – update if needed.\n",
    "input_cols = [\n",
    "    'temp_min_daily', 'temp_max_daily', 'temp_mean_daily', \n",
    "    'temp_grass_mean_daily', 'temp_soil_min_daily', 'temp_soil_max_daily', \n",
    "    'temp_soil_mean_daily', 'humidity_daily', 'wind_direction_daily', \n",
    "    'wind_speed_daily', 'wind_gust_max_daily', 'precip_total_daily', \n",
    "    'precip_duration_daily', 'radiation_global_daily', \n",
    "    'sunshine_duration_daily'\n",
    "]\n",
    "\n",
    "\n",
    "# Read the CSV\n",
    "df = pd.read_csv(DATA_PATH, parse_dates=[date_col])\n",
    "df.sort_values(date_col, inplace=True)\n",
    "df.reset_index(drop=True, inplace=True)\n",
    "\n",
    "# Optional: Set the date column as index (if needed)\n",
    "df.set_index(date_col, inplace=True)\n",
    "\n",
    "df.tail()"
   ]
  },
  {
   "cell_type": "code",
   "execution_count": 5,
   "metadata": {},
   "outputs": [
    {
     "data": {
      "text/plain": [
       "temp_min_daily               0\n",
       "temp_max_daily               0\n",
       "temp_mean_daily              0\n",
       "temp_grass_mean_daily        0\n",
       "temp_soil_min_daily          0\n",
       "temp_soil_max_daily          0\n",
       "temp_soil_mean_daily         0\n",
       "humidity_daily               0\n",
       "wind_direction_daily         0\n",
       "wind_speed_daily             0\n",
       "wind_gust_max_daily          0\n",
       "precip_total_daily           0\n",
       "precip_duration_daily        0\n",
       "radiation_global_daily       0\n",
       "sunshine_duration_daily      0\n",
       "KarupBro                   366\n",
       "dtype: int64"
      ]
     },
     "execution_count": 5,
     "metadata": {},
     "output_type": "execute_result"
    }
   ],
   "source": [
    "# Check for missing values\n",
    "df.isnull().sum()"
   ]
  },
  {
   "cell_type": "code",
   "execution_count": 6,
   "metadata": {},
   "outputs": [
    {
     "data": {
      "text/plain": [
       "temp_min_daily             0\n",
       "temp_max_daily             0\n",
       "temp_mean_daily            0\n",
       "temp_grass_mean_daily      0\n",
       "temp_soil_min_daily        0\n",
       "temp_soil_max_daily        0\n",
       "temp_soil_mean_daily       0\n",
       "humidity_daily             0\n",
       "wind_direction_daily       0\n",
       "wind_speed_daily           0\n",
       "wind_gust_max_daily        0\n",
       "precip_total_daily         0\n",
       "precip_duration_daily      0\n",
       "radiation_global_daily     0\n",
       "sunshine_duration_daily    0\n",
       "KarupBro                   0\n",
       "dtype: int64"
      ]
     },
     "execution_count": 6,
     "metadata": {},
     "output_type": "execute_result"
    }
   ],
   "source": [
    "# Forward fill and check again\n",
    "df = df.iloc[:-366]\n",
    "df.isnull().sum()"
   ]
  },
  {
   "cell_type": "markdown",
   "metadata": {},
   "source": [
    "## Filtering data to simple model"
   ]
  },
  {
   "cell_type": "code",
   "execution_count": 7,
   "metadata": {},
   "outputs": [
    {
     "data": {
      "text/html": [
       "<div>\n",
       "<style scoped>\n",
       "    .dataframe tbody tr th:only-of-type {\n",
       "        vertical-align: middle;\n",
       "    }\n",
       "\n",
       "    .dataframe tbody tr th {\n",
       "        vertical-align: top;\n",
       "    }\n",
       "\n",
       "    .dataframe thead th {\n",
       "        text-align: right;\n",
       "    }\n",
       "</style>\n",
       "<table border=\"1\" class=\"dataframe\">\n",
       "  <thead>\n",
       "    <tr style=\"text-align: right;\">\n",
       "      <th></th>\n",
       "      <th>temp_mean_daily</th>\n",
       "      <th>precip_total_daily</th>\n",
       "      <th>KarupBro</th>\n",
       "    </tr>\n",
       "    <tr>\n",
       "      <th>time</th>\n",
       "      <th></th>\n",
       "      <th></th>\n",
       "      <th></th>\n",
       "    </tr>\n",
       "  </thead>\n",
       "  <tbody>\n",
       "    <tr>\n",
       "      <th>2002-01-01</th>\n",
       "      <td>1.250000</td>\n",
       "      <td>2.2</td>\n",
       "      <td>1829.75</td>\n",
       "    </tr>\n",
       "    <tr>\n",
       "      <th>2002-01-02</th>\n",
       "      <td>-0.837500</td>\n",
       "      <td>0.0</td>\n",
       "      <td>7279.46</td>\n",
       "    </tr>\n",
       "    <tr>\n",
       "      <th>2002-01-03</th>\n",
       "      <td>-5.166667</td>\n",
       "      <td>0.0</td>\n",
       "      <td>5261.85</td>\n",
       "    </tr>\n",
       "    <tr>\n",
       "      <th>2002-01-04</th>\n",
       "      <td>-6.025000</td>\n",
       "      <td>0.0</td>\n",
       "      <td>2951.97</td>\n",
       "    </tr>\n",
       "    <tr>\n",
       "      <th>2002-01-05</th>\n",
       "      <td>-3.466667</td>\n",
       "      <td>0.1</td>\n",
       "      <td>1868.53</td>\n",
       "    </tr>\n",
       "  </tbody>\n",
       "</table>\n",
       "</div>"
      ],
      "text/plain": [
       "            temp_mean_daily  precip_total_daily  KarupBro\n",
       "time                                                     \n",
       "2002-01-01         1.250000                 2.2   1829.75\n",
       "2002-01-02        -0.837500                 0.0   7279.46\n",
       "2002-01-03        -5.166667                 0.0   5261.85\n",
       "2002-01-04        -6.025000                 0.0   2951.97\n",
       "2002-01-05        -3.466667                 0.1   1868.53"
      ]
     },
     "execution_count": 7,
     "metadata": {},
     "output_type": "execute_result"
    }
   ],
   "source": [
    "df_simple = df[[\"temp_mean_daily\", \"precip_total_daily\", \"KarupBro\"]]\n",
    "df_simple.head()"
   ]
  },
  {
   "cell_type": "code",
   "execution_count": 8,
   "metadata": {},
   "outputs": [
    {
     "data": {
      "text/plain": [
       "<Axes: xlabel='time'>"
      ]
     },
     "execution_count": 8,
     "metadata": {},
     "output_type": "execute_result"
    },
    {
     "data": {
      "image/png": "[encoded data removed]",
      "text/plain": [
       "<Figure size 640x480 with 1 Axes>"
      ]
     },
     "metadata": {},
     "output_type": "display_data"
    }
   ],
   "source": [
    "temp = df['temp_mean_daily']\n",
    "temp.plot()"
   ]
  },
  {
   "cell_type": "code",
   "execution_count": 9,
   "metadata": {},
   "outputs": [],
   "source": [
    "# Replace outliers with NaN\n",
    "df.loc[df[\"temp_mean_daily\"] > 35, \"temp_mean_daily\"] = np.nan\n",
    "\n",
    "# Forward-fill (ffill) the missing values\n",
    "df[\"temp_mean_daily\"] = df[\"temp_mean_daily\"].ffill()"
   ]
  },
  {
   "cell_type": "code",
   "execution_count": 10,
   "metadata": {},
   "outputs": [
    {
     "data": {
      "text/plain": [
       "<Axes: xlabel='time'>"
      ]
     },
     "execution_count": 10,
     "metadata": {},
     "output_type": "execute_result"
    },
    {
     "data": {
      "image/png": "[encoded data removed]",
      "text/plain": [
       "<Figure size 640x480 with 1 Axes>"
      ]
     },
     "metadata": {},
     "output_type": "display_data"
    }
   ],
   "source": [
    "temp.plot()"
   ]
  },
  {
   "cell_type": "code",
   "execution_count": 11,
   "metadata": {},
   "outputs": [
    {
     "data": {
      "text/plain": [
       "<Axes: xlabel='time'>"
      ]
     },
     "execution_count": 11,
     "metadata": {},
     "output_type": "execute_result"
    },
    {
     "data": {
      "image/png": "[encoded data removed]",
      "text/plain": [
       "<Figure size 640x480 with 1 Axes>"
      ]
     },
     "metadata": {},
     "output_type": "display_data"
    }
   ],
   "source": [
    "rain = df['precip_total_daily']\n",
    "rain.plot()"
   ]
  },
  {
   "cell_type": "code",
   "execution_count": 12,
   "metadata": {},
   "outputs": [],
   "source": [
    "import numpy as np\n",
    "\n",
    "# Replace outliers with NaN\n",
    "df.loc[df[\"precip_total_daily\"] > 100, \"precip_total_daily\"] = np.nan\n",
    "\n",
    "# Forward-fill (ffill) the missing values\n",
    "df[\"precip_total_daily\"] = df[\"precip_total_daily\"].ffill()"
   ]
  },
  {
   "cell_type": "code",
   "execution_count": 13,
   "metadata": {},
   "outputs": [
    {
     "data": {
      "text/plain": [
       "<Axes: xlabel='time'>"
      ]
     },
     "execution_count": 13,
     "metadata": {},
     "output_type": "execute_result"
    },
    {
     "data": {
      "image/png": "[encoded data removed]",
      "text/plain": [
       "<Figure size 640x480 with 1 Axes>"
      ]
     },
     "metadata": {},
     "output_type": "display_data"
    }
   ],
   "source": [
    "rain.plot()"
   ]
  },
  {
   "cell_type": "code",
   "execution_count": 14,
   "metadata": {},
   "outputs": [
    {
     "data": {
      "text/plain": [
       "<Axes: xlabel='time'>"
      ]
     },
     "execution_count": 14,
     "metadata": {},
     "output_type": "execute_result"
    },
    {
     "data": {
      "image/png": "[encoded data removed]",
      "text/plain": [
       "<Figure size 640x480 with 1 Axes>"
      ]
     },
     "metadata": {},
     "output_type": "display_data"
    }
   ],
   "source": [
    "inflow = df['KarupBro']\n",
    "inflow.plot()"
   ]
  },
  {
   "cell_type": "code",
   "execution_count": 15,
   "metadata": {},
   "outputs": [],
   "source": [
    "def df_to_X_y(df, window_size):\n",
    "  df_as_np = df.to_numpy()\n",
    "  X = []\n",
    "  y = []\n",
    "  for i in range(len(df_as_np)-window_size):\n",
    "    row = [[a] for a in df_as_np[i:i+window_size]]\n",
    "    X.append(row)\n",
    "    label = df_as_np[i+window_size]\n",
    "    y.append(label)\n",
    "  return np.array(X), np.array(y)"
   ]
  },
  {
   "cell_type": "code",
   "execution_count": 16,
   "metadata": {},
   "outputs": [
    {
     "data": {
      "text/plain": [
       "((8030, 5, 1), (8030,))"
      ]
     },
     "execution_count": 16,
     "metadata": {},
     "output_type": "execute_result"
    }
   ],
   "source": [
    "WINDOW_SIZE = 5\n",
    "X1, y1 = df_to_X_y(inflow, WINDOW_SIZE)\n",
    "X1.shape, y1.shape"
   ]
  },
  {
   "cell_type": "code",
   "execution_count": 17,
   "metadata": {},
   "outputs": [
    {
     "data": {
      "text/plain": [
       "((6000, 5, 1), (6000,), (1000, 5, 1), (1000,), (1030, 5, 1), (1030,))"
      ]
     },
     "execution_count": 17,
     "metadata": {},
     "output_type": "execute_result"
    }
   ],
   "source": [
    "X_train1, y_train1 = X1[:6000], y1[:6000]\n",
    "X_val1, y_val1 = X1[6000:7000], y1[6000:7000]\n",
    "X_test1, y_test1 = X1[7000:], y1[7000:]\n",
    "X_train1.shape, y_train1.shape, X_val1.shape, y_val1.shape, X_test1.shape, y_test1.shape"
   ]
  },
  {
   "cell_type": "code",
   "execution_count": 18,
   "metadata": {},
   "outputs": [
    {
     "name": "stdout",
     "output_type": "stream",
     "text": [
      "Model: \"sequential\"\n",
      "_________________________________________________________________\n",
      " Layer (type)                Output Shape              Param #   \n",
      "=================================================================\n",
      " lstm (LSTM)                 (None, 64)                16896     \n",
      "                                                                 \n",
      " dense (Dense)               (None, 8)                 520       \n",
      "                                                                 \n",
      " dense_1 (Dense)             (None, 1)                 9         \n",
      "                                                                 \n",
      "=================================================================\n",
      "Total params: 17425 (68.07 KB)\n",
      "Trainable params: 17425 (68.07 KB)\n",
      "Non-trainable params: 0 (0.00 Byte)\n",
      "_________________________________________________________________\n"
     ]
    }
   ],
   "source": [
    "from tensorflow.keras.models import Sequential\n",
    "from tensorflow.keras.layers import *\n",
    "from tensorflow.keras.callbacks import ModelCheckpoint\n",
    "from tensorflow.keras.losses import MeanSquaredError\n",
    "from tensorflow.keras.metrics import RootMeanSquaredError\n",
    "from tensorflow.keras.optimizers import Adam\n",
    "\n",
    "model1 = Sequential()\n",
    "model1.add(InputLayer((WINDOW_SIZE, 1)))\n",
    "model1.add(LSTM(64))\n",
    "model1.add(Dense(8, 'relu'))\n",
    "model1.add(Dense(1, 'linear'))\n",
    "\n",
    "model1.summary()"
   ]
  },
  {
   "cell_type": "code",
   "execution_count": 19,
   "metadata": {},
   "outputs": [
    {
     "name": "stderr",
     "output_type": "stream",
     "text": [
      "WARNING:absl:At this time, the v2.11+ optimizer `tf.keras.optimizers.Adam` runs slowly on M1/M2 Macs, please use the legacy Keras optimizer instead, located at `tf.keras.optimizers.legacy.Adam`.\n"
     ]
    }
   ],
   "source": [
    "cp1 = ModelCheckpoint('model1/', save_best_only=True)\n",
    "model1.compile(loss=MeanSquaredError(), optimizer=Adam(learning_rate=0.001), metrics=[RootMeanSquaredError()])"
   ]
  },
  {
   "cell_type": "code",
   "execution_count": 20,
   "metadata": {},
   "outputs": [
    {
     "name": "stdout",
     "output_type": "stream",
     "text": [
      "Epoch 1/50\n",
      "166/188 [=========================>....] - ETA: 0s - loss: 5514703.5000 - root_mean_squared_error: 2348.3406INFO:tensorflow:Assets written to: model1/assets\n"
     ]
    },
    {
     "name": "stderr",
     "output_type": "stream",
     "text": [
      "INFO:tensorflow:Assets written to: model1/assets\n"
     ]
    },
    {
     "name": "stdout",
     "output_type": "stream",
     "text": [
      "188/188 [==============================] - 2s 8ms/step - loss: 5462185.0000 - root_mean_squared_error: 2337.1318 - val_loss: 5493462.0000 - val_root_mean_squared_error: 2343.8135\n",
      "Epoch 2/50\n",
      "174/188 [==========================>...] - ETA: 0s - loss: 5426334.0000 - root_mean_squared_error: 2329.4492INFO:tensorflow:Assets written to: model1/assets\n"
     ]
    },
    {
     "name": "stderr",
     "output_type": "stream",
     "text": [
      "INFO:tensorflow:Assets written to: model1/assets\n"
     ]
    },
    {
     "name": "stdout",
     "output_type": "stream",
     "text": [
      "188/188 [==============================] - 1s 8ms/step - loss: 5415974.0000 - root_mean_squared_error: 2327.2246 - val_loss: 5432716.0000 - val_root_mean_squared_error: 2330.8188\n",
      "Epoch 3/50\n",
      "174/188 [==========================>...] - ETA: 0s - loss: 5346852.5000 - root_mean_squared_error: 2312.3262INFO:tensorflow:Assets written to: model1/assets\n"
     ]
    },
    {
     "name": "stderr",
     "output_type": "stream",
     "text": [
      "INFO:tensorflow:Assets written to: model1/assets\n"
     ]
    },
    {
     "name": "stdout",
     "output_type": "stream",
     "text": [
      "188/188 [==============================] - 1s 7ms/step - loss: 5327895.0000 - root_mean_squared_error: 2308.2234 - val_loss: 5328306.5000 - val_root_mean_squared_error: 2308.3125\n",
      "Epoch 4/50\n",
      "168/188 [=========================>....] - ETA: 0s - loss: 5328772.0000 - root_mean_squared_error: 2308.4133INFO:tensorflow:Assets written to: model1/assets\n"
     ]
    },
    {
     "name": "stderr",
     "output_type": "stream",
     "text": [
      "INFO:tensorflow:Assets written to: model1/assets\n"
     ]
    },
    {
     "name": "stdout",
     "output_type": "stream",
     "text": [
      "188/188 [==============================] - 1s 7ms/step - loss: 5199578.0000 - root_mean_squared_error: 2280.2583 - val_loss: 5187804.5000 - val_root_mean_squared_error: 2277.6753\n",
      "Epoch 5/50\n",
      "168/188 [=========================>....] - ETA: 0s - loss: 5048814.0000 - root_mean_squared_error: 2246.9565INFO:tensorflow:Assets written to: model1/assets\n"
     ]
    },
    {
     "name": "stderr",
     "output_type": "stream",
     "text": [
      "INFO:tensorflow:Assets written to: model1/assets\n"
     ]
    },
    {
     "name": "stdout",
     "output_type": "stream",
     "text": [
      "188/188 [==============================] - 1s 7ms/step - loss: 5036495.5000 - root_mean_squared_error: 2244.2139 - val_loss: 5017086.0000 - val_root_mean_squared_error: 2239.8853\n",
      "Epoch 6/50\n",
      "173/188 [==========================>...] - ETA: 0s - loss: 4824488.5000 - root_mean_squared_error: 2196.4719INFO:tensorflow:Assets written to: model1/assets\n"
     ]
    },
    {
     "name": "stderr",
     "output_type": "stream",
     "text": [
      "INFO:tensorflow:Assets written to: model1/assets\n"
     ]
    },
    {
     "name": "stdout",
     "output_type": "stream",
     "text": [
      "188/188 [==============================] - 2s 8ms/step - loss: 4842077.0000 - root_mean_squared_error: 2200.4719 - val_loss: 4831523.5000 - val_root_mean_squared_error: 2198.0728\n",
      "Epoch 7/50\n",
      "172/188 [==========================>...] - ETA: 0s - loss: 4649906.5000 - root_mean_squared_error: 2156.3643INFO:tensorflow:Assets written to: model1/assets\n"
     ]
    },
    {
     "name": "stderr",
     "output_type": "stream",
     "text": [
      "INFO:tensorflow:Assets written to: model1/assets\n"
     ]
    },
    {
     "name": "stdout",
     "output_type": "stream",
     "text": [
      "188/188 [==============================] - 1s 7ms/step - loss: 4634603.0000 - root_mean_squared_error: 2152.8127 - val_loss: 4630575.0000 - val_root_mean_squared_error: 2151.8772\n",
      "Epoch 8/50\n",
      "179/188 [===========================>..] - ETA: 0s - loss: 4380732.5000 - root_mean_squared_error: 2093.0200INFO:tensorflow:Assets written to: model1/assets\n"
     ]
    },
    {
     "name": "stderr",
     "output_type": "stream",
     "text": [
      "INFO:tensorflow:Assets written to: model1/assets\n"
     ]
    },
    {
     "name": "stdout",
     "output_type": "stream",
     "text": [
      "188/188 [==============================] - 1s 6ms/step - loss: 4421930.0000 - root_mean_squared_error: 2102.8386 - val_loss: 4433111.5000 - val_root_mean_squared_error: 2105.4956\n",
      "Epoch 9/50\n",
      "175/188 [==========================>...] - ETA: 0s - loss: 4268140.0000 - root_mean_squared_error: 2065.9478INFO:tensorflow:Assets written to: model1/assets\n"
     ]
    },
    {
     "name": "stderr",
     "output_type": "stream",
     "text": [
      "INFO:tensorflow:Assets written to: model1/assets\n"
     ]
    },
    {
     "name": "stdout",
     "output_type": "stream",
     "text": [
      "188/188 [==============================] - 1s 8ms/step - loss: 4210966.0000 - root_mean_squared_error: 2052.0637 - val_loss: 4239343.5000 - val_root_mean_squared_error: 2058.9666\n",
      "Epoch 10/50\n",
      "181/188 [===========================>..] - ETA: 0s - loss: 4000368.0000 - root_mean_squared_error: 2000.0920INFO:tensorflow:Assets written to: model1/assets\n"
     ]
    },
    {
     "name": "stderr",
     "output_type": "stream",
     "text": [
      "INFO:tensorflow:Assets written to: model1/assets\n"
     ]
    },
    {
     "name": "stdout",
     "output_type": "stream",
     "text": [
      "188/188 [==============================] - 1s 7ms/step - loss: 4004929.2500 - root_mean_squared_error: 2001.2319 - val_loss: 4054062.5000 - val_root_mean_squared_error: 2013.4702\n",
      "Epoch 11/50\n",
      "180/188 [===========================>..] - ETA: 0s - loss: 3811226.2500 - root_mean_squared_error: 1952.2362INFO:tensorflow:Assets written to: model1/assets\n"
     ]
    },
    {
     "name": "stderr",
     "output_type": "stream",
     "text": [
      "INFO:tensorflow:Assets written to: model1/assets\n"
     ]
    },
    {
     "name": "stdout",
     "output_type": "stream",
     "text": [
      "188/188 [==============================] - 1s 7ms/step - loss: 3807349.5000 - root_mean_squared_error: 1951.2430 - val_loss: 3871771.5000 - val_root_mean_squared_error: 1967.6818\n",
      "Epoch 12/50\n",
      "175/188 [==========================>...] - ETA: 0s - loss: 3612522.5000 - root_mean_squared_error: 1900.6637INFO:tensorflow:Assets written to: model1/assets\n"
     ]
    },
    {
     "name": "stderr",
     "output_type": "stream",
     "text": [
      "INFO:tensorflow:Assets written to: model1/assets\n"
     ]
    },
    {
     "name": "stdout",
     "output_type": "stream",
     "text": [
      "188/188 [==============================] - 1s 7ms/step - loss: 3614161.0000 - root_mean_squared_error: 1901.0947 - val_loss: 3688403.7500 - val_root_mean_squared_error: 1920.5217\n",
      "Epoch 13/50\n",
      "175/188 [==========================>...] - ETA: 0s - loss: 3406341.5000 - root_mean_squared_error: 1845.6277INFO:tensorflow:Assets written to: model1/assets\n"
     ]
    },
    {
     "name": "stderr",
     "output_type": "stream",
     "text": [
      "INFO:tensorflow:Assets written to: model1/assets\n"
     ]
    },
    {
     "name": "stdout",
     "output_type": "stream",
     "text": [
      "188/188 [==============================] - 1s 8ms/step - loss: 3425483.7500 - root_mean_squared_error: 1850.8063 - val_loss: 3506452.2500 - val_root_mean_squared_error: 1872.5524\n",
      "Epoch 14/50\n",
      "164/188 [=========================>....] - ETA: 0s - loss: 3214711.2500 - root_mean_squared_error: 1792.9615INFO:tensorflow:Assets written to: model1/assets\n"
     ]
    },
    {
     "name": "stderr",
     "output_type": "stream",
     "text": [
      "INFO:tensorflow:Assets written to: model1/assets\n"
     ]
    },
    {
     "name": "stdout",
     "output_type": "stream",
     "text": [
      "188/188 [==============================] - 1s 7ms/step - loss: 3245777.5000 - root_mean_squared_error: 1801.6041 - val_loss: 3344736.0000 - val_root_mean_squared_error: 1828.8619\n",
      "Epoch 15/50\n",
      "181/188 [===========================>..] - ETA: 0s - loss: 3090788.5000 - root_mean_squared_error: 1758.0638INFO:tensorflow:Assets written to: model1/assets\n"
     ]
    },
    {
     "name": "stderr",
     "output_type": "stream",
     "text": [
      "INFO:tensorflow:Assets written to: model1/assets\n"
     ]
    },
    {
     "name": "stdout",
     "output_type": "stream",
     "text": [
      "188/188 [==============================] - 1s 6ms/step - loss: 3079889.0000 - root_mean_squared_error: 1754.9613 - val_loss: 3186593.5000 - val_root_mean_squared_error: 1785.1033\n",
      "Epoch 16/50\n",
      "182/188 [============================>.] - ETA: 0s - loss: 2953697.7500 - root_mean_squared_error: 1718.6326INFO:tensorflow:Assets written to: model1/assets\n"
     ]
    },
    {
     "name": "stderr",
     "output_type": "stream",
     "text": [
      "INFO:tensorflow:Assets written to: model1/assets\n"
     ]
    },
    {
     "name": "stdout",
     "output_type": "stream",
     "text": [
      "188/188 [==============================] - 1s 6ms/step - loss: 2921016.0000 - root_mean_squared_error: 1709.0980 - val_loss: 3034683.2500 - val_root_mean_squared_error: 1742.0342\n",
      "Epoch 17/50\n",
      "179/188 [===========================>..] - ETA: 0s - loss: 2707761.7500 - root_mean_squared_error: 1645.5278INFO:tensorflow:Assets written to: model1/assets\n"
     ]
    },
    {
     "name": "stderr",
     "output_type": "stream",
     "text": [
      "INFO:tensorflow:Assets written to: model1/assets\n"
     ]
    },
    {
     "name": "stdout",
     "output_type": "stream",
     "text": [
      "188/188 [==============================] - 1s 8ms/step - loss: 2764833.0000 - root_mean_squared_error: 1662.7787 - val_loss: 2870584.0000 - val_root_mean_squared_error: 1694.2798\n",
      "Epoch 18/50\n",
      "165/188 [=========================>....] - ETA: 0s - loss: 2628915.7500 - root_mean_squared_error: 1621.3932INFO:tensorflow:Assets written to: model1/assets\n"
     ]
    },
    {
     "name": "stderr",
     "output_type": "stream",
     "text": [
      "INFO:tensorflow:Assets written to: model1/assets\n"
     ]
    },
    {
     "name": "stdout",
     "output_type": "stream",
     "text": [
      "188/188 [==============================] - 1s 7ms/step - loss: 2613848.7500 - root_mean_squared_error: 1616.7401 - val_loss: 2699125.2500 - val_root_mean_squared_error: 1642.9015\n",
      "Epoch 19/50\n",
      "180/188 [===========================>..] - ETA: 0s - loss: 2461399.0000 - root_mean_squared_error: 1568.8846INFO:tensorflow:Assets written to: model1/assets\n"
     ]
    },
    {
     "name": "stderr",
     "output_type": "stream",
     "text": [
      "INFO:tensorflow:Assets written to: model1/assets\n"
     ]
    },
    {
     "name": "stdout",
     "output_type": "stream",
     "text": [
      "188/188 [==============================] - 1s 7ms/step - loss: 2457737.2500 - root_mean_squared_error: 1567.7172 - val_loss: 2540270.5000 - val_root_mean_squared_error: 1593.8226\n",
      "Epoch 20/50\n",
      "174/188 [==========================>...] - ETA: 0s - loss: 2305041.0000 - root_mean_squared_error: 1518.2362INFO:tensorflow:Assets written to: model1/assets\n"
     ]
    },
    {
     "name": "stderr",
     "output_type": "stream",
     "text": [
      "INFO:tensorflow:Assets written to: model1/assets\n"
     ]
    },
    {
     "name": "stdout",
     "output_type": "stream",
     "text": [
      "188/188 [==============================] - 1s 8ms/step - loss: 2315842.5000 - root_mean_squared_error: 1521.7892 - val_loss: 2389345.0000 - val_root_mean_squared_error: 1545.7506\n",
      "Epoch 21/50\n",
      "167/188 [=========================>....] - ETA: 0s - loss: 2146187.2500 - root_mean_squared_error: 1464.9871INFO:tensorflow:Assets written to: model1/assets\n"
     ]
    },
    {
     "name": "stderr",
     "output_type": "stream",
     "text": [
      "INFO:tensorflow:Assets written to: model1/assets\n"
     ]
    },
    {
     "name": "stdout",
     "output_type": "stream",
     "text": [
      "188/188 [==============================] - 1s 7ms/step - loss: 2181076.2500 - root_mean_squared_error: 1476.8467 - val_loss: 2245470.0000 - val_root_mean_squared_error: 1498.4893\n",
      "Epoch 22/50\n",
      "170/188 [==========================>...] - ETA: 0s - loss: 2054048.2500 - root_mean_squared_error: 1433.1951INFO:tensorflow:Assets written to: model1/assets\n"
     ]
    },
    {
     "name": "stderr",
     "output_type": "stream",
     "text": [
      "INFO:tensorflow:Assets written to: model1/assets\n"
     ]
    },
    {
     "name": "stdout",
     "output_type": "stream",
     "text": [
      "188/188 [==============================] - 1s 7ms/step - loss: 2052213.7500 - root_mean_squared_error: 1432.5549 - val_loss: 2097541.5000 - val_root_mean_squared_error: 1448.2892\n",
      "Epoch 23/50\n",
      "181/188 [===========================>..] - ETA: 0s - loss: 1932591.7500 - root_mean_squared_error: 1390.1769INFO:tensorflow:Assets written to: model1/assets\n"
     ]
    },
    {
     "name": "stderr",
     "output_type": "stream",
     "text": [
      "INFO:tensorflow:Assets written to: model1/assets\n"
     ]
    },
    {
     "name": "stdout",
     "output_type": "stream",
     "text": [
      "188/188 [==============================] - 1s 6ms/step - loss: 1927066.2500 - root_mean_squared_error: 1388.1881 - val_loss: 1962916.5000 - val_root_mean_squared_error: 1401.0413\n",
      "Epoch 24/50\n",
      "174/188 [==========================>...] - ETA: 0s - loss: 1825279.1250 - root_mean_squared_error: 1351.0289INFO:tensorflow:Assets written to: model1/assets\n"
     ]
    },
    {
     "name": "stderr",
     "output_type": "stream",
     "text": [
      "INFO:tensorflow:Assets written to: model1/assets\n"
     ]
    },
    {
     "name": "stdout",
     "output_type": "stream",
     "text": [
      "188/188 [==============================] - 2s 8ms/step - loss: 1815147.5000 - root_mean_squared_error: 1347.2740 - val_loss: 1860127.6250 - val_root_mean_squared_error: 1363.8650\n",
      "Epoch 25/50\n",
      "172/188 [==========================>...] - ETA: 0s - loss: 1702460.2500 - root_mean_squared_error: 1304.7836INFO:tensorflow:Assets written to: model1/assets\n"
     ]
    },
    {
     "name": "stderr",
     "output_type": "stream",
     "text": [
      "INFO:tensorflow:Assets written to: model1/assets\n"
     ]
    },
    {
     "name": "stdout",
     "output_type": "stream",
     "text": [
      "188/188 [==============================] - 1s 7ms/step - loss: 1711056.8750 - root_mean_squared_error: 1308.0737 - val_loss: 1731237.0000 - val_root_mean_squared_error: 1315.7648\n",
      "Epoch 26/50\n",
      "177/188 [===========================>..] - ETA: 0s - loss: 1640044.8750 - root_mean_squared_error: 1280.6423INFO:tensorflow:Assets written to: model1/assets\n"
     ]
    },
    {
     "name": "stderr",
     "output_type": "stream",
     "text": [
      "INFO:tensorflow:Assets written to: model1/assets\n"
     ]
    },
    {
     "name": "stdout",
     "output_type": "stream",
     "text": [
      "188/188 [==============================] - 1s 6ms/step - loss: 1613647.5000 - root_mean_squared_error: 1270.2943 - val_loss: 1613883.1250 - val_root_mean_squared_error: 1270.3870\n",
      "Epoch 27/50\n",
      "176/188 [===========================>..] - ETA: 0s - loss: 1515375.7500 - root_mean_squared_error: 1231.0060INFO:tensorflow:Assets written to: model1/assets\n"
     ]
    },
    {
     "name": "stderr",
     "output_type": "stream",
     "text": [
      "INFO:tensorflow:Assets written to: model1/assets\n"
     ]
    },
    {
     "name": "stdout",
     "output_type": "stream",
     "text": [
      "188/188 [==============================] - 1s 6ms/step - loss: 1516099.1250 - root_mean_squared_error: 1231.2998 - val_loss: 1540366.7500 - val_root_mean_squared_error: 1241.1151\n",
      "Epoch 28/50\n",
      "177/188 [===========================>..] - ETA: 0s - loss: 1399262.6250 - root_mean_squared_error: 1182.9043INFO:tensorflow:Assets written to: model1/assets\n"
     ]
    },
    {
     "name": "stderr",
     "output_type": "stream",
     "text": [
      "INFO:tensorflow:Assets written to: model1/assets\n"
     ]
    },
    {
     "name": "stdout",
     "output_type": "stream",
     "text": [
      "188/188 [==============================] - 1s 8ms/step - loss: 1424871.5000 - root_mean_squared_error: 1193.6798 - val_loss: 1409789.7500 - val_root_mean_squared_error: 1187.3457\n",
      "Epoch 29/50\n",
      "164/188 [=========================>....] - ETA: 0s - loss: 1356948.0000 - root_mean_squared_error: 1164.8811INFO:tensorflow:Assets written to: model1/assets\n"
     ]
    },
    {
     "name": "stderr",
     "output_type": "stream",
     "text": [
      "INFO:tensorflow:Assets written to: model1/assets\n"
     ]
    },
    {
     "name": "stdout",
     "output_type": "stream",
     "text": [
      "188/188 [==============================] - 1s 7ms/step - loss: 1338768.7500 - root_mean_squared_error: 1157.0518 - val_loss: 1316157.0000 - val_root_mean_squared_error: 1147.2389\n",
      "Epoch 30/50\n",
      "179/188 [===========================>..] - ETA: 0s - loss: 1251103.8750 - root_mean_squared_error: 1118.5276INFO:tensorflow:Assets written to: model1/assets\n"
     ]
    },
    {
     "name": "stderr",
     "output_type": "stream",
     "text": [
      "INFO:tensorflow:Assets written to: model1/assets\n"
     ]
    },
    {
     "name": "stdout",
     "output_type": "stream",
     "text": [
      "188/188 [==============================] - 1s 7ms/step - loss: 1267088.0000 - root_mean_squared_error: 1125.6500 - val_loss: 1238795.3750 - val_root_mean_squared_error: 1113.0118\n",
      "Epoch 31/50\n",
      "175/188 [==========================>...] - ETA: 0s - loss: 1192000.5000 - root_mean_squared_error: 1091.7877INFO:tensorflow:Assets written to: model1/assets\n"
     ]
    },
    {
     "name": "stderr",
     "output_type": "stream",
     "text": [
      "INFO:tensorflow:Assets written to: model1/assets\n"
     ]
    },
    {
     "name": "stdout",
     "output_type": "stream",
     "text": [
      "188/188 [==============================] - 1s 8ms/step - loss: 1192835.8750 - root_mean_squared_error: 1092.1703 - val_loss: 1123907.1250 - val_root_mean_squared_error: 1060.1449\n",
      "Epoch 32/50\n",
      "180/188 [===========================>..] - ETA: 0s - loss: 1126085.5000 - root_mean_squared_error: 1061.1718INFO:tensorflow:Assets written to: model1/assets\n"
     ]
    },
    {
     "name": "stderr",
     "output_type": "stream",
     "text": [
      "INFO:tensorflow:Assets written to: model1/assets\n"
     ]
    },
    {
     "name": "stdout",
     "output_type": "stream",
     "text": [
      "188/188 [==============================] - 1s 6ms/step - loss: 1123533.2500 - root_mean_squared_error: 1059.9685 - val_loss: 1061490.5000 - val_root_mean_squared_error: 1030.2866\n",
      "Epoch 33/50\n",
      "182/188 [============================>.] - ETA: 0s - loss: 1067257.7500 - root_mean_squared_error: 1033.0817INFO:tensorflow:Assets written to: model1/assets\n"
     ]
    },
    {
     "name": "stderr",
     "output_type": "stream",
     "text": [
      "INFO:tensorflow:Assets written to: model1/assets\n"
     ]
    },
    {
     "name": "stdout",
     "output_type": "stream",
     "text": [
      "188/188 [==============================] - 1s 7ms/step - loss: 1056838.7500 - root_mean_squared_error: 1028.0266 - val_loss: 965417.4375 - val_root_mean_squared_error: 982.5566\n",
      "Epoch 34/50\n",
      "162/188 [========================>.....] - ETA: 0s - loss: 1002865.8750 - root_mean_squared_error: 1001.4319INFO:tensorflow:Assets written to: model1/assets\n"
     ]
    },
    {
     "name": "stderr",
     "output_type": "stream",
     "text": [
      "INFO:tensorflow:Assets written to: model1/assets\n"
     ]
    },
    {
     "name": "stdout",
     "output_type": "stream",
     "text": [
      "188/188 [==============================] - 1s 7ms/step - loss: 994754.3125 - root_mean_squared_error: 997.3737 - val_loss: 893479.9375 - val_root_mean_squared_error: 945.2407\n",
      "Epoch 35/50\n",
      "176/188 [===========================>..] - ETA: 0s - loss: 961654.6250 - root_mean_squared_error: 980.6399  INFO:tensorflow:Assets written to: model1/assets\n"
     ]
    },
    {
     "name": "stderr",
     "output_type": "stream",
     "text": [
      "INFO:tensorflow:Assets written to: model1/assets\n"
     ]
    },
    {
     "name": "stdout",
     "output_type": "stream",
     "text": [
      "188/188 [==============================] - 2s 8ms/step - loss: 938706.1875 - root_mean_squared_error: 968.8685 - val_loss: 831747.2500 - val_root_mean_squared_error: 912.0018\n",
      "Epoch 36/50\n",
      "179/188 [===========================>..] - ETA: 0s - loss: 893382.4375 - root_mean_squared_error: 945.1891INFO:tensorflow:Assets written to: model1/assets\n"
     ]
    },
    {
     "name": "stderr",
     "output_type": "stream",
     "text": [
      "INFO:tensorflow:Assets written to: model1/assets\n"
     ]
    },
    {
     "name": "stdout",
     "output_type": "stream",
     "text": [
      "188/188 [==============================] - 1s 6ms/step - loss: 887954.9375 - root_mean_squared_error: 942.3136 - val_loss: 784782.3125 - val_root_mean_squared_error: 885.8794\n",
      "Epoch 37/50\n",
      "171/188 [==========================>...] - ETA: 0s - loss: 820377.0625 - root_mean_squared_error: 905.7467INFO:tensorflow:Assets written to: model1/assets\n"
     ]
    },
    {
     "name": "stderr",
     "output_type": "stream",
     "text": [
      "INFO:tensorflow:Assets written to: model1/assets\n"
     ]
    },
    {
     "name": "stdout",
     "output_type": "stream",
     "text": [
      "188/188 [==============================] - 1s 7ms/step - loss: 841796.6250 - root_mean_squared_error: 917.4948 - val_loss: 722956.1875 - val_root_mean_squared_error: 850.2683\n",
      "Epoch 38/50\n",
      "176/188 [===========================>..] - ETA: 0s - loss: 830813.7500 - root_mean_squared_error: 911.4899INFO:tensorflow:Assets written to: model1/assets\n"
     ]
    },
    {
     "name": "stderr",
     "output_type": "stream",
     "text": [
      "INFO:tensorflow:Assets written to: model1/assets\n"
     ]
    },
    {
     "name": "stdout",
     "output_type": "stream",
     "text": [
      "188/188 [==============================] - 1s 7ms/step - loss: 824796.9375 - root_mean_squared_error: 908.1833 - val_loss: 709813.5625 - val_root_mean_squared_error: 842.5043\n",
      "Epoch 39/50\n",
      "188/188 [==============================] - 0s 2ms/step - loss: 814094.8750 - root_mean_squared_error: 902.2720 - val_loss: 716679.7500 - val_root_mean_squared_error: 846.5694\n",
      "Epoch 40/50\n",
      "175/188 [==========================>...] - ETA: 0s - loss: 818395.5000 - root_mean_squared_error: 904.6522INFO:tensorflow:Assets written to: model1/assets\n"
     ]
    },
    {
     "name": "stderr",
     "output_type": "stream",
     "text": [
      "INFO:tensorflow:Assets written to: model1/assets\n"
     ]
    },
    {
     "name": "stdout",
     "output_type": "stream",
     "text": [
      "188/188 [==============================] - 2s 8ms/step - loss: 793346.8125 - root_mean_squared_error: 890.7002 - val_loss: 665798.0625 - val_root_mean_squared_error: 815.9645\n",
      "Epoch 41/50\n",
      "178/188 [===========================>..] - ETA: 0s - loss: 754862.9375 - root_mean_squared_error: 868.8285INFO:tensorflow:Assets written to: model1/assets\n"
     ]
    },
    {
     "name": "stderr",
     "output_type": "stream",
     "text": [
      "INFO:tensorflow:Assets written to: model1/assets\n"
     ]
    },
    {
     "name": "stdout",
     "output_type": "stream",
     "text": [
      "188/188 [==============================] - 1s 6ms/step - loss: 758036.5000 - root_mean_squared_error: 870.6529 - val_loss: 632209.8750 - val_root_mean_squared_error: 795.1163\n",
      "Epoch 42/50\n",
      "179/188 [===========================>..] - ETA: 0s - loss: 734789.8750 - root_mean_squared_error: 857.1989INFO:tensorflow:Assets written to: model1/assets\n"
     ]
    },
    {
     "name": "stderr",
     "output_type": "stream",
     "text": [
      "INFO:tensorflow:Assets written to: model1/assets\n"
     ]
    },
    {
     "name": "stdout",
     "output_type": "stream",
     "text": [
      "188/188 [==============================] - 1s 6ms/step - loss: 722661.3750 - root_mean_squared_error: 850.0949 - val_loss: 592535.2500 - val_root_mean_squared_error: 769.7631\n",
      "Epoch 43/50\n",
      "188/188 [==============================] - 0s 2ms/step - loss: 695391.9375 - root_mean_squared_error: 833.9016 - val_loss: 632685.3750 - val_root_mean_squared_error: 795.4152\n",
      "Epoch 44/50\n",
      "181/188 [===========================>..] - ETA: 0s - loss: 708801.3125 - root_mean_squared_error: 841.9034INFO:tensorflow:Assets written to: model1/assets\n"
     ]
    },
    {
     "name": "stderr",
     "output_type": "stream",
     "text": [
      "INFO:tensorflow:Assets written to: model1/assets\n"
     ]
    },
    {
     "name": "stdout",
     "output_type": "stream",
     "text": [
      "188/188 [==============================] - 1s 6ms/step - loss: 704919.1875 - root_mean_squared_error: 839.5947 - val_loss: 575307.9375 - val_root_mean_squared_error: 758.4905\n",
      "Epoch 45/50\n",
      "173/188 [==========================>...] - ETA: 0s - loss: 668320.1250 - root_mean_squared_error: 817.5085INFO:tensorflow:Assets written to: model1/assets\n"
     ]
    },
    {
     "name": "stderr",
     "output_type": "stream",
     "text": [
      "INFO:tensorflow:Assets written to: model1/assets\n"
     ]
    },
    {
     "name": "stdout",
     "output_type": "stream",
     "text": [
      "188/188 [==============================] - 1s 8ms/step - loss: 670460.6875 - root_mean_squared_error: 818.8167 - val_loss: 528071.3125 - val_root_mean_squared_error: 726.6852\n",
      "Epoch 46/50\n",
      "188/188 [==============================] - 0s 2ms/step - loss: 671523.8125 - root_mean_squared_error: 819.4656 - val_loss: 543390.3750 - val_root_mean_squared_error: 737.1501\n",
      "Epoch 47/50\n",
      "184/188 [============================>.] - ETA: 0s - loss: 676063.3125 - root_mean_squared_error: 822.2307INFO:tensorflow:Assets written to: model1/assets\n"
     ]
    },
    {
     "name": "stderr",
     "output_type": "stream",
     "text": [
      "INFO:tensorflow:Assets written to: model1/assets\n"
     ]
    },
    {
     "name": "stdout",
     "output_type": "stream",
     "text": [
      "188/188 [==============================] - 1s 7ms/step - loss: 674524.7500 - root_mean_squared_error: 821.2946 - val_loss: 520394.5938 - val_root_mean_squared_error: 721.3838\n",
      "Epoch 48/50\n",
      "188/188 [==============================] - 0s 2ms/step - loss: 652346.6875 - root_mean_squared_error: 807.6798 - val_loss: 555783.6250 - val_root_mean_squared_error: 745.5090\n",
      "Epoch 49/50\n",
      "180/188 [===========================>..] - ETA: 0s - loss: 657213.7500 - root_mean_squared_error: 810.6872INFO:tensorflow:Assets written to: model1/assets\n"
     ]
    },
    {
     "name": "stderr",
     "output_type": "stream",
     "text": [
      "INFO:tensorflow:Assets written to: model1/assets\n"
     ]
    },
    {
     "name": "stdout",
     "output_type": "stream",
     "text": [
      "188/188 [==============================] - 1s 7ms/step - loss: 649223.0000 - root_mean_squared_error: 805.7438 - val_loss: 487682.7188 - val_root_mean_squared_error: 698.3428\n",
      "Epoch 50/50\n",
      "188/188 [==============================] - 0s 2ms/step - loss: 629926.3750 - root_mean_squared_error: 793.6790 - val_loss: 500867.4688 - val_root_mean_squared_error: 707.7199\n"
     ]
    },
    {
     "data": {
      "text/plain": [
       "<keras.src.callbacks.History at 0x338869ab0>"
      ]
     },
     "execution_count": 20,
     "metadata": {},
     "output_type": "execute_result"
    }
   ],
   "source": [
    "model1.fit(X_train1, y_train1, validation_data=(X_val1, y_val1), epochs=50, callbacks=[cp1])"
   ]
  },
  {
   "cell_type": "code",
   "execution_count": 21,
   "metadata": {},
   "outputs": [
    {
     "name": "stderr",
     "output_type": "stream",
     "text": [
      "WARNING:absl:At this time, the v2.11+ optimizer `tf.keras.optimizers.RestoredOptimizer` runs slowly on M1/M2 Macs, please use the legacy Keras optimizer instead, located at `tf.keras.optimizers.legacy.RestoredOptimizer`.\n",
      "WARNING:absl:At this time, the v2.11+ optimizer `tf.keras.optimizers.Adam` runs slowly on M1/M2 Macs, please use the legacy Keras optimizer instead, located at `tf.keras.optimizers.legacy.Adam`.\n"
     ]
    }
   ],
   "source": [
    "from tensorflow.keras.models import load_model\n",
    "model1 = load_model('model1/')"
   ]
  },
  {
   "cell_type": "code",
   "execution_count": null,
   "metadata": {},
   "outputs": [],
   "source": [
    "from sklearn.metrics import root_mean_squared_error as rmse\n",
    "\n",
    "def plot_predictions1(model, X, y, start=0, end=100):\n",
    "  predictions = model.predict(X).flatten()\n",
    "  df = pd.DataFrame(data={'Predictions': predictions, 'Actuals':y})\n",
    "  plt.plot(df['Predictions'][start:end])\n",
    "  plt.plot(df['Actuals'][start:end])\n",
    "  return df, rmse(predictions, y)"
   ]
  },
  {
   "cell_type": "code",
   "execution_count": 23,
   "metadata": {},
   "outputs": [
    {
     "name": "stdout",
     "output_type": "stream",
     "text": [
      "33/33 [==============================] - 0s 731us/step\n"
     ]
    },
    {
     "data": {
      "text/plain": [
       "(      Predictions  Actuals\n",
       " 0     1102.664795  1015.35\n",
       " 1     1059.624268   905.19\n",
       " 2      952.546021   862.98\n",
       " 3      902.462341   832.00\n",
       " 4      877.966980  3217.89\n",
       " ...           ...      ...\n",
       " 1025  4437.940918  5197.40\n",
       " 1026  4430.281250  6368.46\n",
       " 1027  4438.378906  7162.01\n",
       " 1028  4438.382812  6869.41\n",
       " 1029  4438.382812  6335.36\n",
       " \n",
       " [1030 rows x 2 columns],\n",
       " 727.4132943708966)"
      ]
     },
     "execution_count": 23,
     "metadata": {},
     "output_type": "execute_result"
    },
    {
     "data": {
      "image/png": "[encoded data removed]",
      "text/plain": [
       "<Figure size 640x480 with 1 Axes>"
      ]
     },
     "metadata": {},
     "output_type": "display_data"
    }
   ],
   "source": [
    "plot_predictions1(model1, X_test1, y_test1)"
   ]
  },
  {
   "cell_type": "markdown",
   "metadata": {},
   "source": [
    "## Conv1D model"
   ]
  },
  {
   "cell_type": "code",
   "execution_count": 24,
   "metadata": {},
   "outputs": [
    {
     "name": "stdout",
     "output_type": "stream",
     "text": [
      "Model: \"sequential_1\"\n",
      "_________________________________________________________________\n",
      " Layer (type)                Output Shape              Param #   \n",
      "=================================================================\n",
      " conv1d (Conv1D)             (None, 4, 64)             192       \n",
      "                                                                 \n",
      " flatten (Flatten)           (None, 256)               0         \n",
      "                                                                 \n",
      " dense_2 (Dense)             (None, 8)                 2056      \n",
      "                                                                 \n",
      " dense_3 (Dense)             (None, 1)                 9         \n",
      "                                                                 \n",
      "=================================================================\n",
      "Total params: 2257 (8.82 KB)\n",
      "Trainable params: 2257 (8.82 KB)\n",
      "Non-trainable params: 0 (0.00 Byte)\n",
      "_________________________________________________________________\n"
     ]
    }
   ],
   "source": [
    "model2 = Sequential()\n",
    "model2.add(InputLayer((5, 1)))\n",
    "model2.add(Conv1D(64, kernel_size=2, activation='relu'))\n",
    "model2.add(Flatten())\n",
    "model2.add(Dense(8, 'relu'))\n",
    "model2.add(Dense(1, 'linear'))\n",
    "model2.summary()"
   ]
  },
  {
   "cell_type": "code",
   "execution_count": 25,
   "metadata": {},
   "outputs": [
    {
     "name": "stderr",
     "output_type": "stream",
     "text": [
      "WARNING:absl:At this time, the v2.11+ optimizer `tf.keras.optimizers.Adam` runs slowly on M1/M2 Macs, please use the legacy Keras optimizer instead, located at `tf.keras.optimizers.legacy.Adam`.\n"
     ]
    }
   ],
   "source": [
    "cp2 = ModelCheckpoint('model2/', save_best_only=True)\n",
    "model2.compile(loss=MeanSquaredError(), optimizer=Adam(learning_rate=0.001), metrics=[RootMeanSquaredError()])"
   ]
  },
  {
   "cell_type": "code",
   "execution_count": 26,
   "metadata": {},
   "outputs": [
    {
     "name": "stdout",
     "output_type": "stream",
     "text": [
      "Epoch 1/50\n",
      " 87/188 [============>.................] - ETA: 0s - loss: 1441450.0000 - root_mean_squared_error: 1200.6040  INFO:tensorflow:Assets written to: model2/assets\n"
     ]
    },
    {
     "name": "stderr",
     "output_type": "stream",
     "text": [
      "INFO:tensorflow:Assets written to: model2/assets\n"
     ]
    },
    {
     "name": "stdout",
     "output_type": "stream",
     "text": [
      "188/188 [==============================] - 1s 2ms/step - loss: 1043390.8125 - root_mean_squared_error: 1021.4650 - val_loss: 333985.5938 - val_root_mean_squared_error: 577.9149\n",
      "Epoch 2/50\n",
      "112/188 [================>.............] - ETA: 0s - loss: 438832.7812 - root_mean_squared_error: 662.4446INFO:tensorflow:Assets written to: model2/assets\n"
     ]
    },
    {
     "name": "stderr",
     "output_type": "stream",
     "text": [
      "INFO:tensorflow:Assets written to: model2/assets\n"
     ]
    },
    {
     "name": "stdout",
     "output_type": "stream",
     "text": [
      "188/188 [==============================] - 0s 1ms/step - loss: 390132.0625 - root_mean_squared_error: 624.6055 - val_loss: 172365.0156 - val_root_mean_squared_error: 415.1687\n",
      "Epoch 3/50\n",
      "188/188 [==============================] - 0s 629us/step - loss: 334550.0938 - root_mean_squared_error: 578.4031 - val_loss: 197843.8906 - val_root_mean_squared_error: 444.7964\n",
      "Epoch 4/50\n",
      "188/188 [==============================] - 0s 578us/step - loss: 333143.2812 - root_mean_squared_error: 577.1857 - val_loss: 177214.2344 - val_root_mean_squared_error: 420.9682\n",
      "Epoch 5/50\n",
      "112/188 [================>.............] - ETA: 0s - loss: 290752.7500 - root_mean_squared_error: 539.2150INFO:tensorflow:Assets written to: model2/assets\n"
     ]
    },
    {
     "name": "stderr",
     "output_type": "stream",
     "text": [
      "INFO:tensorflow:Assets written to: model2/assets\n"
     ]
    },
    {
     "name": "stdout",
     "output_type": "stream",
     "text": [
      "188/188 [==============================] - 0s 1ms/step - loss: 326904.1562 - root_mean_squared_error: 571.7553 - val_loss: 158057.4844 - val_root_mean_squared_error: 397.5645\n",
      "Epoch 6/50\n",
      "188/188 [==============================] - 0s 581us/step - loss: 323849.6562 - root_mean_squared_error: 569.0779 - val_loss: 162341.8906 - val_root_mean_squared_error: 402.9167\n",
      "Epoch 7/50\n",
      "188/188 [==============================] - 0s 661us/step - loss: 321383.4062 - root_mean_squared_error: 566.9069 - val_loss: 175262.5781 - val_root_mean_squared_error: 418.6437\n",
      "Epoch 8/50\n",
      "188/188 [==============================] - 0s 775us/step - loss: 325593.8125 - root_mean_squared_error: 570.6083 - val_loss: 176466.3125 - val_root_mean_squared_error: 420.0789\n",
      "Epoch 9/50\n",
      "188/188 [==============================] - 0s 595us/step - loss: 324947.5938 - root_mean_squared_error: 570.0417 - val_loss: 166930.2344 - val_root_mean_squared_error: 408.5710\n",
      "Epoch 10/50\n",
      "103/188 [===============>..............] - ETA: 0s - loss: 293338.9062 - root_mean_squared_error: 541.6077INFO:tensorflow:Assets written to: model2/assets\n"
     ]
    },
    {
     "name": "stderr",
     "output_type": "stream",
     "text": [
      "INFO:tensorflow:Assets written to: model2/assets\n"
     ]
    },
    {
     "name": "stdout",
     "output_type": "stream",
     "text": [
      "188/188 [==============================] - 0s 2ms/step - loss: 318956.5625 - root_mean_squared_error: 564.7624 - val_loss: 156650.5781 - val_root_mean_squared_error: 395.7911\n",
      "Epoch 11/50\n",
      "188/188 [==============================] - 0s 581us/step - loss: 315222.5000 - root_mean_squared_error: 561.4468 - val_loss: 164340.0156 - val_root_mean_squared_error: 405.3887\n",
      "Epoch 12/50\n",
      "188/188 [==============================] - 0s 607us/step - loss: 316273.7188 - root_mean_squared_error: 562.3822 - val_loss: 164530.7656 - val_root_mean_squared_error: 405.6239\n",
      "Epoch 13/50\n",
      "188/188 [==============================] - 0s 568us/step - loss: 315034.5000 - root_mean_squared_error: 561.2794 - val_loss: 166495.6875 - val_root_mean_squared_error: 408.0388\n",
      "Epoch 14/50\n",
      "188/188 [==============================] - 0s 568us/step - loss: 316267.9062 - root_mean_squared_error: 562.3770 - val_loss: 182882.0312 - val_root_mean_squared_error: 427.6471\n",
      "Epoch 15/50\n",
      "188/188 [==============================] - 0s 564us/step - loss: 313883.4688 - root_mean_squared_error: 560.2531 - val_loss: 157022.4688 - val_root_mean_squared_error: 396.2606\n",
      "Epoch 16/50\n",
      "188/188 [==============================] - 0s 577us/step - loss: 317700.5938 - root_mean_squared_error: 563.6494 - val_loss: 168845.1562 - val_root_mean_squared_error: 410.9077\n",
      "Epoch 17/50\n",
      "188/188 [==============================] - 0s 568us/step - loss: 314235.4062 - root_mean_squared_error: 560.5670 - val_loss: 167813.1250 - val_root_mean_squared_error: 409.6500\n",
      "Epoch 18/50\n",
      "188/188 [==============================] - 0s 617us/step - loss: 319773.3750 - root_mean_squared_error: 565.4851 - val_loss: 176271.6562 - val_root_mean_squared_error: 419.8472\n",
      "Epoch 19/50\n",
      "188/188 [==============================] - 0s 622us/step - loss: 319915.4062 - root_mean_squared_error: 565.6107 - val_loss: 161674.1094 - val_root_mean_squared_error: 402.0872\n",
      "Epoch 20/50\n",
      "188/188 [==============================] - 0s 583us/step - loss: 313722.7812 - root_mean_squared_error: 560.1096 - val_loss: 166022.7969 - val_root_mean_squared_error: 407.4590\n",
      "Epoch 21/50\n",
      "188/188 [==============================] - 0s 561us/step - loss: 315444.3438 - root_mean_squared_error: 561.6443 - val_loss: 167578.2188 - val_root_mean_squared_error: 409.3632\n",
      "Epoch 22/50\n",
      "188/188 [==============================] - 0s 594us/step - loss: 318514.0312 - root_mean_squared_error: 564.3705 - val_loss: 173643.7656 - val_root_mean_squared_error: 416.7058\n",
      "Epoch 23/50\n",
      "188/188 [==============================] - 0s 602us/step - loss: 314714.8125 - root_mean_squared_error: 560.9945 - val_loss: 159692.0000 - val_root_mean_squared_error: 399.6148\n",
      "Epoch 24/50\n",
      "188/188 [==============================] - 0s 568us/step - loss: 315027.3750 - root_mean_squared_error: 561.2730 - val_loss: 179311.5781 - val_root_mean_squared_error: 423.4520\n",
      "Epoch 25/50\n",
      "188/188 [==============================] - 0s 723us/step - loss: 314119.8438 - root_mean_squared_error: 560.4639 - val_loss: 166657.2812 - val_root_mean_squared_error: 408.2368\n",
      "Epoch 26/50\n",
      "188/188 [==============================] - 0s 567us/step - loss: 317310.2188 - root_mean_squared_error: 563.3030 - val_loss: 160466.1406 - val_root_mean_squared_error: 400.5822\n",
      "Epoch 27/50\n",
      "188/188 [==============================] - 0s 570us/step - loss: 313008.7812 - root_mean_squared_error: 559.4719 - val_loss: 168476.5469 - val_root_mean_squared_error: 410.4590\n",
      "Epoch 28/50\n",
      "188/188 [==============================] - 0s 586us/step - loss: 315790.8438 - root_mean_squared_error: 561.9527 - val_loss: 159726.3594 - val_root_mean_squared_error: 399.6578\n",
      "Epoch 29/50\n",
      "188/188 [==============================] - 0s 600us/step - loss: 313830.0000 - root_mean_squared_error: 560.2053 - val_loss: 166379.4062 - val_root_mean_squared_error: 407.8963\n",
      "Epoch 30/50\n",
      "188/188 [==============================] - 0s 580us/step - loss: 317289.0312 - root_mean_squared_error: 563.2841 - val_loss: 161704.9375 - val_root_mean_squared_error: 402.1255\n",
      "Epoch 31/50\n",
      "188/188 [==============================] - 0s 573us/step - loss: 312319.0000 - root_mean_squared_error: 558.8551 - val_loss: 167825.5938 - val_root_mean_squared_error: 409.6652\n",
      "Epoch 32/50\n",
      "188/188 [==============================] - 0s 564us/step - loss: 313504.5625 - root_mean_squared_error: 559.9148 - val_loss: 166015.8281 - val_root_mean_squared_error: 407.4504\n",
      "Epoch 33/50\n",
      "188/188 [==============================] - 0s 567us/step - loss: 315127.2188 - root_mean_squared_error: 561.3619 - val_loss: 157326.0781 - val_root_mean_squared_error: 396.6435\n",
      "Epoch 34/50\n",
      "188/188 [==============================] - 0s 559us/step - loss: 311514.8438 - root_mean_squared_error: 558.1351 - val_loss: 161671.3906 - val_root_mean_squared_error: 402.0838\n",
      "Epoch 35/50\n",
      "188/188 [==============================] - 0s 595us/step - loss: 313673.3750 - root_mean_squared_error: 560.0655 - val_loss: 162940.2969 - val_root_mean_squared_error: 403.6586\n",
      "Epoch 36/50\n",
      "188/188 [==============================] - 0s 567us/step - loss: 316781.3125 - root_mean_squared_error: 562.8333 - val_loss: 162687.0625 - val_root_mean_squared_error: 403.3448\n",
      "Epoch 37/50\n",
      "188/188 [==============================] - 0s 560us/step - loss: 309826.4062 - root_mean_squared_error: 556.6205 - val_loss: 169569.6250 - val_root_mean_squared_error: 411.7883\n",
      "Epoch 38/50\n",
      "188/188 [==============================] - 0s 570us/step - loss: 311705.8125 - root_mean_squared_error: 558.3062 - val_loss: 157082.4531 - val_root_mean_squared_error: 396.3363\n",
      "Epoch 39/50\n",
      "188/188 [==============================] - 0s 568us/step - loss: 319497.2188 - root_mean_squared_error: 565.2408 - val_loss: 157982.9844 - val_root_mean_squared_error: 397.4707\n",
      "Epoch 40/50\n",
      "188/188 [==============================] - 0s 560us/step - loss: 312725.2500 - root_mean_squared_error: 559.2184 - val_loss: 168122.7344 - val_root_mean_squared_error: 410.0277\n",
      "Epoch 41/50\n",
      "188/188 [==============================] - 0s 566us/step - loss: 310827.2188 - root_mean_squared_error: 557.5188 - val_loss: 163843.1875 - val_root_mean_squared_error: 404.7755\n",
      "Epoch 42/50\n",
      "188/188 [==============================] - 0s 573us/step - loss: 309662.9688 - root_mean_squared_error: 556.4737 - val_loss: 185501.0469 - val_root_mean_squared_error: 430.6983\n",
      "Epoch 43/50\n",
      "188/188 [==============================] - 0s 699us/step - loss: 318399.1250 - root_mean_squared_error: 564.2687 - val_loss: 162487.3281 - val_root_mean_squared_error: 403.0972\n",
      "Epoch 44/50\n",
      "188/188 [==============================] - 0s 571us/step - loss: 312621.9375 - root_mean_squared_error: 559.1260 - val_loss: 158002.1406 - val_root_mean_squared_error: 397.4948\n",
      "Epoch 45/50\n",
      "188/188 [==============================] - 0s 570us/step - loss: 313231.2812 - root_mean_squared_error: 559.6707 - val_loss: 175898.6875 - val_root_mean_squared_error: 419.4028\n",
      "Epoch 46/50\n",
      "188/188 [==============================] - 0s 579us/step - loss: 311518.0938 - root_mean_squared_error: 558.1381 - val_loss: 168709.1562 - val_root_mean_squared_error: 410.7422\n",
      "Epoch 47/50\n",
      "188/188 [==============================] - 0s 573us/step - loss: 309700.2812 - root_mean_squared_error: 556.5072 - val_loss: 158939.8594 - val_root_mean_squared_error: 398.6726\n",
      "Epoch 48/50\n",
      "188/188 [==============================] - 0s 572us/step - loss: 312804.5938 - root_mean_squared_error: 559.2894 - val_loss: 162608.9219 - val_root_mean_squared_error: 403.2480\n",
      "Epoch 49/50\n",
      "188/188 [==============================] - 0s 572us/step - loss: 315479.5000 - root_mean_squared_error: 561.6756 - val_loss: 164088.4844 - val_root_mean_squared_error: 405.0784\n",
      "Epoch 50/50\n",
      "188/188 [==============================] - 0s 561us/step - loss: 311837.8750 - root_mean_squared_error: 558.4244 - val_loss: 169659.5625 - val_root_mean_squared_error: 411.8975\n"
     ]
    },
    {
     "data": {
      "text/plain": [
       "<keras.src.callbacks.History at 0x34dfb64a0>"
      ]
     },
     "execution_count": 26,
     "metadata": {},
     "output_type": "execute_result"
    }
   ],
   "source": [
    "model2.fit(X_train1, y_train1, validation_data=(X_val1, y_val1), epochs=50, callbacks=[cp2])"
   ]
  },
  {
   "cell_type": "code",
   "execution_count": 27,
   "metadata": {},
   "outputs": [
    {
     "name": "stdout",
     "output_type": "stream",
     "text": [
      "33/33 [==============================] - 0s 398us/step\n"
     ]
    },
    {
     "data": {
      "text/plain": [
       "(      Predictions  Actuals\n",
       " 0     1129.189331  1015.35\n",
       " 1     1142.062134   905.19\n",
       " 2      903.027893   862.98\n",
       " 3      960.515625   832.00\n",
       " 4      904.581360  3217.89\n",
       " ...           ...      ...\n",
       " 1025  6047.891113  5197.40\n",
       " 1026  5176.263184  6368.46\n",
       " 1027  7516.185547  7162.01\n",
       " 1028  7556.589844  6869.41\n",
       " 1029  6801.952637  6335.36\n",
       " \n",
       " [1030 rows x 2 columns],\n",
       " 445.4420017420537)"
      ]
     },
     "execution_count": 27,
     "metadata": {},
     "output_type": "execute_result"
    },
    {
     "data": {
      "image/png": "[encoded data removed]",
      "text/plain": [
       "<Figure size 640x480 with 1 Axes>"
      ]
     },
     "metadata": {},
     "output_type": "display_data"
    }
   ],
   "source": [
    "plot_predictions1(model2, X_test1, y_test1)"
   ]
  },
  {
   "cell_type": "markdown",
   "metadata": {},
   "source": [
    "## GRU Model"
   ]
  },
  {
   "cell_type": "code",
   "execution_count": 28,
   "metadata": {},
   "outputs": [
    {
     "name": "stdout",
     "output_type": "stream",
     "text": [
      "Model: \"sequential_2\"\n",
      "_________________________________________________________________\n",
      " Layer (type)                Output Shape              Param #   \n",
      "=================================================================\n",
      " gru (GRU)                   (None, 64)                12864     \n",
      "                                                                 \n",
      " dense_4 (Dense)             (None, 8)                 520       \n",
      "                                                                 \n",
      " dense_5 (Dense)             (None, 1)                 9         \n",
      "                                                                 \n",
      "=================================================================\n",
      "Total params: 13393 (52.32 KB)\n",
      "Trainable params: 13393 (52.32 KB)\n",
      "Non-trainable params: 0 (0.00 Byte)\n",
      "_________________________________________________________________\n"
     ]
    }
   ],
   "source": [
    "model3 = Sequential()\n",
    "model3.add(InputLayer((5, 1)))\n",
    "model3.add(GRU(64))\n",
    "model3.add(Dense(8, 'relu'))\n",
    "model3.add(Dense(1, 'linear'))\n",
    "model3.summary()"
   ]
  },
  {
   "cell_type": "code",
   "execution_count": 29,
   "metadata": {},
   "outputs": [
    {
     "name": "stderr",
     "output_type": "stream",
     "text": [
      "WARNING:absl:At this time, the v2.11+ optimizer `tf.keras.optimizers.Adam` runs slowly on M1/M2 Macs, please use the legacy Keras optimizer instead, located at `tf.keras.optimizers.legacy.Adam`.\n"
     ]
    }
   ],
   "source": [
    "cp3 = ModelCheckpoint('model3/', save_best_only=True)\n",
    "model3.compile(loss=MeanSquaredError(), optimizer=Adam(learning_rate=0.001), metrics=[RootMeanSquaredError()])"
   ]
  },
  {
   "cell_type": "code",
   "execution_count": 30,
   "metadata": {},
   "outputs": [
    {
     "name": "stdout",
     "output_type": "stream",
     "text": [
      "Epoch 1/50\n",
      "164/188 [=========================>....] - ETA: 0s - loss: 5359571.0000 - root_mean_squared_error: 2315.0747INFO:tensorflow:Assets written to: model3/assets\n"
     ]
    },
    {
     "name": "stderr",
     "output_type": "stream",
     "text": [
      "INFO:tensorflow:Assets written to: model3/assets\n"
     ]
    },
    {
     "name": "stdout",
     "output_type": "stream",
     "text": [
      "188/188 [==============================] - 2s 7ms/step - loss: 5432465.5000 - root_mean_squared_error: 2330.7649 - val_loss: 5425334.5000 - val_root_mean_squared_error: 2329.2349\n",
      "Epoch 2/50\n",
      "162/188 [========================>.....] - ETA: 0s - loss: 5340848.0000 - root_mean_squared_error: 2311.0276INFO:tensorflow:Assets written to: model3/assets\n"
     ]
    },
    {
     "name": "stderr",
     "output_type": "stream",
     "text": [
      "INFO:tensorflow:Assets written to: model3/assets\n"
     ]
    },
    {
     "name": "stdout",
     "output_type": "stream",
     "text": [
      "188/188 [==============================] - 1s 7ms/step - loss: 5277141.0000 - root_mean_squared_error: 2297.2029 - val_loss: 5221449.5000 - val_root_mean_squared_error: 2285.0491\n",
      "Epoch 3/50\n",
      "181/188 [===========================>..] - ETA: 0s - loss: 4965958.5000 - root_mean_squared_error: 2228.4431INFO:tensorflow:Assets written to: model3/assets\n"
     ]
    },
    {
     "name": "stderr",
     "output_type": "stream",
     "text": [
      "INFO:tensorflow:Assets written to: model3/assets\n"
     ]
    },
    {
     "name": "stdout",
     "output_type": "stream",
     "text": [
      "188/188 [==============================] - 1s 6ms/step - loss: 5009281.0000 - root_mean_squared_error: 2238.1423 - val_loss: 4929002.5000 - val_root_mean_squared_error: 2220.1357\n",
      "Epoch 4/50\n",
      "160/188 [========================>.....] - ETA: 0s - loss: 4669831.5000 - root_mean_squared_error: 2160.9792INFO:tensorflow:Assets written to: model3/assets\n"
     ]
    },
    {
     "name": "stderr",
     "output_type": "stream",
     "text": [
      "INFO:tensorflow:Assets written to: model3/assets\n"
     ]
    },
    {
     "name": "stdout",
     "output_type": "stream",
     "text": [
      "188/188 [==============================] - 1s 6ms/step - loss: 4655104.5000 - root_mean_squared_error: 2157.5691 - val_loss: 4565347.0000 - val_root_mean_squared_error: 2136.6672\n",
      "Epoch 5/50\n",
      "176/188 [===========================>..] - ETA: 0s - loss: 4278427.5000 - root_mean_squared_error: 2068.4360INFO:tensorflow:Assets written to: model3/assets\n"
     ]
    },
    {
     "name": "stderr",
     "output_type": "stream",
     "text": [
      "INFO:tensorflow:Assets written to: model3/assets\n"
     ]
    },
    {
     "name": "stdout",
     "output_type": "stream",
     "text": [
      "188/188 [==============================] - 1s 6ms/step - loss: 4262500.5000 - root_mean_squared_error: 2064.5825 - val_loss: 4203947.5000 - val_root_mean_squared_error: 2050.3530\n",
      "Epoch 6/50\n",
      "159/188 [========================>.....] - ETA: 0s - loss: 3887967.0000 - root_mean_squared_error: 1971.7928INFO:tensorflow:Assets written to: model3/assets\n"
     ]
    },
    {
     "name": "stderr",
     "output_type": "stream",
     "text": [
      "INFO:tensorflow:Assets written to: model3/assets\n"
     ]
    },
    {
     "name": "stdout",
     "output_type": "stream",
     "text": [
      "188/188 [==============================] - 1s 6ms/step - loss: 3884029.5000 - root_mean_squared_error: 1970.7942 - val_loss: 3871523.0000 - val_root_mean_squared_error: 1967.6187\n",
      "Epoch 7/50\n",
      "171/188 [==========================>...] - ETA: 0s - loss: 3457459.2500 - root_mean_squared_error: 1859.4244INFO:tensorflow:Assets written to: model3/assets\n"
     ]
    },
    {
     "name": "stderr",
     "output_type": "stream",
     "text": [
      "INFO:tensorflow:Assets written to: model3/assets\n"
     ]
    },
    {
     "name": "stdout",
     "output_type": "stream",
     "text": [
      "188/188 [==============================] - 1s 8ms/step - loss: 3544450.5000 - root_mean_squared_error: 1882.6711 - val_loss: 3591474.0000 - val_root_mean_squared_error: 1895.1184\n",
      "Epoch 8/50\n",
      "174/188 [==========================>...] - ETA: 0s - loss: 3255196.7500 - root_mean_squared_error: 1804.2164INFO:tensorflow:Assets written to: model3/assets\n"
     ]
    },
    {
     "name": "stderr",
     "output_type": "stream",
     "text": [
      "INFO:tensorflow:Assets written to: model3/assets\n"
     ]
    },
    {
     "name": "stdout",
     "output_type": "stream",
     "text": [
      "188/188 [==============================] - 1s 7ms/step - loss: 3264590.7500 - root_mean_squared_error: 1806.8179 - val_loss: 3372163.7500 - val_root_mean_squared_error: 1836.3452\n",
      "Epoch 9/50\n",
      "173/188 [==========================>...] - ETA: 0s - loss: 3068963.2500 - root_mean_squared_error: 1751.8457INFO:tensorflow:Assets written to: model3/assets\n"
     ]
    },
    {
     "name": "stderr",
     "output_type": "stream",
     "text": [
      "INFO:tensorflow:Assets written to: model3/assets\n"
     ]
    },
    {
     "name": "stdout",
     "output_type": "stream",
     "text": [
      "188/188 [==============================] - 1s 6ms/step - loss: 3068349.0000 - root_mean_squared_error: 1751.6703 - val_loss: 3241723.7500 - val_root_mean_squared_error: 1800.4788\n",
      "Epoch 10/50\n",
      "181/188 [===========================>..] - ETA: 0s - loss: 2949493.0000 - root_mean_squared_error: 1717.4088INFO:tensorflow:Assets written to: model3/assets\n"
     ]
    },
    {
     "name": "stderr",
     "output_type": "stream",
     "text": [
      "INFO:tensorflow:Assets written to: model3/assets\n"
     ]
    },
    {
     "name": "stdout",
     "output_type": "stream",
     "text": [
      "188/188 [==============================] - 1s 6ms/step - loss: 2927710.5000 - root_mean_squared_error: 1711.0554 - val_loss: 3139038.2500 - val_root_mean_squared_error: 1771.7332\n",
      "Epoch 11/50\n",
      "180/188 [===========================>..] - ETA: 0s - loss: 2867276.0000 - root_mean_squared_error: 1693.3032INFO:tensorflow:Assets written to: model3/assets\n"
     ]
    },
    {
     "name": "stderr",
     "output_type": "stream",
     "text": [
      "INFO:tensorflow:Assets written to: model3/assets\n"
     ]
    },
    {
     "name": "stdout",
     "output_type": "stream",
     "text": [
      "188/188 [==============================] - 1s 7ms/step - loss: 2820994.5000 - root_mean_squared_error: 1679.5817 - val_loss: 3059886.2500 - val_root_mean_squared_error: 1749.2531\n",
      "Epoch 12/50\n",
      "174/188 [==========================>...] - ETA: 0s - loss: 2745822.2500 - root_mean_squared_error: 1657.0522INFO:tensorflow:Assets written to: model3/assets\n"
     ]
    },
    {
     "name": "stderr",
     "output_type": "stream",
     "text": [
      "INFO:tensorflow:Assets written to: model3/assets\n"
     ]
    },
    {
     "name": "stdout",
     "output_type": "stream",
     "text": [
      "188/188 [==============================] - 1s 6ms/step - loss: 2746164.0000 - root_mean_squared_error: 1657.1554 - val_loss: 3014494.2500 - val_root_mean_squared_error: 1736.2299\n",
      "Epoch 13/50\n",
      "172/188 [==========================>...] - ETA: 0s - loss: 2666626.5000 - root_mean_squared_error: 1632.9808INFO:tensorflow:Assets written to: model3/assets\n"
     ]
    },
    {
     "name": "stderr",
     "output_type": "stream",
     "text": [
      "INFO:tensorflow:Assets written to: model3/assets\n"
     ]
    },
    {
     "name": "stdout",
     "output_type": "stream",
     "text": [
      "188/188 [==============================] - 1s 6ms/step - loss: 2699947.7500 - root_mean_squared_error: 1643.1517 - val_loss: 2986611.5000 - val_root_mean_squared_error: 1728.1815\n",
      "Epoch 14/50\n",
      "173/188 [==========================>...] - ETA: 0s - loss: 2633170.2500 - root_mean_squared_error: 1622.7046INFO:tensorflow:Assets written to: model3/assets\n"
     ]
    },
    {
     "name": "stderr",
     "output_type": "stream",
     "text": [
      "INFO:tensorflow:Assets written to: model3/assets\n"
     ]
    },
    {
     "name": "stdout",
     "output_type": "stream",
     "text": [
      "188/188 [==============================] - 1s 6ms/step - loss: 2671587.7500 - root_mean_squared_error: 1634.4993 - val_loss: 2968064.0000 - val_root_mean_squared_error: 1722.8070\n",
      "Epoch 15/50\n",
      "177/188 [===========================>..] - ETA: 0s - loss: 2666308.2500 - root_mean_squared_error: 1632.8834INFO:tensorflow:Assets written to: model3/assets\n"
     ]
    },
    {
     "name": "stderr",
     "output_type": "stream",
     "text": [
      "INFO:tensorflow:Assets written to: model3/assets\n"
     ]
    },
    {
     "name": "stdout",
     "output_type": "stream",
     "text": [
      "188/188 [==============================] - 1s 8ms/step - loss: 2652639.2500 - root_mean_squared_error: 1628.6925 - val_loss: 2953989.0000 - val_root_mean_squared_error: 1718.7173\n",
      "Epoch 16/50\n",
      "175/188 [==========================>...] - ETA: 0s - loss: 2596389.0000 - root_mean_squared_error: 1611.3314INFO:tensorflow:Assets written to: model3/assets\n"
     ]
    },
    {
     "name": "stderr",
     "output_type": "stream",
     "text": [
      "INFO:tensorflow:Assets written to: model3/assets\n"
     ]
    },
    {
     "name": "stdout",
     "output_type": "stream",
     "text": [
      "188/188 [==============================] - 1s 6ms/step - loss: 2636879.2500 - root_mean_squared_error: 1623.8470 - val_loss: 2940473.5000 - val_root_mean_squared_error: 1714.7809\n",
      "Epoch 17/50\n",
      "173/188 [==========================>...] - ETA: 0s - loss: 2623589.7500 - root_mean_squared_error: 1619.7499INFO:tensorflow:Assets written to: model3/assets\n"
     ]
    },
    {
     "name": "stderr",
     "output_type": "stream",
     "text": [
      "INFO:tensorflow:Assets written to: model3/assets\n"
     ]
    },
    {
     "name": "stdout",
     "output_type": "stream",
     "text": [
      "188/188 [==============================] - 1s 6ms/step - loss: 2624143.7500 - root_mean_squared_error: 1619.9209 - val_loss: 2927593.0000 - val_root_mean_squared_error: 1711.0210\n",
      "Epoch 18/50\n",
      "180/188 [===========================>..] - ETA: 0s - loss: 2593701.5000 - root_mean_squared_error: 1610.4973INFO:tensorflow:Assets written to: model3/assets\n"
     ]
    },
    {
     "name": "stderr",
     "output_type": "stream",
     "text": [
      "INFO:tensorflow:Assets written to: model3/assets\n"
     ]
    },
    {
     "name": "stdout",
     "output_type": "stream",
     "text": [
      "188/188 [==============================] - 1s 6ms/step - loss: 2612039.7500 - root_mean_squared_error: 1616.1807 - val_loss: 2916815.0000 - val_root_mean_squared_error: 1707.8685\n",
      "Epoch 19/50\n",
      "178/188 [===========================>..] - ETA: 0s - loss: 2613168.2500 - root_mean_squared_error: 1616.5297INFO:tensorflow:Assets written to: model3/assets\n"
     ]
    },
    {
     "name": "stderr",
     "output_type": "stream",
     "text": [
      "INFO:tensorflow:Assets written to: model3/assets\n"
     ]
    },
    {
     "name": "stdout",
     "output_type": "stream",
     "text": [
      "188/188 [==============================] - 1s 6ms/step - loss: 2602375.0000 - root_mean_squared_error: 1613.1879 - val_loss: 2902721.5000 - val_root_mean_squared_error: 1703.7375\n",
      "Epoch 20/50\n",
      "170/188 [==========================>...] - ETA: 0s - loss: 2568550.5000 - root_mean_squared_error: 1602.6698INFO:tensorflow:Assets written to: model3/assets\n"
     ]
    },
    {
     "name": "stderr",
     "output_type": "stream",
     "text": [
      "INFO:tensorflow:Assets written to: model3/assets\n"
     ]
    },
    {
     "name": "stdout",
     "output_type": "stream",
     "text": [
      "188/188 [==============================] - 1s 8ms/step - loss: 2590474.0000 - root_mean_squared_error: 1609.4950 - val_loss: 2890239.7500 - val_root_mean_squared_error: 1700.0706\n",
      "Epoch 21/50\n",
      "183/188 [============================>.] - ETA: 0s - loss: 2588192.5000 - root_mean_squared_error: 1608.7860INFO:tensorflow:Assets written to: model3/assets\n"
     ]
    },
    {
     "name": "stderr",
     "output_type": "stream",
     "text": [
      "INFO:tensorflow:Assets written to: model3/assets\n"
     ]
    },
    {
     "name": "stdout",
     "output_type": "stream",
     "text": [
      "188/188 [==============================] - 1s 6ms/step - loss: 2579741.7500 - root_mean_squared_error: 1606.1575 - val_loss: 2878442.2500 - val_root_mean_squared_error: 1696.5973\n",
      "Epoch 22/50\n",
      "170/188 [==========================>...] - ETA: 0s - loss: 2522834.0000 - root_mean_squared_error: 1588.3431INFO:tensorflow:Assets written to: model3/assets\n"
     ]
    },
    {
     "name": "stderr",
     "output_type": "stream",
     "text": [
      "INFO:tensorflow:Assets written to: model3/assets\n"
     ]
    },
    {
     "name": "stdout",
     "output_type": "stream",
     "text": [
      "188/188 [==============================] - 1s 6ms/step - loss: 2571803.7500 - root_mean_squared_error: 1603.6844 - val_loss: 2869785.2500 - val_root_mean_squared_error: 1694.0441\n",
      "Epoch 23/50\n",
      "164/188 [=========================>....] - ETA: 0s - loss: 2577498.5000 - root_mean_squared_error: 1605.4590INFO:tensorflow:Assets written to: model3/assets\n"
     ]
    },
    {
     "name": "stderr",
     "output_type": "stream",
     "text": [
      "INFO:tensorflow:Assets written to: model3/assets\n"
     ]
    },
    {
     "name": "stdout",
     "output_type": "stream",
     "text": [
      "188/188 [==============================] - 1s 6ms/step - loss: 2560362.2500 - root_mean_squared_error: 1600.1132 - val_loss: 2855109.0000 - val_root_mean_squared_error: 1689.7068\n",
      "Epoch 24/50\n",
      "173/188 [==========================>...] - ETA: 0s - loss: 2540524.0000 - root_mean_squared_error: 1593.9021INFO:tensorflow:Assets written to: model3/assets\n"
     ]
    },
    {
     "name": "stderr",
     "output_type": "stream",
     "text": [
      "INFO:tensorflow:Assets written to: model3/assets\n"
     ]
    },
    {
     "name": "stdout",
     "output_type": "stream",
     "text": [
      "188/188 [==============================] - 1s 6ms/step - loss: 2550525.0000 - root_mean_squared_error: 1597.0364 - val_loss: 2844520.2500 - val_root_mean_squared_error: 1686.5706\n",
      "Epoch 25/50\n",
      "181/188 [===========================>..] - ETA: 0s - loss: 2539684.0000 - root_mean_squared_error: 1593.6385INFO:tensorflow:Assets written to: model3/assets\n"
     ]
    },
    {
     "name": "stderr",
     "output_type": "stream",
     "text": [
      "INFO:tensorflow:Assets written to: model3/assets\n"
     ]
    },
    {
     "name": "stdout",
     "output_type": "stream",
     "text": [
      "188/188 [==============================] - 1s 8ms/step - loss: 2538402.2500 - root_mean_squared_error: 1593.2365 - val_loss: 2828169.7500 - val_root_mean_squared_error: 1681.7163\n",
      "Epoch 26/50\n",
      "176/188 [===========================>..] - ETA: 0s - loss: 2543614.2500 - root_mean_squared_error: 1594.8712INFO:tensorflow:Assets written to: model3/assets\n"
     ]
    },
    {
     "name": "stderr",
     "output_type": "stream",
     "text": [
      "INFO:tensorflow:Assets written to: model3/assets\n"
     ]
    },
    {
     "name": "stdout",
     "output_type": "stream",
     "text": [
      "188/188 [==============================] - 1s 6ms/step - loss: 2527777.5000 - root_mean_squared_error: 1589.8986 - val_loss: 2814861.7500 - val_root_mean_squared_error: 1677.7550\n",
      "Epoch 27/50\n",
      "178/188 [===========================>..] - ETA: 0s - loss: 2502914.2500 - root_mean_squared_error: 1582.0602INFO:tensorflow:Assets written to: model3/assets\n"
     ]
    },
    {
     "name": "stderr",
     "output_type": "stream",
     "text": [
      "INFO:tensorflow:Assets written to: model3/assets\n"
     ]
    },
    {
     "name": "stdout",
     "output_type": "stream",
     "text": [
      "188/188 [==============================] - 1s 6ms/step - loss: 2518668.0000 - root_mean_squared_error: 1587.0312 - val_loss: 2803586.0000 - val_root_mean_squared_error: 1674.3912\n",
      "Epoch 28/50\n",
      "183/188 [============================>.] - ETA: 0s - loss: 2505431.2500 - root_mean_squared_error: 1582.8555INFO:tensorflow:Assets written to: model3/assets\n"
     ]
    },
    {
     "name": "stderr",
     "output_type": "stream",
     "text": [
      "INFO:tensorflow:Assets written to: model3/assets\n"
     ]
    },
    {
     "name": "stdout",
     "output_type": "stream",
     "text": [
      "188/188 [==============================] - 1s 6ms/step - loss: 2506357.2500 - root_mean_squared_error: 1583.1479 - val_loss: 2791146.5000 - val_root_mean_squared_error: 1670.6725\n",
      "Epoch 29/50\n",
      "159/188 [========================>.....] - ETA: 0s - loss: 2526325.2500 - root_mean_squared_error: 1589.4418INFO:tensorflow:Assets written to: model3/assets\n"
     ]
    },
    {
     "name": "stderr",
     "output_type": "stream",
     "text": [
      "INFO:tensorflow:Assets written to: model3/assets\n"
     ]
    },
    {
     "name": "stdout",
     "output_type": "stream",
     "text": [
      "188/188 [==============================] - 1s 8ms/step - loss: 2498022.7500 - root_mean_squared_error: 1580.5134 - val_loss: 2778196.5000 - val_root_mean_squared_error: 1666.7922\n",
      "Epoch 30/50\n",
      "159/188 [========================>.....] - ETA: 0s - loss: 2509997.2500 - root_mean_squared_error: 1584.2971INFO:tensorflow:Assets written to: model3/assets\n"
     ]
    },
    {
     "name": "stderr",
     "output_type": "stream",
     "text": [
      "INFO:tensorflow:Assets written to: model3/assets\n"
     ]
    },
    {
     "name": "stdout",
     "output_type": "stream",
     "text": [
      "188/188 [==============================] - 1s 6ms/step - loss: 2487046.5000 - root_mean_squared_error: 1577.0372 - val_loss: 2763976.0000 - val_root_mean_squared_error: 1662.5210\n",
      "Epoch 31/50\n",
      "179/188 [===========================>..] - ETA: 0s - loss: 2436519.5000 - root_mean_squared_error: 1560.9354INFO:tensorflow:Assets written to: model3/assets\n"
     ]
    },
    {
     "name": "stderr",
     "output_type": "stream",
     "text": [
      "INFO:tensorflow:Assets written to: model3/assets\n"
     ]
    },
    {
     "name": "stdout",
     "output_type": "stream",
     "text": [
      "188/188 [==============================] - 1s 6ms/step - loss: 2472139.2500 - root_mean_squared_error: 1572.3038 - val_loss: 2744286.7500 - val_root_mean_squared_error: 1656.5889\n",
      "Epoch 32/50\n",
      "176/188 [===========================>..] - ETA: 0s - loss: 2477308.2500 - root_mean_squared_error: 1573.9467INFO:tensorflow:Assets written to: model3/assets\n"
     ]
    },
    {
     "name": "stderr",
     "output_type": "stream",
     "text": [
      "INFO:tensorflow:Assets written to: model3/assets\n"
     ]
    },
    {
     "name": "stdout",
     "output_type": "stream",
     "text": [
      "188/188 [==============================] - 1s 6ms/step - loss: 2460477.0000 - root_mean_squared_error: 1568.5908 - val_loss: 2734360.0000 - val_root_mean_squared_error: 1653.5901\n",
      "Epoch 33/50\n",
      "170/188 [==========================>...] - ETA: 0s - loss: 2473147.2500 - root_mean_squared_error: 1572.6243INFO:tensorflow:Assets written to: model3/assets\n"
     ]
    },
    {
     "name": "stderr",
     "output_type": "stream",
     "text": [
      "INFO:tensorflow:Assets written to: model3/assets\n"
     ]
    },
    {
     "name": "stdout",
     "output_type": "stream",
     "text": [
      "188/188 [==============================] - 2s 8ms/step - loss: 2448717.0000 - root_mean_squared_error: 1564.8376 - val_loss: 2717089.0000 - val_root_mean_squared_error: 1648.3595\n",
      "Epoch 34/50\n",
      "183/188 [============================>.] - ETA: 0s - loss: 2439458.7500 - root_mean_squared_error: 1561.8767INFO:tensorflow:Assets written to: model3/assets\n"
     ]
    },
    {
     "name": "stderr",
     "output_type": "stream",
     "text": [
      "INFO:tensorflow:Assets written to: model3/assets\n"
     ]
    },
    {
     "name": "stdout",
     "output_type": "stream",
     "text": [
      "188/188 [==============================] - 1s 6ms/step - loss: 2437578.0000 - root_mean_squared_error: 1561.2745 - val_loss: 2707040.2500 - val_root_mean_squared_error: 1645.3086\n",
      "Epoch 35/50\n",
      "164/188 [=========================>....] - ETA: 0s - loss: 2420478.5000 - root_mean_squared_error: 1555.7887INFO:tensorflow:Assets written to: model3/assets\n"
     ]
    },
    {
     "name": "stderr",
     "output_type": "stream",
     "text": [
      "INFO:tensorflow:Assets written to: model3/assets\n"
     ]
    },
    {
     "name": "stdout",
     "output_type": "stream",
     "text": [
      "188/188 [==============================] - 1s 6ms/step - loss: 2424585.5000 - root_mean_squared_error: 1557.1080 - val_loss: 2688567.0000 - val_root_mean_squared_error: 1639.6851\n",
      "Epoch 36/50\n",
      "176/188 [===========================>..] - ETA: 0s - loss: 2387269.2500 - root_mean_squared_error: 1545.0791INFO:tensorflow:Assets written to: model3/assets\n"
     ]
    },
    {
     "name": "stderr",
     "output_type": "stream",
     "text": [
      "INFO:tensorflow:Assets written to: model3/assets\n"
     ]
    },
    {
     "name": "stdout",
     "output_type": "stream",
     "text": [
      "188/188 [==============================] - 1s 6ms/step - loss: 2411730.5000 - root_mean_squared_error: 1552.9747 - val_loss: 2673688.0000 - val_root_mean_squared_error: 1635.1416\n",
      "Epoch 37/50\n",
      "179/188 [===========================>..] - ETA: 0s - loss: 2413924.2500 - root_mean_squared_error: 1553.6809INFO:tensorflow:Assets written to: model3/assets\n"
     ]
    },
    {
     "name": "stderr",
     "output_type": "stream",
     "text": [
      "INFO:tensorflow:Assets written to: model3/assets\n"
     ]
    },
    {
     "name": "stdout",
     "output_type": "stream",
     "text": [
      "188/188 [==============================] - 1s 6ms/step - loss: 2401518.0000 - root_mean_squared_error: 1549.6832 - val_loss: 2661299.7500 - val_root_mean_squared_error: 1631.3490\n",
      "Epoch 38/50\n",
      "180/188 [===========================>..] - ETA: 0s - loss: 2385946.7500 - root_mean_squared_error: 1544.6510INFO:tensorflow:Assets written to: model3/assets\n"
     ]
    },
    {
     "name": "stderr",
     "output_type": "stream",
     "text": [
      "INFO:tensorflow:Assets written to: model3/assets\n"
     ]
    },
    {
     "name": "stdout",
     "output_type": "stream",
     "text": [
      "188/188 [==============================] - 1s 8ms/step - loss: 2385976.7500 - root_mean_squared_error: 1544.6608 - val_loss: 2639396.7500 - val_root_mean_squared_error: 1624.6221\n",
      "Epoch 39/50\n",
      "181/188 [===========================>..] - ETA: 0s - loss: 2389875.0000 - root_mean_squared_error: 1545.9220INFO:tensorflow:Assets written to: model3/assets\n"
     ]
    },
    {
     "name": "stderr",
     "output_type": "stream",
     "text": [
      "INFO:tensorflow:Assets written to: model3/assets\n"
     ]
    },
    {
     "name": "stdout",
     "output_type": "stream",
     "text": [
      "188/188 [==============================] - 1s 6ms/step - loss: 2370079.2500 - root_mean_squared_error: 1539.5062 - val_loss: 2610590.0000 - val_root_mean_squared_error: 1615.7321\n",
      "Epoch 40/50\n",
      "176/188 [===========================>..] - ETA: 0s - loss: 2316546.0000 - root_mean_squared_error: 1522.0204INFO:tensorflow:Assets written to: model3/assets\n"
     ]
    },
    {
     "name": "stderr",
     "output_type": "stream",
     "text": [
      "INFO:tensorflow:Assets written to: model3/assets\n"
     ]
    },
    {
     "name": "stdout",
     "output_type": "stream",
     "text": [
      "188/188 [==============================] - 1s 6ms/step - loss: 2351681.5000 - root_mean_squared_error: 1533.5193 - val_loss: 2601736.5000 - val_root_mean_squared_error: 1612.9899\n",
      "Epoch 41/50\n",
      "166/188 [=========================>....] - ETA: 0s - loss: 2325011.7500 - root_mean_squared_error: 1524.7990INFO:tensorflow:Assets written to: model3/assets\n"
     ]
    },
    {
     "name": "stderr",
     "output_type": "stream",
     "text": [
      "INFO:tensorflow:Assets written to: model3/assets\n"
     ]
    },
    {
     "name": "stdout",
     "output_type": "stream",
     "text": [
      "188/188 [==============================] - 1s 6ms/step - loss: 2330065.5000 - root_mean_squared_error: 1526.4552 - val_loss: 2567403.2500 - val_root_mean_squared_error: 1602.3119\n",
      "Epoch 42/50\n",
      "176/188 [===========================>..] - ETA: 0s - loss: 2335263.5000 - root_mean_squared_error: 1528.1569INFO:tensorflow:Assets written to: model3/assets\n"
     ]
    },
    {
     "name": "stderr",
     "output_type": "stream",
     "text": [
      "INFO:tensorflow:Assets written to: model3/assets\n"
     ]
    },
    {
     "name": "stdout",
     "output_type": "stream",
     "text": [
      "188/188 [==============================] - 1s 7ms/step - loss: 2308758.0000 - root_mean_squared_error: 1519.4597 - val_loss: 2536762.2500 - val_root_mean_squared_error: 1592.7217\n",
      "Epoch 43/50\n",
      "187/188 [============================>.] - ETA: 0s - loss: 2288495.0000 - root_mean_squared_error: 1512.7772INFO:tensorflow:Assets written to: model3/assets\n"
     ]
    },
    {
     "name": "stderr",
     "output_type": "stream",
     "text": [
      "INFO:tensorflow:Assets written to: model3/assets\n"
     ]
    },
    {
     "name": "stdout",
     "output_type": "stream",
     "text": [
      "188/188 [==============================] - 1s 6ms/step - loss: 2288603.2500 - root_mean_squared_error: 1512.8130 - val_loss: 2512199.0000 - val_root_mean_squared_error: 1584.9918\n",
      "Epoch 44/50\n",
      "180/188 [===========================>..] - ETA: 0s - loss: 2266300.0000 - root_mean_squared_error: 1505.4236INFO:tensorflow:Assets written to: model3/assets\n"
     ]
    },
    {
     "name": "stderr",
     "output_type": "stream",
     "text": [
      "INFO:tensorflow:Assets written to: model3/assets\n"
     ]
    },
    {
     "name": "stdout",
     "output_type": "stream",
     "text": [
      "188/188 [==============================] - 1s 6ms/step - loss: 2270532.0000 - root_mean_squared_error: 1506.8285 - val_loss: 2494241.0000 - val_root_mean_squared_error: 1579.3167\n",
      "Epoch 45/50\n",
      "164/188 [=========================>....] - ETA: 0s - loss: 2280598.5000 - root_mean_squared_error: 1510.1650INFO:tensorflow:Assets written to: model3/assets\n"
     ]
    },
    {
     "name": "stderr",
     "output_type": "stream",
     "text": [
      "INFO:tensorflow:Assets written to: model3/assets\n"
     ]
    },
    {
     "name": "stdout",
     "output_type": "stream",
     "text": [
      "188/188 [==============================] - 1s 6ms/step - loss: 2251014.7500 - root_mean_squared_error: 1500.3383 - val_loss: 2462957.0000 - val_root_mean_squared_error: 1569.3811\n",
      "Epoch 46/50\n",
      "183/188 [============================>.] - ETA: 0s - loss: 2217500.0000 - root_mean_squared_error: 1489.1273INFO:tensorflow:Assets written to: model3/assets\n"
     ]
    },
    {
     "name": "stderr",
     "output_type": "stream",
     "text": [
      "INFO:tensorflow:Assets written to: model3/assets\n"
     ]
    },
    {
     "name": "stdout",
     "output_type": "stream",
     "text": [
      "188/188 [==============================] - 1s 8ms/step - loss: 2234243.5000 - root_mean_squared_error: 1494.7386 - val_loss: 2442321.7500 - val_root_mean_squared_error: 1562.7930\n",
      "Epoch 47/50\n",
      "173/188 [==========================>...] - ETA: 0s - loss: 2223795.0000 - root_mean_squared_error: 1491.2394INFO:tensorflow:Assets written to: model3/assets\n"
     ]
    },
    {
     "name": "stderr",
     "output_type": "stream",
     "text": [
      "INFO:tensorflow:Assets written to: model3/assets\n"
     ]
    },
    {
     "name": "stdout",
     "output_type": "stream",
     "text": [
      "188/188 [==============================] - 1s 6ms/step - loss: 2213749.5000 - root_mean_squared_error: 1487.8674 - val_loss: 2415706.0000 - val_root_mean_squared_error: 1554.2542\n",
      "Epoch 48/50\n",
      "179/188 [===========================>..] - ETA: 0s - loss: 2152300.5000 - root_mean_squared_error: 1467.0721INFO:tensorflow:Assets written to: model3/assets\n"
     ]
    },
    {
     "name": "stderr",
     "output_type": "stream",
     "text": [
      "INFO:tensorflow:Assets written to: model3/assets\n"
     ]
    },
    {
     "name": "stdout",
     "output_type": "stream",
     "text": [
      "188/188 [==============================] - 1s 6ms/step - loss: 2191739.0000 - root_mean_squared_error: 1480.4523 - val_loss: 2397100.7500 - val_root_mean_squared_error: 1548.2573\n",
      "Epoch 49/50\n",
      "186/188 [============================>.] - ETA: 0s - loss: 2181034.0000 - root_mean_squared_error: 1476.8324INFO:tensorflow:Assets written to: model3/assets\n"
     ]
    },
    {
     "name": "stderr",
     "output_type": "stream",
     "text": [
      "INFO:tensorflow:Assets written to: model3/assets\n"
     ]
    },
    {
     "name": "stdout",
     "output_type": "stream",
     "text": [
      "188/188 [==============================] - 1s 6ms/step - loss: 2173739.7500 - root_mean_squared_error: 1474.3608 - val_loss: 2370471.5000 - val_root_mean_squared_error: 1539.6335\n",
      "Epoch 50/50\n",
      "178/188 [===========================>..] - ETA: 0s - loss: 2149069.0000 - root_mean_squared_error: 1465.9703INFO:tensorflow:Assets written to: model3/assets\n"
     ]
    },
    {
     "name": "stderr",
     "output_type": "stream",
     "text": [
      "INFO:tensorflow:Assets written to: model3/assets\n"
     ]
    },
    {
     "name": "stdout",
     "output_type": "stream",
     "text": [
      "188/188 [==============================] - 1s 6ms/step - loss: 2156518.7500 - root_mean_squared_error: 1468.5090 - val_loss: 2346178.0000 - val_root_mean_squared_error: 1531.7239\n"
     ]
    },
    {
     "data": {
      "text/plain": [
       "<keras.src.callbacks.History at 0x3493df640>"
      ]
     },
     "execution_count": 30,
     "metadata": {},
     "output_type": "execute_result"
    }
   ],
   "source": [
    "model3.fit(X_train1, y_train1, validation_data=(X_val1, y_val1), epochs=50, callbacks=[cp3])"
   ]
  },
  {
   "cell_type": "code",
   "execution_count": 31,
   "metadata": {},
   "outputs": [
    {
     "name": "stdout",
     "output_type": "stream",
     "text": [
      "33/33 [==============================] - 0s 693us/step\n"
     ]
    },
    {
     "data": {
      "text/plain": [
       "(      Predictions  Actuals\n",
       " 0     1487.620361  1015.35\n",
       " 1     1408.475098   905.19\n",
       " 2     1403.660889   862.98\n",
       " 3     1403.625732   832.00\n",
       " 4     1403.625488  3217.89\n",
       " ...           ...      ...\n",
       " 1025  2125.947510  5197.40\n",
       " 1026  2125.947510  6368.46\n",
       " 1027  2125.947510  7162.01\n",
       " 1028  2125.947510  6869.41\n",
       " 1029  2125.947510  6335.36\n",
       " \n",
       " [1030 rows x 2 columns],\n",
       " 1575.0584163754088)"
      ]
     },
     "execution_count": 31,
     "metadata": {},
     "output_type": "execute_result"
    },
    {
     "data": {
      "image/png": "[encoded data removed]",
      "text/plain": [
       "<Figure size 640x480 with 1 Axes>"
      ]
     },
     "metadata": {},
     "output_type": "display_data"
    }
   ],
   "source": [
    "plot_predictions1(model3, X_test1, y_test1)"
   ]
  },
  {
   "cell_type": "markdown",
   "metadata": {},
   "source": [
    "## Multi-variable"
   ]
  },
  {
   "cell_type": "code",
   "execution_count": 74,
   "metadata": {},
   "outputs": [
    {
     "data": {
      "text/html": [
       "<div>\n",
       "<style scoped>\n",
       "    .dataframe tbody tr th:only-of-type {\n",
       "        vertical-align: middle;\n",
       "    }\n",
       "\n",
       "    .dataframe tbody tr th {\n",
       "        vertical-align: top;\n",
       "    }\n",
       "\n",
       "    .dataframe thead th {\n",
       "        text-align: right;\n",
       "    }\n",
       "</style>\n",
       "<table border=\"1\" class=\"dataframe\">\n",
       "  <thead>\n",
       "    <tr style=\"text-align: right;\">\n",
       "      <th></th>\n",
       "      <th>Inflow</th>\n",
       "      <th>Seconds</th>\n",
       "    </tr>\n",
       "    <tr>\n",
       "      <th>time</th>\n",
       "      <th></th>\n",
       "      <th></th>\n",
       "    </tr>\n",
       "  </thead>\n",
       "  <tbody>\n",
       "    <tr>\n",
       "      <th>2002-01-01</th>\n",
       "      <td>1829.75</td>\n",
       "      <td>1.009843e+09</td>\n",
       "    </tr>\n",
       "    <tr>\n",
       "      <th>2002-01-02</th>\n",
       "      <td>7279.46</td>\n",
       "      <td>1.009930e+09</td>\n",
       "    </tr>\n",
       "    <tr>\n",
       "      <th>2002-01-03</th>\n",
       "      <td>5261.85</td>\n",
       "      <td>1.010016e+09</td>\n",
       "    </tr>\n",
       "    <tr>\n",
       "      <th>2002-01-04</th>\n",
       "      <td>2951.97</td>\n",
       "      <td>1.010102e+09</td>\n",
       "    </tr>\n",
       "    <tr>\n",
       "      <th>2002-01-05</th>\n",
       "      <td>1868.53</td>\n",
       "      <td>1.010189e+09</td>\n",
       "    </tr>\n",
       "    <tr>\n",
       "      <th>...</th>\n",
       "      <td>...</td>\n",
       "      <td>...</td>\n",
       "    </tr>\n",
       "    <tr>\n",
       "      <th>2023-12-27</th>\n",
       "      <td>5197.40</td>\n",
       "      <td>1.703635e+09</td>\n",
       "    </tr>\n",
       "    <tr>\n",
       "      <th>2023-12-28</th>\n",
       "      <td>6368.46</td>\n",
       "      <td>1.703722e+09</td>\n",
       "    </tr>\n",
       "    <tr>\n",
       "      <th>2023-12-29</th>\n",
       "      <td>7162.01</td>\n",
       "      <td>1.703808e+09</td>\n",
       "    </tr>\n",
       "    <tr>\n",
       "      <th>2023-12-30</th>\n",
       "      <td>6869.41</td>\n",
       "      <td>1.703894e+09</td>\n",
       "    </tr>\n",
       "    <tr>\n",
       "      <th>2023-12-31</th>\n",
       "      <td>6335.36</td>\n",
       "      <td>1.703981e+09</td>\n",
       "    </tr>\n",
       "  </tbody>\n",
       "</table>\n",
       "<p>8035 rows × 2 columns</p>\n",
       "</div>"
      ],
      "text/plain": [
       "             Inflow       Seconds\n",
       "time                             \n",
       "2002-01-01  1829.75  1.009843e+09\n",
       "2002-01-02  7279.46  1.009930e+09\n",
       "2002-01-03  5261.85  1.010016e+09\n",
       "2002-01-04  2951.97  1.010102e+09\n",
       "2002-01-05  1868.53  1.010189e+09\n",
       "...             ...           ...\n",
       "2023-12-27  5197.40  1.703635e+09\n",
       "2023-12-28  6368.46  1.703722e+09\n",
       "2023-12-29  7162.01  1.703808e+09\n",
       "2023-12-30  6869.41  1.703894e+09\n",
       "2023-12-31  6335.36  1.703981e+09\n",
       "\n",
       "[8035 rows x 2 columns]"
      ]
     },
     "execution_count": 74,
     "metadata": {},
     "output_type": "execute_result"
    }
   ],
   "source": [
    "inflow_df = pd.DataFrame({'Inflow':inflow})\n",
    "inflow_df['Seconds'] = inflow_df.index.map(pd.Timestamp.timestamp)\n",
    "inflow_df"
   ]
  },
  {
   "cell_type": "code",
   "execution_count": 75,
   "metadata": {},
   "outputs": [
    {
     "data": {
      "text/html": [
       "<div>\n",
       "<style scoped>\n",
       "    .dataframe tbody tr th:only-of-type {\n",
       "        vertical-align: middle;\n",
       "    }\n",
       "\n",
       "    .dataframe tbody tr th {\n",
       "        vertical-align: top;\n",
       "    }\n",
       "\n",
       "    .dataframe thead th {\n",
       "        text-align: right;\n",
       "    }\n",
       "</style>\n",
       "<table border=\"1\" class=\"dataframe\">\n",
       "  <thead>\n",
       "    <tr style=\"text-align: right;\">\n",
       "      <th></th>\n",
       "      <th>Inflow</th>\n",
       "      <th>Rain</th>\n",
       "      <th>Temp</th>\n",
       "      <th>Year sin</th>\n",
       "      <th>Year cos</th>\n",
       "    </tr>\n",
       "    <tr>\n",
       "      <th>time</th>\n",
       "      <th></th>\n",
       "      <th></th>\n",
       "      <th></th>\n",
       "      <th></th>\n",
       "      <th></th>\n",
       "    </tr>\n",
       "  </thead>\n",
       "  <tbody>\n",
       "    <tr>\n",
       "      <th>2002-01-01</th>\n",
       "      <td>1829.75</td>\n",
       "      <td>2.2</td>\n",
       "      <td>1.250000</td>\n",
       "      <td>0.004129</td>\n",
       "      <td>0.999991</td>\n",
       "    </tr>\n",
       "    <tr>\n",
       "      <th>2002-01-02</th>\n",
       "      <td>7279.46</td>\n",
       "      <td>0.0</td>\n",
       "      <td>-0.837500</td>\n",
       "      <td>0.021330</td>\n",
       "      <td>0.999772</td>\n",
       "    </tr>\n",
       "    <tr>\n",
       "      <th>2002-01-03</th>\n",
       "      <td>5261.85</td>\n",
       "      <td>0.0</td>\n",
       "      <td>-5.166667</td>\n",
       "      <td>0.038525</td>\n",
       "      <td>0.999258</td>\n",
       "    </tr>\n",
       "    <tr>\n",
       "      <th>2002-01-04</th>\n",
       "      <td>2951.97</td>\n",
       "      <td>0.0</td>\n",
       "      <td>-6.025000</td>\n",
       "      <td>0.055708</td>\n",
       "      <td>0.998447</td>\n",
       "    </tr>\n",
       "    <tr>\n",
       "      <th>2002-01-05</th>\n",
       "      <td>1868.53</td>\n",
       "      <td>0.1</td>\n",
       "      <td>-3.466667</td>\n",
       "      <td>0.072875</td>\n",
       "      <td>0.997341</td>\n",
       "    </tr>\n",
       "    <tr>\n",
       "      <th>...</th>\n",
       "      <td>...</td>\n",
       "      <td>...</td>\n",
       "      <td>...</td>\n",
       "      <td>...</td>\n",
       "      <td>...</td>\n",
       "    </tr>\n",
       "    <tr>\n",
       "      <th>2023-12-27</th>\n",
       "      <td>5197.40</td>\n",
       "      <td>0.0</td>\n",
       "      <td>0.471667</td>\n",
       "      <td>-0.087536</td>\n",
       "      <td>0.996161</td>\n",
       "    </tr>\n",
       "    <tr>\n",
       "      <th>2023-12-28</th>\n",
       "      <td>6368.46</td>\n",
       "      <td>0.0</td>\n",
       "      <td>0.255556</td>\n",
       "      <td>-0.070387</td>\n",
       "      <td>0.997520</td>\n",
       "    </tr>\n",
       "    <tr>\n",
       "      <th>2023-12-29</th>\n",
       "      <td>7162.01</td>\n",
       "      <td>0.0</td>\n",
       "      <td>0.039444</td>\n",
       "      <td>-0.053217</td>\n",
       "      <td>0.998583</td>\n",
       "    </tr>\n",
       "    <tr>\n",
       "      <th>2023-12-30</th>\n",
       "      <td>6869.41</td>\n",
       "      <td>0.0</td>\n",
       "      <td>-0.176667</td>\n",
       "      <td>-0.036032</td>\n",
       "      <td>0.999351</td>\n",
       "    </tr>\n",
       "    <tr>\n",
       "      <th>2023-12-31</th>\n",
       "      <td>6335.36</td>\n",
       "      <td>0.0</td>\n",
       "      <td>-0.392778</td>\n",
       "      <td>-0.018836</td>\n",
       "      <td>0.999823</td>\n",
       "    </tr>\n",
       "  </tbody>\n",
       "</table>\n",
       "<p>8035 rows × 5 columns</p>\n",
       "</div>"
      ],
      "text/plain": [
       "             Inflow  Rain      Temp  Year sin  Year cos\n",
       "time                                                   \n",
       "2002-01-01  1829.75   2.2  1.250000  0.004129  0.999991\n",
       "2002-01-02  7279.46   0.0 -0.837500  0.021330  0.999772\n",
       "2002-01-03  5261.85   0.0 -5.166667  0.038525  0.999258\n",
       "2002-01-04  2951.97   0.0 -6.025000  0.055708  0.998447\n",
       "2002-01-05  1868.53   0.1 -3.466667  0.072875  0.997341\n",
       "...             ...   ...       ...       ...       ...\n",
       "2023-12-27  5197.40   0.0  0.471667 -0.087536  0.996161\n",
       "2023-12-28  6368.46   0.0  0.255556 -0.070387  0.997520\n",
       "2023-12-29  7162.01   0.0  0.039444 -0.053217  0.998583\n",
       "2023-12-30  6869.41   0.0 -0.176667 -0.036032  0.999351\n",
       "2023-12-31  6335.36   0.0 -0.392778 -0.018836  0.999823\n",
       "\n",
       "[8035 rows x 5 columns]"
      ]
     },
     "execution_count": 75,
     "metadata": {},
     "output_type": "execute_result"
    }
   ],
   "source": [
    "day = 24*60*60\n",
    "year = (365.2425)*day\n",
    "\n",
    "inflow_df['Rain'] = df['precip_total_daily']\n",
    "inflow_df['Temp'] = df['temp_mean_daily']\n",
    "inflow_df['Year sin'] = np.sin(inflow_df['Seconds'] * (2 * np.pi / year))\n",
    "inflow_df['Year cos'] = np.cos(inflow_df['Seconds'] * (2 * np.pi / year))\n",
    "inflow_df = inflow_df.drop('Seconds', axis=1)\n",
    "inflow_df"
   ]
  },
  {
   "cell_type": "code",
   "execution_count": 80,
   "metadata": {},
   "outputs": [],
   "source": [
    "def df_to_X_y2(df, window_size=6):\n",
    "  df_as_np = df.to_numpy()\n",
    "  X = []\n",
    "  y = []\n",
    "  for i in range(len(df_as_np)-window_size):\n",
    "    row = [r for r in df_as_np[i:i+window_size]]\n",
    "    X.append(row)\n",
    "    label = df_as_np[i+window_size][0]\n",
    "    y.append(label)\n",
    "  return np.array(X), np.array(y)\n",
    "\n",
    "import numpy as np\n",
    "\n",
    "def df_to_X_y2_forecast(df, window_size=6):\n",
    "    \"\"\"\n",
    "    Prepares data for forecasting using both historical data and external variables.\n",
    "    \n",
    "    Parameters:\n",
    "        df          : pandas DataFrame with columns in the following order:\n",
    "                      [Inflow, Rain, Temp, cos_year, sin_year, ...]\n",
    "        window_size : number of past days to use as historical input.\n",
    "    \n",
    "    Returns:\n",
    "        X     : numpy array of shape (num_samples, window_size, num_features) containing historical data.\n",
    "        X_exo : numpy array of shape (num_samples, 4) containing external variables (rain, temp, cos_year, sin_year)\n",
    "                for the forecast day.\n",
    "        y     : numpy array of shape (num_samples,) with the target inflow value for the forecast day.\n",
    "    \"\"\"\n",
    "    df_as_np = df.to_numpy()\n",
    "    X, X_exo, y = [], [], []\n",
    "    for i in range(len(df_as_np) - window_size):\n",
    "        # Historical window: all features for the past 'window_size' days.\n",
    "        hist_window = df_as_np[i:i+window_size]\n",
    "        X.append(hist_window)\n",
    "        # Forecast day: use external variables from columns 1:5\n",
    "        external_vars = df_as_np[i + window_size, 1:5]\n",
    "        X_exo.append(external_vars)\n",
    "        # Target: inflow for the forecast day (assumed in column 0)\n",
    "        label = df_as_np[i + window_size, 0]\n",
    "        y.append(label)\n",
    "    \n",
    "    return np.array(X), np.array(X_exo), np.array(y)\n",
    "\n",
    "import numpy as np\n",
    "\n",
    "def df_to_X_y_with_exo_in_sequence(df, window_size=6):\n",
    "    \"\"\"\n",
    "    Prepares data for forecasting by incorporating forecast-day exogenous variables\n",
    "    (Rain, Temp, cos_year, sin_year) into the input sequence.\n",
    "\n",
    "    Parameters:\n",
    "      df          : DataFrame with columns in order:\n",
    "                    [Inflow, Rain, Temp, cos_year, sin_year]\n",
    "      window_size : Number of past days to use (e.g., 6)\n",
    "\n",
    "    Returns:\n",
    "      X : Array of shape (num_samples, window_size, 9) where the first 5 columns\n",
    "          of every timestep come from the historical data. For the last timestep, columns\n",
    "          5 to 8 hold the forecast-day's exogenous features.\n",
    "      y : Array of target inflow values for the forecast day.\n",
    "    \"\"\"\n",
    "    df_as_np = df.to_numpy()\n",
    "    X, y = [], []\n",
    "    # We need enough data to fill window_size days, then one day for the forecast\n",
    "    for i in range(len(df_as_np) - window_size):\n",
    "        # Get historical data for window_size days: shape (window_size, 5)\n",
    "        hist = df_as_np[i:i+window_size]\n",
    "        \n",
    "        # Get forecast-day exogenous features from columns 1:5 (Rain, Temp, cos_year, sin_year)\n",
    "        exo = df_as_np[i+window_size, 1:5]\n",
    "        \n",
    "        # Create an empty array for our new input with additional 4 features: shape (window_size, 9)\n",
    "        sample = np.zeros((window_size, 5 + 4))\n",
    "        \n",
    "        # Fill all timesteps with the historical 5 features\n",
    "        sample[:, :5] = hist\n",
    "        \n",
    "        # For the last timestep only, append the forecast-day exogenous features in the new columns\n",
    "        sample[-1, 5:] = exo\n",
    "        \n",
    "        # The target is the inflow for the forecast day (assumed at column 0)\n",
    "        label = df_as_np[i+window_size, 0]\n",
    "        \n",
    "        X.append(sample)\n",
    "        y.append(label)\n",
    "    \n",
    "    return np.array(X), np.array(y)\n",
    "\n"
   ]
  },
  {
   "cell_type": "code",
   "execution_count": 81,
   "metadata": {},
   "outputs": [
    {
     "data": {
      "text/plain": [
       "((8029, 6, 9), (8029,), (8029, 6, 5), (8029, 4), (8029,))"
      ]
     },
     "execution_count": 81,
     "metadata": {},
     "output_type": "execute_result"
    }
   ],
   "source": [
    "# X2, y2 = df_to_X_y2(inflow_df)\n",
    "X2, y2 = df_to_X_y_with_exo_in_sequence(inflow_df)\n",
    "X3, X3_exo, y3 = df_to_X_y2_forecast(inflow_df)\n",
    "X2.shape, y2.shape , X3.shape, X3_exo.shape, y3.shape"
   ]
  },
  {
   "cell_type": "code",
   "execution_count": 73,
   "metadata": {},
   "outputs": [
    {
     "data": {
      "text/plain": [
       "array([ 0.        , -0.39277778, -0.01883593,  0.99982259])"
      ]
     },
     "execution_count": 73,
     "metadata": {},
     "output_type": "execute_result"
    }
   ],
   "source": [
    "X3_exo[-1]"
   ]
  },
  {
   "cell_type": "code",
   "execution_count": 82,
   "metadata": {},
   "outputs": [
    {
     "data": {
      "text/plain": [
       "((6000, 6, 9), (6000,), (1000, 6, 9), (1000,), (1029, 6, 9), (1029,))"
      ]
     },
     "execution_count": 82,
     "metadata": {},
     "output_type": "execute_result"
    }
   ],
   "source": [
    "X2_train, y2_train = X2[:6000], y2[:6000]\n",
    "X2_val, y2_val = X2[6000:7000], y2[6000:7000]\n",
    "X2_test, y2_test = X2[7000:], y2[7000:]\n",
    "X2_train.shape, y2_train.shape, X2_val.shape, y2_val.shape, X2_test.shape, y2_test.shape"
   ]
  },
  {
   "cell_type": "code",
   "execution_count": 78,
   "metadata": {},
   "outputs": [
    {
     "name": "stdout",
     "output_type": "stream",
     "text": [
      "X3_train shape: (6000, 6, 5) X3_exo_train shape: (6000, 4) y3_train shape: (6000,)\n",
      "X3_val shape: (1000, 6, 5) X3_exo_val shape: (1000, 4) y3_val shape: (1000,)\n",
      "X3_test shape: (1029, 6, 5) X3_exo_test shape: (1029, 4) y3_test shape: (1029,)\n"
     ]
    }
   ],
   "source": [
    "# Suppose X2 is your historical window data (shape: (num_samples, window_size, num_features))\n",
    "#        X3_exo is your exogenous data for the forecast day (shape: (num_samples, num_exo_features))\n",
    "#        y2 is your target (shape: (num_samples,))\n",
    "\n",
    "# Example: 0..5999 for training, 6000..6999 for validation, 7000..end for test\n",
    "train_end = 6000\n",
    "val_end   = 7000\n",
    "\n",
    "X3_train, X3_exo_train, y3_train = X3[:train_end],      X3_exo[:train_end],      y3[:train_end]\n",
    "X3_val,   X3_exo_val,   y3_val   = X3[train_end:val_end], X3_exo[train_end:val_end], y3[train_end:val_end]\n",
    "X3_test,  X3_exo_test,  y3_test  = X3[val_end:],        X3_exo[val_end:],        y3[val_end:]\n",
    "\n",
    "# Print shapes to confirm\n",
    "print(\"X3_train shape:\", X3_train.shape, \n",
    "      \"X3_exo_train shape:\", X3_exo_train.shape, \n",
    "      \"y3_train shape:\", y3_train.shape)\n",
    "\n",
    "print(\"X3_val shape:\", X3_val.shape, \n",
    "      \"X3_exo_val shape:\", X3_exo_val.shape, \n",
    "      \"y3_val shape:\", y3_val.shape)\n",
    "\n",
    "print(\"X3_test shape:\", X3_test.shape, \n",
    "      \"X3_exo_test shape:\", X3_exo_test.shape, \n",
    "      \"y3_test shape:\", y3_test.shape)\n"
   ]
  },
  {
   "cell_type": "markdown",
   "metadata": {},
   "source": [
    "### Preprocessing"
   ]
  },
  {
   "cell_type": "code",
   "execution_count": 79,
   "metadata": {},
   "outputs": [
    {
     "data": {
      "text/plain": [
       "array([-0.44978334, -0.47520904, -0.49387022, ...,  3.31908774,\n",
       "        3.14283659,  2.82114513])"
      ]
     },
     "execution_count": 79,
     "metadata": {},
     "output_type": "execute_result"
    }
   ],
   "source": [
    "inflow_training_mean = np.mean(X3_train[:, :, 0])\n",
    "inflow_training_std  = np.std(X3_train[:, :, 0])\n",
    "\n",
    "rain_training_mean = np.mean(X3_train[:, :, 1])\n",
    "rain_training_std  = np.std(X3_train[:, :, 1])\n",
    "\n",
    "temp_training_mean = np.mean(X3_train[:, :, 2])\n",
    "temp_training_std  = np.std(X3_train[:, :, 2])\n",
    "\n",
    "rain_exo_training_mean    = np.mean(X3_exo_train[:, 0])\n",
    "rain_exo_training_std     = np.std(X3_exo_train[:, 0])\n",
    "\n",
    "temp_exo_training_mean    = np.mean(X3_exo_train[:, 1])\n",
    "temp_exo_training_std     = np.std(X3_exo_train[:, 1])\n",
    "\n",
    "def preprocess_X3(X):\n",
    "    \"\"\"Standardize the first three channels (inflow, rain, temp) in the historical window.\"\"\"\n",
    "    X[:, :, 0] = (X[:, :, 0] - inflow_training_mean) / inflow_training_std\n",
    "    X[:, :, 1] = (X[:, :, 1] - rain_training_mean)   / rain_training_std\n",
    "    X[:, :, 2] = (X[:, :, 2] - temp_training_mean)   / temp_training_std\n",
    "    return X\n",
    "\n",
    "def preprocess_X3_exo(X_exo):\n",
    "    \"\"\"\n",
    "    Standardize the exogenous features [Rain, Temp, cos_year, sin_year].\n",
    "    \"\"\"\n",
    "    X_exo[:, 0] = (X_exo[:, 0] - rain_exo_training_mean)    / rain_exo_training_std\n",
    "    X_exo[:, 1] = (X_exo[:, 1] - temp_exo_training_mean)    / temp_exo_training_std\n",
    "    return X_exo\n",
    "\n",
    "def preprocess_output3(y):\n",
    "    \"\"\"Standardize the inflow target based on inflow_training_mean/std.\"\"\"\n",
    "    y[:] = (y[:] - inflow_training_mean) / inflow_training_std\n",
    "    return y\n",
    "\n",
    "preprocess_X3(X3_train)\n",
    "preprocess_X3(X3_val)\n",
    "preprocess_X3(X3_test)\n",
    "\n",
    "preprocess_X3_exo(X3_exo_train)\n",
    "preprocess_X3_exo(X3_exo_val)\n",
    "preprocess_X3_exo(X3_exo_test)\n",
    "\n",
    "preprocess_output3(y3_train)\n",
    "preprocess_output3(y3_val)\n",
    "preprocess_output3(y3_test)"
   ]
  },
  {
   "cell_type": "code",
   "execution_count": 83,
   "metadata": {},
   "outputs": [
    {
     "data": {
      "text/plain": [
       "array([-0.44978334, -0.47520904, -0.49387022, ...,  3.31908774,\n",
       "        3.14283659,  2.82114513])"
      ]
     },
     "execution_count": 83,
     "metadata": {},
     "output_type": "execute_result"
    }
   ],
   "source": [
    "# Compute the training statistics from the first channel (inflow) in X2_train\n",
    "inflow_training_mean = np.mean(X2_train[:, :, 0])\n",
    "inflow_training_std = np.std(X2_train[:, :, 0])\n",
    "\n",
    "rain_training_mean = np.mean(X2_train[:, :, 1])\n",
    "rain_training_std = np.std(X2_train[:, :, 1])\n",
    "\n",
    "temp_training_mean = np.mean(X2_train[:, :, 2])\n",
    "temp_training_std = np.std(X2_train[:, :, 2])\n",
    "\n",
    "# Define the preprocessing functions for features and output\n",
    "def preprocess(X):\n",
    "    # Standardize the first three channels (features)\n",
    "    X[:, :, 0] = (X[:, :, 0] - inflow_training_mean) / inflow_training_std \n",
    "    X[:, :, 1] = (X[:, :, 1] - rain_training_mean) / rain_training_std\n",
    "    X[:, :, 2] = (X[:, :, 2] - temp_training_mean) / temp_training_std \n",
    "    return X\n",
    "\n",
    "def preprocess_output(y):\n",
    "    # Standardize every element in y\n",
    "    y[:] = (y[:] - inflow_training_mean) / inflow_training_std\n",
    "    return y\n",
    "\n",
    "# Apply preprocessing to all datasets\n",
    "preprocess(X2_train)\n",
    "preprocess(X2_val)\n",
    "preprocess(X2_test)\n",
    "preprocess_output(y2_train)\n",
    "preprocess_output(y2_val)\n",
    "preprocess_output(y2_test)"
   ]
  },
  {
   "cell_type": "code",
   "execution_count": 84,
   "metadata": {},
   "outputs": [
    {
     "data": {
      "text/plain": [
       "(array([[-0.16163742, -0.47390815, -1.02955591,  0.86394287,  0.50358984,\n",
       "          0.        ,  0.        ,  0.        ,  0.        ],\n",
       "        [-0.20441717, -0.47390815, -1.23345294,  0.87247775,  0.48865384,\n",
       "          0.        ,  0.        ,  0.        ,  0.        ],\n",
       "        [-0.23613153, -0.47390815, -1.06244253,  0.88075444,  0.47357324,\n",
       "          0.        ,  0.        ,  0.        ,  0.        ],\n",
       "        [-0.34333391, -0.47390815, -1.57218509,  0.8887705 ,  0.45835249,\n",
       "          0.        ,  0.        ,  0.        ,  0.        ],\n",
       "        [-0.3822465 , -0.44894945, -1.00719301,  0.89652354,  0.4429961 ,\n",
       "          0.        ,  0.        ,  0.        ,  0.        ],\n",
       "        [-0.38342713, -0.47390815, -1.00521982,  0.90401127,  0.42750862,\n",
       "          0.        , -3.29166667,  0.91123148,  0.41189463]]),\n",
       " -0.44978333905391354)"
      ]
     },
     "execution_count": 84,
     "metadata": {},
     "output_type": "execute_result"
    }
   ],
   "source": [
    "X2_test[0] , y2_test[0]"
   ]
  },
  {
   "cell_type": "code",
   "execution_count": 90,
   "metadata": {},
   "outputs": [
    {
     "name": "stdout",
     "output_type": "stream",
     "text": [
      "Model: \"model_1\"\n",
      "__________________________________________________________________________________________________\n",
      " Layer (type)                Output Shape                 Param #   Connected to                  \n",
      "==================================================================================================\n",
      " historical_input (InputLay  [(None, 6, 5)]               0         []                            \n",
      " er)                                                                                              \n",
      "                                                                                                  \n",
      " exo_input (InputLayer)      [(None, 4)]                  0         []                            \n",
      "                                                                                                  \n",
      " lstm_6 (LSTM)               (None, 64)                   17920     ['historical_input[0][0]']    \n",
      "                                                                                                  \n",
      " dense_16 (Dense)            (None, 8)                    40        ['exo_input[0][0]']           \n",
      "                                                                                                  \n",
      " concatenate_1 (Concatenate  (None, 72)                   0         ['lstm_6[0][0]',              \n",
      " )                                                                   'dense_16[0][0]']            \n",
      "                                                                                                  \n",
      " dense_17 (Dense)            (None, 8)                    584       ['concatenate_1[0][0]']       \n",
      "                                                                                                  \n",
      " dense_18 (Dense)            (None, 1)                    9         ['dense_17[0][0]']            \n",
      "                                                                                                  \n",
      "==================================================================================================\n",
      "Total params: 18553 (72.47 KB)\n",
      "Trainable params: 18553 (72.47 KB)\n",
      "Non-trainable params: 0 (0.00 Byte)\n",
      "__________________________________________________________________________________________________\n"
     ]
    }
   ],
   "source": [
    "import numpy as np\n",
    "from tensorflow.keras.layers import Input, LSTM, Dense, Concatenate\n",
    "from tensorflow.keras.models import Model\n",
    "\n",
    "# 1) Define two inputs: historical window and day-of exogenous\n",
    "hist_input = Input(shape=(6, 5), name=\"historical_input\")\n",
    "exo_input  = Input(shape=(4,), name=\"exo_input\")\n",
    "\n",
    "# 2) Process historical data with LSTM\n",
    "x = LSTM(64)(hist_input)\n",
    "\n",
    "# 3) Process exogenous data with a small Dense\n",
    "exo = Dense(8, activation='relu')(exo_input)\n",
    "\n",
    "# 4) Concatenate both representations\n",
    "combined = Concatenate()([x, exo])\n",
    "\n",
    "# 5) Final layers\n",
    "dense1 = Dense(8, activation='relu')(combined)\n",
    "output = Dense(1, activation='linear')(dense1)\n",
    "\n",
    "# 6) Build the model\n",
    "model4_exo = Model(inputs=[hist_input, exo_input], outputs=output)\n",
    "model4_exo.compile(optimizer='adam', loss='mse')\n",
    "\n",
    "model4_exo.summary()"
   ]
  },
  {
   "cell_type": "code",
   "execution_count": 91,
   "metadata": {},
   "outputs": [
    {
     "name": "stderr",
     "output_type": "stream",
     "text": [
      "WARNING:absl:At this time, the v2.11+ optimizer `tf.keras.optimizers.Adam` runs slowly on M1/M2 Macs, please use the legacy Keras optimizer instead, located at `tf.keras.optimizers.legacy.Adam`.\n"
     ]
    }
   ],
   "source": [
    "cp4_exo = ModelCheckpoint('model4_exo/', save_best_only=True)\n",
    "model4_exo.compile(loss=MeanSquaredError(), optimizer=Adam(learning_rate=0.0001), metrics=[RootMeanSquaredError()])"
   ]
  },
  {
   "cell_type": "code",
   "execution_count": 92,
   "metadata": {},
   "outputs": [
    {
     "name": "stdout",
     "output_type": "stream",
     "text": [
      "Epoch 1/100\n",
      "186/188 [============================>.] - ETA: 0s - loss: 0.7279 - root_mean_squared_error: 0.8531INFO:tensorflow:Assets written to: model4_exo/assets\n"
     ]
    },
    {
     "name": "stderr",
     "output_type": "stream",
     "text": [
      "INFO:tensorflow:Assets written to: model4_exo/assets\n"
     ]
    },
    {
     "name": "stdout",
     "output_type": "stream",
     "text": [
      "188/188 [==============================] - 3s 9ms/step - loss: 0.7264 - root_mean_squared_error: 0.8523 - val_loss: 0.4041 - val_root_mean_squared_error: 0.6357\n",
      "Epoch 2/100\n",
      "179/188 [===========================>..] - ETA: 0s - loss: 0.3364 - root_mean_squared_error: 0.5800INFO:tensorflow:Assets written to: model4_exo/assets\n"
     ]
    },
    {
     "name": "stderr",
     "output_type": "stream",
     "text": [
      "INFO:tensorflow:Assets written to: model4_exo/assets\n"
     ]
    },
    {
     "name": "stdout",
     "output_type": "stream",
     "text": [
      "188/188 [==============================] - 1s 8ms/step - loss: 0.3373 - root_mean_squared_error: 0.5807 - val_loss: 0.2132 - val_root_mean_squared_error: 0.4618\n",
      "Epoch 3/100\n",
      "176/188 [===========================>..] - ETA: 0s - loss: 0.2608 - root_mean_squared_error: 0.5107INFO:tensorflow:Assets written to: model4_exo/assets\n"
     ]
    },
    {
     "name": "stderr",
     "output_type": "stream",
     "text": [
      "INFO:tensorflow:Assets written to: model4_exo/assets\n"
     ]
    },
    {
     "name": "stdout",
     "output_type": "stream",
     "text": [
      "188/188 [==============================] - 1s 8ms/step - loss: 0.2578 - root_mean_squared_error: 0.5077 - val_loss: 0.1465 - val_root_mean_squared_error: 0.3828\n",
      "Epoch 4/100\n",
      "175/188 [==========================>...] - ETA: 0s - loss: 0.2094 - root_mean_squared_error: 0.4576INFO:tensorflow:Assets written to: model4_exo/assets\n"
     ]
    },
    {
     "name": "stderr",
     "output_type": "stream",
     "text": [
      "INFO:tensorflow:Assets written to: model4_exo/assets\n"
     ]
    },
    {
     "name": "stdout",
     "output_type": "stream",
     "text": [
      "188/188 [==============================] - 1s 8ms/step - loss: 0.2075 - root_mean_squared_error: 0.4555 - val_loss: 0.1022 - val_root_mean_squared_error: 0.3197\n",
      "Epoch 5/100\n",
      "179/188 [===========================>..] - ETA: 0s - loss: 0.1654 - root_mean_squared_error: 0.4067INFO:tensorflow:Assets written to: model4_exo/assets\n"
     ]
    },
    {
     "name": "stderr",
     "output_type": "stream",
     "text": [
      "INFO:tensorflow:Assets written to: model4_exo/assets\n"
     ]
    },
    {
     "name": "stdout",
     "output_type": "stream",
     "text": [
      "188/188 [==============================] - 2s 10ms/step - loss: 0.1686 - root_mean_squared_error: 0.4106 - val_loss: 0.0761 - val_root_mean_squared_error: 0.2759\n",
      "Epoch 6/100\n",
      "181/188 [===========================>..] - ETA: 0s - loss: 0.1407 - root_mean_squared_error: 0.3752INFO:tensorflow:Assets written to: model4_exo/assets\n"
     ]
    },
    {
     "name": "stderr",
     "output_type": "stream",
     "text": [
      "INFO:tensorflow:Assets written to: model4_exo/assets\n"
     ]
    },
    {
     "name": "stdout",
     "output_type": "stream",
     "text": [
      "188/188 [==============================] - 1s 8ms/step - loss: 0.1398 - root_mean_squared_error: 0.3739 - val_loss: 0.0533 - val_root_mean_squared_error: 0.2309\n",
      "Epoch 7/100\n",
      "170/188 [==========================>...] - ETA: 0s - loss: 0.1188 - root_mean_squared_error: 0.3446INFO:tensorflow:Assets written to: model4_exo/assets\n"
     ]
    },
    {
     "name": "stderr",
     "output_type": "stream",
     "text": [
      "INFO:tensorflow:Assets written to: model4_exo/assets\n"
     ]
    },
    {
     "name": "stdout",
     "output_type": "stream",
     "text": [
      "188/188 [==============================] - 1s 8ms/step - loss: 0.1181 - root_mean_squared_error: 0.3436 - val_loss: 0.0450 - val_root_mean_squared_error: 0.2121\n",
      "Epoch 8/100\n",
      "186/188 [============================>.] - ETA: 0s - loss: 0.1041 - root_mean_squared_error: 0.3226INFO:tensorflow:Assets written to: model4_exo/assets\n"
     ]
    },
    {
     "name": "stderr",
     "output_type": "stream",
     "text": [
      "INFO:tensorflow:Assets written to: model4_exo/assets\n"
     ]
    },
    {
     "name": "stdout",
     "output_type": "stream",
     "text": [
      "188/188 [==============================] - 1s 8ms/step - loss: 0.1037 - root_mean_squared_error: 0.3221 - val_loss: 0.0390 - val_root_mean_squared_error: 0.1975\n",
      "Epoch 9/100\n",
      "170/188 [==========================>...] - ETA: 0s - loss: 0.0963 - root_mean_squared_error: 0.3102INFO:tensorflow:Assets written to: model4_exo/assets\n"
     ]
    },
    {
     "name": "stderr",
     "output_type": "stream",
     "text": [
      "INFO:tensorflow:Assets written to: model4_exo/assets\n"
     ]
    },
    {
     "name": "stdout",
     "output_type": "stream",
     "text": [
      "188/188 [==============================] - 1s 8ms/step - loss: 0.0946 - root_mean_squared_error: 0.3075 - val_loss: 0.0379 - val_root_mean_squared_error: 0.1946\n",
      "Epoch 10/100\n",
      "178/188 [===========================>..] - ETA: 0s - loss: 0.0902 - root_mean_squared_error: 0.3004INFO:tensorflow:Assets written to: model4_exo/assets\n"
     ]
    },
    {
     "name": "stderr",
     "output_type": "stream",
     "text": [
      "INFO:tensorflow:Assets written to: model4_exo/assets\n"
     ]
    },
    {
     "name": "stdout",
     "output_type": "stream",
     "text": [
      "188/188 [==============================] - 2s 10ms/step - loss: 0.0887 - root_mean_squared_error: 0.2977 - val_loss: 0.0378 - val_root_mean_squared_error: 0.1944\n",
      "Epoch 11/100\n",
      "160/188 [========================>.....] - ETA: 0s - loss: 0.0823 - root_mean_squared_error: 0.2869INFO:tensorflow:Assets written to: model4_exo/assets\n"
     ]
    },
    {
     "name": "stderr",
     "output_type": "stream",
     "text": [
      "INFO:tensorflow:Assets written to: model4_exo/assets\n"
     ]
    },
    {
     "name": "stdout",
     "output_type": "stream",
     "text": [
      "188/188 [==============================] - 1s 8ms/step - loss: 0.0843 - root_mean_squared_error: 0.2903 - val_loss: 0.0372 - val_root_mean_squared_error: 0.1930\n",
      "Epoch 12/100\n",
      "188/188 [==============================] - 0s 2ms/step - loss: 0.0809 - root_mean_squared_error: 0.2845 - val_loss: 0.0381 - val_root_mean_squared_error: 0.1952\n",
      "Epoch 13/100\n",
      "188/188 [==============================] - 0s 2ms/step - loss: 0.0781 - root_mean_squared_error: 0.2795 - val_loss: 0.0381 - val_root_mean_squared_error: 0.1953\n",
      "Epoch 14/100\n",
      "173/188 [==========================>...] - ETA: 0s - loss: 0.0772 - root_mean_squared_error: 0.2778INFO:tensorflow:Assets written to: model4_exo/assets\n"
     ]
    },
    {
     "name": "stderr",
     "output_type": "stream",
     "text": [
      "INFO:tensorflow:Assets written to: model4_exo/assets\n"
     ]
    },
    {
     "name": "stdout",
     "output_type": "stream",
     "text": [
      "188/188 [==============================] - 1s 8ms/step - loss: 0.0757 - root_mean_squared_error: 0.2751 - val_loss: 0.0368 - val_root_mean_squared_error: 0.1918\n",
      "Epoch 15/100\n",
      "187/188 [============================>.] - ETA: 0s - loss: 0.0736 - root_mean_squared_error: 0.2714INFO:tensorflow:Assets written to: model4_exo/assets\n"
     ]
    },
    {
     "name": "stderr",
     "output_type": "stream",
     "text": [
      "INFO:tensorflow:Assets written to: model4_exo/assets\n"
     ]
    },
    {
     "name": "stdout",
     "output_type": "stream",
     "text": [
      "188/188 [==============================] - 2s 8ms/step - loss: 0.0735 - root_mean_squared_error: 0.2710 - val_loss: 0.0361 - val_root_mean_squared_error: 0.1901\n",
      "Epoch 16/100\n",
      "188/188 [==============================] - ETA: 0s - loss: 0.0716 - root_mean_squared_error: 0.2676INFO:tensorflow:Assets written to: model4_exo/assets\n"
     ]
    },
    {
     "name": "stderr",
     "output_type": "stream",
     "text": [
      "INFO:tensorflow:Assets written to: model4_exo/assets\n"
     ]
    },
    {
     "name": "stdout",
     "output_type": "stream",
     "text": [
      "188/188 [==============================] - 2s 9ms/step - loss: 0.0716 - root_mean_squared_error: 0.2676 - val_loss: 0.0345 - val_root_mean_squared_error: 0.1857\n",
      "Epoch 17/100\n",
      "188/188 [==============================] - 0s 2ms/step - loss: 0.0703 - root_mean_squared_error: 0.2652 - val_loss: 0.0365 - val_root_mean_squared_error: 0.1911\n",
      "Epoch 18/100\n",
      "188/188 [==============================] - 0s 2ms/step - loss: 0.0687 - root_mean_squared_error: 0.2621 - val_loss: 0.0363 - val_root_mean_squared_error: 0.1906\n",
      "Epoch 19/100\n",
      "188/188 [==============================] - 0s 2ms/step - loss: 0.0673 - root_mean_squared_error: 0.2593 - val_loss: 0.0363 - val_root_mean_squared_error: 0.1904\n",
      "Epoch 20/100\n",
      "188/188 [==============================] - 0s 3ms/step - loss: 0.0665 - root_mean_squared_error: 0.2578 - val_loss: 0.0351 - val_root_mean_squared_error: 0.1873\n",
      "Epoch 21/100\n",
      "176/188 [===========================>..] - ETA: 0s - loss: 0.0649 - root_mean_squared_error: 0.2547INFO:tensorflow:Assets written to: model4_exo/assets\n"
     ]
    },
    {
     "name": "stderr",
     "output_type": "stream",
     "text": [
      "INFO:tensorflow:Assets written to: model4_exo/assets\n"
     ]
    },
    {
     "name": "stdout",
     "output_type": "stream",
     "text": [
      "188/188 [==============================] - 2s 11ms/step - loss: 0.0654 - root_mean_squared_error: 0.2558 - val_loss: 0.0339 - val_root_mean_squared_error: 0.1840\n",
      "Epoch 22/100\n",
      "188/188 [==============================] - 0s 2ms/step - loss: 0.0648 - root_mean_squared_error: 0.2546 - val_loss: 0.0339 - val_root_mean_squared_error: 0.1842\n",
      "Epoch 23/100\n",
      "187/188 [============================>.] - ETA: 0s - loss: 0.0636 - root_mean_squared_error: 0.2522INFO:tensorflow:Assets written to: model4_exo/assets\n"
     ]
    },
    {
     "name": "stderr",
     "output_type": "stream",
     "text": [
      "INFO:tensorflow:Assets written to: model4_exo/assets\n"
     ]
    },
    {
     "name": "stdout",
     "output_type": "stream",
     "text": [
      "188/188 [==============================] - 1s 7ms/step - loss: 0.0635 - root_mean_squared_error: 0.2520 - val_loss: 0.0335 - val_root_mean_squared_error: 0.1831\n",
      "Epoch 24/100\n",
      "181/188 [===========================>..] - ETA: 0s - loss: 0.0624 - root_mean_squared_error: 0.2497INFO:tensorflow:Assets written to: model4_exo/assets\n"
     ]
    },
    {
     "name": "stderr",
     "output_type": "stream",
     "text": [
      "INFO:tensorflow:Assets written to: model4_exo/assets\n"
     ]
    },
    {
     "name": "stdout",
     "output_type": "stream",
     "text": [
      "188/188 [==============================] - 1s 8ms/step - loss: 0.0627 - root_mean_squared_error: 0.2504 - val_loss: 0.0326 - val_root_mean_squared_error: 0.1804\n",
      "Epoch 25/100\n",
      "188/188 [==============================] - 0s 2ms/step - loss: 0.0616 - root_mean_squared_error: 0.2482 - val_loss: 0.0339 - val_root_mean_squared_error: 0.1840\n",
      "Epoch 26/100\n",
      "188/188 [==============================] - 0s 2ms/step - loss: 0.0613 - root_mean_squared_error: 0.2475 - val_loss: 0.0329 - val_root_mean_squared_error: 0.1815\n",
      "Epoch 27/100\n",
      "165/188 [=========================>....] - ETA: 0s - loss: 0.0582 - root_mean_squared_error: 0.2413INFO:tensorflow:Assets written to: model4_exo/assets\n"
     ]
    },
    {
     "name": "stderr",
     "output_type": "stream",
     "text": [
      "INFO:tensorflow:Assets written to: model4_exo/assets\n"
     ]
    },
    {
     "name": "stdout",
     "output_type": "stream",
     "text": [
      "188/188 [==============================] - 2s 8ms/step - loss: 0.0605 - root_mean_squared_error: 0.2459 - val_loss: 0.0319 - val_root_mean_squared_error: 0.1787\n",
      "Epoch 28/100\n",
      "188/188 [==============================] - 0s 3ms/step - loss: 0.0599 - root_mean_squared_error: 0.2446 - val_loss: 0.0355 - val_root_mean_squared_error: 0.1884\n",
      "Epoch 29/100\n",
      "188/188 [==============================] - 0s 2ms/step - loss: 0.0596 - root_mean_squared_error: 0.2440 - val_loss: 0.0328 - val_root_mean_squared_error: 0.1811\n",
      "Epoch 30/100\n",
      "169/188 [=========================>....] - ETA: 0s - loss: 0.0594 - root_mean_squared_error: 0.2438INFO:tensorflow:Assets written to: model4_exo/assets\n"
     ]
    },
    {
     "name": "stderr",
     "output_type": "stream",
     "text": [
      "INFO:tensorflow:Assets written to: model4_exo/assets\n"
     ]
    },
    {
     "name": "stdout",
     "output_type": "stream",
     "text": [
      "188/188 [==============================] - 1s 8ms/step - loss: 0.0589 - root_mean_squared_error: 0.2426 - val_loss: 0.0317 - val_root_mean_squared_error: 0.1781\n",
      "Epoch 31/100\n",
      "178/188 [===========================>..] - ETA: 0s - loss: 0.0592 - root_mean_squared_error: 0.2434INFO:tensorflow:Assets written to: model4_exo/assets\n"
     ]
    },
    {
     "name": "stderr",
     "output_type": "stream",
     "text": [
      "INFO:tensorflow:Assets written to: model4_exo/assets\n"
     ]
    },
    {
     "name": "stdout",
     "output_type": "stream",
     "text": [
      "188/188 [==============================] - 2s 10ms/step - loss: 0.0584 - root_mean_squared_error: 0.2416 - val_loss: 0.0303 - val_root_mean_squared_error: 0.1742\n",
      "Epoch 32/100\n",
      "188/188 [==============================] - 0s 2ms/step - loss: 0.0581 - root_mean_squared_error: 0.2410 - val_loss: 0.0320 - val_root_mean_squared_error: 0.1787\n",
      "Epoch 33/100\n",
      "188/188 [==============================] - 0s 2ms/step - loss: 0.0575 - root_mean_squared_error: 0.2399 - val_loss: 0.0306 - val_root_mean_squared_error: 0.1749\n",
      "Epoch 34/100\n",
      "188/188 [==============================] - 0s 2ms/step - loss: 0.0574 - root_mean_squared_error: 0.2395 - val_loss: 0.0307 - val_root_mean_squared_error: 0.1752\n",
      "Epoch 35/100\n",
      "188/188 [==============================] - 0s 2ms/step - loss: 0.0570 - root_mean_squared_error: 0.2388 - val_loss: 0.0332 - val_root_mean_squared_error: 0.1821\n",
      "Epoch 36/100\n",
      "188/188 [==============================] - 0s 2ms/step - loss: 0.0565 - root_mean_squared_error: 0.2377 - val_loss: 0.0308 - val_root_mean_squared_error: 0.1755\n",
      "Epoch 37/100\n",
      "177/188 [===========================>..] - ETA: 0s - loss: 0.0570 - root_mean_squared_error: 0.2387INFO:tensorflow:Assets written to: model4_exo/assets\n"
     ]
    },
    {
     "name": "stderr",
     "output_type": "stream",
     "text": [
      "INFO:tensorflow:Assets written to: model4_exo/assets\n"
     ]
    },
    {
     "name": "stdout",
     "output_type": "stream",
     "text": [
      "188/188 [==============================] - 1s 7ms/step - loss: 0.0559 - root_mean_squared_error: 0.2363 - val_loss: 0.0282 - val_root_mean_squared_error: 0.1678\n",
      "Epoch 38/100\n",
      "188/188 [==============================] - 0s 2ms/step - loss: 0.0556 - root_mean_squared_error: 0.2357 - val_loss: 0.0352 - val_root_mean_squared_error: 0.1877\n",
      "Epoch 39/100\n",
      "188/188 [==============================] - 0s 2ms/step - loss: 0.0554 - root_mean_squared_error: 0.2353 - val_loss: 0.0292 - val_root_mean_squared_error: 0.1708\n",
      "Epoch 40/100\n",
      "188/188 [==============================] - 0s 2ms/step - loss: 0.0552 - root_mean_squared_error: 0.2350 - val_loss: 0.0292 - val_root_mean_squared_error: 0.1709\n",
      "Epoch 41/100\n",
      "180/188 [===========================>..] - ETA: 0s - loss: 0.0553 - root_mean_squared_error: 0.2352INFO:tensorflow:Assets written to: model4_exo/assets\n"
     ]
    },
    {
     "name": "stderr",
     "output_type": "stream",
     "text": [
      "INFO:tensorflow:Assets written to: model4_exo/assets\n"
     ]
    },
    {
     "name": "stdout",
     "output_type": "stream",
     "text": [
      "188/188 [==============================] - 1s 7ms/step - loss: 0.0549 - root_mean_squared_error: 0.2344 - val_loss: 0.0276 - val_root_mean_squared_error: 0.1661\n",
      "Epoch 42/100\n",
      "188/188 [==============================] - 0s 2ms/step - loss: 0.0546 - root_mean_squared_error: 0.2337 - val_loss: 0.0292 - val_root_mean_squared_error: 0.1708\n",
      "Epoch 43/100\n",
      "178/188 [===========================>..] - ETA: 0s - loss: 0.0538 - root_mean_squared_error: 0.2320INFO:tensorflow:Assets written to: model4_exo/assets\n"
     ]
    },
    {
     "name": "stderr",
     "output_type": "stream",
     "text": [
      "INFO:tensorflow:Assets written to: model4_exo/assets\n"
     ]
    },
    {
     "name": "stdout",
     "output_type": "stream",
     "text": [
      "188/188 [==============================] - 1s 7ms/step - loss: 0.0541 - root_mean_squared_error: 0.2325 - val_loss: 0.0273 - val_root_mean_squared_error: 0.1653\n",
      "Epoch 44/100\n",
      "188/188 [==============================] - 0s 2ms/step - loss: 0.0542 - root_mean_squared_error: 0.2329 - val_loss: 0.0288 - val_root_mean_squared_error: 0.1696\n",
      "Epoch 45/100\n",
      "188/188 [==============================] - 0s 2ms/step - loss: 0.0541 - root_mean_squared_error: 0.2325 - val_loss: 0.0302 - val_root_mean_squared_error: 0.1738\n",
      "Epoch 46/100\n",
      "188/188 [==============================] - 0s 2ms/step - loss: 0.0533 - root_mean_squared_error: 0.2308 - val_loss: 0.0302 - val_root_mean_squared_error: 0.1737\n",
      "Epoch 47/100\n",
      "188/188 [==============================] - 0s 2ms/step - loss: 0.0534 - root_mean_squared_error: 0.2310 - val_loss: 0.0292 - val_root_mean_squared_error: 0.1710\n",
      "Epoch 48/100\n",
      "188/188 [==============================] - 0s 2ms/step - loss: 0.0529 - root_mean_squared_error: 0.2301 - val_loss: 0.0283 - val_root_mean_squared_error: 0.1682\n",
      "Epoch 49/100\n",
      "188/188 [==============================] - 0s 2ms/step - loss: 0.0529 - root_mean_squared_error: 0.2301 - val_loss: 0.0335 - val_root_mean_squared_error: 0.1831\n",
      "Epoch 50/100\n",
      "188/188 [==============================] - 0s 2ms/step - loss: 0.0527 - root_mean_squared_error: 0.2295 - val_loss: 0.0274 - val_root_mean_squared_error: 0.1656\n",
      "Epoch 51/100\n",
      "188/188 [==============================] - 0s 2ms/step - loss: 0.0528 - root_mean_squared_error: 0.2298 - val_loss: 0.0295 - val_root_mean_squared_error: 0.1718\n",
      "Epoch 52/100\n",
      "188/188 [==============================] - 0s 2ms/step - loss: 0.0522 - root_mean_squared_error: 0.2285 - val_loss: 0.0309 - val_root_mean_squared_error: 0.1759\n",
      "Epoch 53/100\n",
      "188/188 [==============================] - 0s 2ms/step - loss: 0.0521 - root_mean_squared_error: 0.2284 - val_loss: 0.0277 - val_root_mean_squared_error: 0.1665\n",
      "Epoch 54/100\n",
      "188/188 [==============================] - 0s 2ms/step - loss: 0.0519 - root_mean_squared_error: 0.2278 - val_loss: 0.0293 - val_root_mean_squared_error: 0.1711\n",
      "Epoch 55/100\n",
      "188/188 [==============================] - 0s 2ms/step - loss: 0.0516 - root_mean_squared_error: 0.2271 - val_loss: 0.0285 - val_root_mean_squared_error: 0.1688\n",
      "Epoch 56/100\n",
      "188/188 [==============================] - 0s 2ms/step - loss: 0.0514 - root_mean_squared_error: 0.2267 - val_loss: 0.0296 - val_root_mean_squared_error: 0.1721\n",
      "Epoch 57/100\n",
      "188/188 [==============================] - 0s 2ms/step - loss: 0.0516 - root_mean_squared_error: 0.2272 - val_loss: 0.0293 - val_root_mean_squared_error: 0.1712\n",
      "Epoch 58/100\n",
      "163/188 [=========================>....] - ETA: 0s - loss: 0.0521 - root_mean_squared_error: 0.2283INFO:tensorflow:Assets written to: model4_exo/assets\n"
     ]
    },
    {
     "name": "stderr",
     "output_type": "stream",
     "text": [
      "INFO:tensorflow:Assets written to: model4_exo/assets\n"
     ]
    },
    {
     "name": "stdout",
     "output_type": "stream",
     "text": [
      "188/188 [==============================] - 1s 8ms/step - loss: 0.0508 - root_mean_squared_error: 0.2254 - val_loss: 0.0263 - val_root_mean_squared_error: 0.1623\n",
      "Epoch 59/100\n",
      "188/188 [==============================] - 0s 2ms/step - loss: 0.0508 - root_mean_squared_error: 0.2255 - val_loss: 0.0292 - val_root_mean_squared_error: 0.1707\n",
      "Epoch 60/100\n",
      "188/188 [==============================] - 0s 2ms/step - loss: 0.0504 - root_mean_squared_error: 0.2244 - val_loss: 0.0306 - val_root_mean_squared_error: 0.1751\n",
      "Epoch 61/100\n",
      "188/188 [==============================] - 0s 2ms/step - loss: 0.0504 - root_mean_squared_error: 0.2246 - val_loss: 0.0303 - val_root_mean_squared_error: 0.1742\n",
      "Epoch 62/100\n",
      "188/188 [==============================] - 0s 2ms/step - loss: 0.0504 - root_mean_squared_error: 0.2244 - val_loss: 0.0282 - val_root_mean_squared_error: 0.1680\n",
      "Epoch 63/100\n",
      "188/188 [==============================] - 0s 2ms/step - loss: 0.0507 - root_mean_squared_error: 0.2252 - val_loss: 0.0277 - val_root_mean_squared_error: 0.1664\n",
      "Epoch 64/100\n",
      "188/188 [==============================] - 0s 2ms/step - loss: 0.0499 - root_mean_squared_error: 0.2233 - val_loss: 0.0271 - val_root_mean_squared_error: 0.1645\n",
      "Epoch 65/100\n",
      "188/188 [==============================] - 0s 2ms/step - loss: 0.0499 - root_mean_squared_error: 0.2233 - val_loss: 0.0273 - val_root_mean_squared_error: 0.1651\n",
      "Epoch 66/100\n",
      "188/188 [==============================] - 0s 2ms/step - loss: 0.0498 - root_mean_squared_error: 0.2231 - val_loss: 0.0296 - val_root_mean_squared_error: 0.1720\n",
      "Epoch 67/100\n",
      "188/188 [==============================] - 0s 2ms/step - loss: 0.0499 - root_mean_squared_error: 0.2233 - val_loss: 0.0286 - val_root_mean_squared_error: 0.1693\n",
      "Epoch 68/100\n",
      "188/188 [==============================] - 0s 2ms/step - loss: 0.0493 - root_mean_squared_error: 0.2221 - val_loss: 0.0291 - val_root_mean_squared_error: 0.1706\n",
      "Epoch 69/100\n",
      "188/188 [==============================] - 0s 2ms/step - loss: 0.0495 - root_mean_squared_error: 0.2224 - val_loss: 0.0278 - val_root_mean_squared_error: 0.1667\n",
      "Epoch 70/100\n",
      "188/188 [==============================] - 0s 2ms/step - loss: 0.0493 - root_mean_squared_error: 0.2220 - val_loss: 0.0281 - val_root_mean_squared_error: 0.1676\n",
      "Epoch 71/100\n",
      "188/188 [==============================] - 0s 2ms/step - loss: 0.0490 - root_mean_squared_error: 0.2214 - val_loss: 0.0282 - val_root_mean_squared_error: 0.1679\n",
      "Epoch 72/100\n",
      "188/188 [==============================] - 0s 2ms/step - loss: 0.0490 - root_mean_squared_error: 0.2213 - val_loss: 0.0267 - val_root_mean_squared_error: 0.1633\n",
      "Epoch 73/100\n",
      "188/188 [==============================] - 0s 2ms/step - loss: 0.0488 - root_mean_squared_error: 0.2209 - val_loss: 0.0294 - val_root_mean_squared_error: 0.1715\n",
      "Epoch 74/100\n",
      "188/188 [==============================] - 0s 2ms/step - loss: 0.0486 - root_mean_squared_error: 0.2204 - val_loss: 0.0288 - val_root_mean_squared_error: 0.1697\n",
      "Epoch 75/100\n",
      "188/188 [==============================] - 0s 2ms/step - loss: 0.0487 - root_mean_squared_error: 0.2207 - val_loss: 0.0278 - val_root_mean_squared_error: 0.1667\n",
      "Epoch 76/100\n",
      "188/188 [==============================] - 0s 2ms/step - loss: 0.0486 - root_mean_squared_error: 0.2204 - val_loss: 0.0288 - val_root_mean_squared_error: 0.1696\n",
      "Epoch 77/100\n",
      "188/188 [==============================] - 0s 2ms/step - loss: 0.0481 - root_mean_squared_error: 0.2192 - val_loss: 0.0316 - val_root_mean_squared_error: 0.1779\n",
      "Epoch 78/100\n",
      "188/188 [==============================] - 0s 2ms/step - loss: 0.0482 - root_mean_squared_error: 0.2196 - val_loss: 0.0296 - val_root_mean_squared_error: 0.1719\n",
      "Epoch 79/100\n",
      "188/188 [==============================] - 0s 2ms/step - loss: 0.0480 - root_mean_squared_error: 0.2191 - val_loss: 0.0268 - val_root_mean_squared_error: 0.1637\n",
      "Epoch 80/100\n",
      "188/188 [==============================] - 0s 2ms/step - loss: 0.0477 - root_mean_squared_error: 0.2184 - val_loss: 0.0278 - val_root_mean_squared_error: 0.1668\n",
      "Epoch 81/100\n",
      "188/188 [==============================] - 0s 2ms/step - loss: 0.0477 - root_mean_squared_error: 0.2183 - val_loss: 0.0321 - val_root_mean_squared_error: 0.1793\n",
      "Epoch 82/100\n",
      "188/188 [==============================] - 0s 2ms/step - loss: 0.0478 - root_mean_squared_error: 0.2185 - val_loss: 0.0270 - val_root_mean_squared_error: 0.1644\n",
      "Epoch 83/100\n",
      "188/188 [==============================] - 0s 2ms/step - loss: 0.0475 - root_mean_squared_error: 0.2178 - val_loss: 0.0296 - val_root_mean_squared_error: 0.1721\n",
      "Epoch 84/100\n",
      "163/188 [=========================>....] - ETA: 0s - loss: 0.0475 - root_mean_squared_error: 0.2180INFO:tensorflow:Assets written to: model4_exo/assets\n"
     ]
    },
    {
     "name": "stderr",
     "output_type": "stream",
     "text": [
      "INFO:tensorflow:Assets written to: model4_exo/assets\n"
     ]
    },
    {
     "name": "stdout",
     "output_type": "stream",
     "text": [
      "188/188 [==============================] - 2s 11ms/step - loss: 0.0473 - root_mean_squared_error: 0.2174 - val_loss: 0.0261 - val_root_mean_squared_error: 0.1616\n",
      "Epoch 85/100\n",
      "188/188 [==============================] - 0s 2ms/step - loss: 0.0473 - root_mean_squared_error: 0.2175 - val_loss: 0.0292 - val_root_mean_squared_error: 0.1710\n",
      "Epoch 86/100\n",
      "188/188 [==============================] - 0s 2ms/step - loss: 0.0473 - root_mean_squared_error: 0.2174 - val_loss: 0.0288 - val_root_mean_squared_error: 0.1697\n",
      "Epoch 87/100\n",
      "188/188 [==============================] - 0s 2ms/step - loss: 0.0470 - root_mean_squared_error: 0.2167 - val_loss: 0.0307 - val_root_mean_squared_error: 0.1753\n",
      "Epoch 88/100\n",
      "188/188 [==============================] - 0s 2ms/step - loss: 0.0468 - root_mean_squared_error: 0.2164 - val_loss: 0.0291 - val_root_mean_squared_error: 0.1705\n",
      "Epoch 89/100\n",
      "188/188 [==============================] - 0s 2ms/step - loss: 0.0467 - root_mean_squared_error: 0.2161 - val_loss: 0.0290 - val_root_mean_squared_error: 0.1703\n",
      "Epoch 90/100\n",
      "188/188 [==============================] - 0s 2ms/step - loss: 0.0468 - root_mean_squared_error: 0.2164 - val_loss: 0.0301 - val_root_mean_squared_error: 0.1736\n",
      "Epoch 91/100\n",
      "188/188 [==============================] - 0s 2ms/step - loss: 0.0469 - root_mean_squared_error: 0.2165 - val_loss: 0.0277 - val_root_mean_squared_error: 0.1665\n",
      "Epoch 92/100\n",
      "188/188 [==============================] - 0s 2ms/step - loss: 0.0465 - root_mean_squared_error: 0.2156 - val_loss: 0.0283 - val_root_mean_squared_error: 0.1683\n",
      "Epoch 93/100\n",
      "188/188 [==============================] - 0s 2ms/step - loss: 0.0465 - root_mean_squared_error: 0.2156 - val_loss: 0.0292 - val_root_mean_squared_error: 0.1707\n",
      "Epoch 94/100\n",
      "188/188 [==============================] - 0s 2ms/step - loss: 0.0463 - root_mean_squared_error: 0.2151 - val_loss: 0.0302 - val_root_mean_squared_error: 0.1737\n",
      "Epoch 95/100\n",
      "188/188 [==============================] - 0s 2ms/step - loss: 0.0463 - root_mean_squared_error: 0.2151 - val_loss: 0.0282 - val_root_mean_squared_error: 0.1680\n",
      "Epoch 96/100\n",
      "188/188 [==============================] - 0s 2ms/step - loss: 0.0461 - root_mean_squared_error: 0.2147 - val_loss: 0.0271 - val_root_mean_squared_error: 0.1648\n",
      "Epoch 97/100\n",
      "188/188 [==============================] - 0s 2ms/step - loss: 0.0459 - root_mean_squared_error: 0.2142 - val_loss: 0.0281 - val_root_mean_squared_error: 0.1676\n",
      "Epoch 98/100\n",
      "188/188 [==============================] - 0s 2ms/step - loss: 0.0459 - root_mean_squared_error: 0.2143 - val_loss: 0.0300 - val_root_mean_squared_error: 0.1733\n",
      "Epoch 99/100\n",
      "188/188 [==============================] - 0s 2ms/step - loss: 0.0457 - root_mean_squared_error: 0.2139 - val_loss: 0.0270 - val_root_mean_squared_error: 0.1644\n",
      "Epoch 100/100\n",
      "188/188 [==============================] - 0s 2ms/step - loss: 0.0458 - root_mean_squared_error: 0.2140 - val_loss: 0.0264 - val_root_mean_squared_error: 0.1626\n"
     ]
    },
    {
     "data": {
      "text/plain": [
       "<keras.src.callbacks.History at 0x37d7e5060>"
      ]
     },
     "execution_count": 92,
     "metadata": {},
     "output_type": "execute_result"
    }
   ],
   "source": [
    "model4_exo.fit(x = [X3_train, X3_exo_train], y = y3_train, validation_data=([X3_val, X3_exo_val], y3_val), epochs=100, callbacks=[cp4_exo])"
   ]
  },
  {
   "cell_type": "code",
   "execution_count": 93,
   "metadata": {},
   "outputs": [
    {
     "name": "stdout",
     "output_type": "stream",
     "text": [
      "33/33 [==============================] - 0s 1ms/step\n"
     ]
    },
    {
     "data": {
      "text/plain": [
       "0.21253882725698503"
      ]
     },
     "execution_count": 93,
     "metadata": {},
     "output_type": "execute_result"
    }
   ],
   "source": [
    "rmse(model4_exo.predict([X3_test, X3_exo_test]), y3_test)"
   ]
  },
  {
   "cell_type": "code",
   "execution_count": 85,
   "metadata": {},
   "outputs": [
    {
     "name": "stdout",
     "output_type": "stream",
     "text": [
      "Model: \"sequential_6\"\n",
      "_________________________________________________________________\n",
      " Layer (type)                Output Shape              Param #   \n",
      "=================================================================\n",
      " lstm_5 (LSTM)               (None, 64)                18944     \n",
      "                                                                 \n",
      " dense_14 (Dense)            (None, 8)                 520       \n",
      "                                                                 \n",
      " dense_15 (Dense)            (None, 1)                 9         \n",
      "                                                                 \n",
      "=================================================================\n",
      "Total params: 19473 (76.07 KB)\n",
      "Trainable params: 19473 (76.07 KB)\n",
      "Non-trainable params: 0 (0.00 Byte)\n",
      "_________________________________________________________________\n"
     ]
    }
   ],
   "source": [
    "model4 = Sequential()\n",
    "model4.add(InputLayer((6, 9)))\n",
    "model4.add(LSTM(64))\n",
    "model4.add(Dense(8, 'relu'))\n",
    "model4.add(Dense(1, 'linear'))\n",
    "\n",
    "model4.summary()"
   ]
  },
  {
   "cell_type": "code",
   "execution_count": 86,
   "metadata": {},
   "outputs": [
    {
     "name": "stderr",
     "output_type": "stream",
     "text": [
      "WARNING:absl:At this time, the v2.11+ optimizer `tf.keras.optimizers.Adam` runs slowly on M1/M2 Macs, please use the legacy Keras optimizer instead, located at `tf.keras.optimizers.legacy.Adam`.\n"
     ]
    }
   ],
   "source": [
    "cp4 = ModelCheckpoint('model4/', save_best_only=True)\n",
    "model4.compile(loss=MeanSquaredError(), optimizer=Adam(learning_rate=0.0001), metrics=[RootMeanSquaredError()])"
   ]
  },
  {
   "cell_type": "code",
   "execution_count": 87,
   "metadata": {},
   "outputs": [
    {
     "name": "stdout",
     "output_type": "stream",
     "text": [
      "Epoch 1/100\n",
      "172/188 [==========================>...] - ETA: 0s - loss: 0.8551 - root_mean_squared_error: 0.9247INFO:tensorflow:Assets written to: model4/assets\n"
     ]
    },
    {
     "name": "stderr",
     "output_type": "stream",
     "text": [
      "INFO:tensorflow:Assets written to: model4/assets\n"
     ]
    },
    {
     "name": "stdout",
     "output_type": "stream",
     "text": [
      "188/188 [==============================] - 3s 9ms/step - loss: 0.8357 - root_mean_squared_error: 0.9141 - val_loss: 0.4917 - val_root_mean_squared_error: 0.7012\n",
      "Epoch 2/100\n",
      "177/188 [===========================>..] - ETA: 0s - loss: 0.3613 - root_mean_squared_error: 0.6011INFO:tensorflow:Assets written to: model4/assets\n"
     ]
    },
    {
     "name": "stderr",
     "output_type": "stream",
     "text": [
      "INFO:tensorflow:Assets written to: model4/assets\n"
     ]
    },
    {
     "name": "stdout",
     "output_type": "stream",
     "text": [
      "188/188 [==============================] - 1s 8ms/step - loss: 0.3537 - root_mean_squared_error: 0.5947 - val_loss: 0.2006 - val_root_mean_squared_error: 0.4479\n",
      "Epoch 3/100\n",
      "180/188 [===========================>..] - ETA: 0s - loss: 0.2479 - root_mean_squared_error: 0.4979INFO:tensorflow:Assets written to: model4/assets\n"
     ]
    },
    {
     "name": "stderr",
     "output_type": "stream",
     "text": [
      "INFO:tensorflow:Assets written to: model4/assets\n"
     ]
    },
    {
     "name": "stdout",
     "output_type": "stream",
     "text": [
      "188/188 [==============================] - 1s 7ms/step - loss: 0.2494 - root_mean_squared_error: 0.4994 - val_loss: 0.1325 - val_root_mean_squared_error: 0.3640\n",
      "Epoch 4/100\n",
      "179/188 [===========================>..] - ETA: 0s - loss: 0.2033 - root_mean_squared_error: 0.4509INFO:tensorflow:Assets written to: model4/assets\n"
     ]
    },
    {
     "name": "stderr",
     "output_type": "stream",
     "text": [
      "INFO:tensorflow:Assets written to: model4/assets\n"
     ]
    },
    {
     "name": "stdout",
     "output_type": "stream",
     "text": [
      "188/188 [==============================] - 2s 10ms/step - loss: 0.1994 - root_mean_squared_error: 0.4466 - val_loss: 0.0942 - val_root_mean_squared_error: 0.3069\n",
      "Epoch 5/100\n",
      "185/188 [============================>.] - ETA: 0s - loss: 0.1615 - root_mean_squared_error: 0.4019INFO:tensorflow:Assets written to: model4/assets\n"
     ]
    },
    {
     "name": "stderr",
     "output_type": "stream",
     "text": [
      "INFO:tensorflow:Assets written to: model4/assets\n"
     ]
    },
    {
     "name": "stdout",
     "output_type": "stream",
     "text": [
      "188/188 [==============================] - 1s 7ms/step - loss: 0.1605 - root_mean_squared_error: 0.4006 - val_loss: 0.0631 - val_root_mean_squared_error: 0.2512\n",
      "Epoch 6/100\n",
      "183/188 [============================>.] - ETA: 0s - loss: 0.1326 - root_mean_squared_error: 0.3642INFO:tensorflow:Assets written to: model4/assets\n"
     ]
    },
    {
     "name": "stderr",
     "output_type": "stream",
     "text": [
      "INFO:tensorflow:Assets written to: model4/assets\n"
     ]
    },
    {
     "name": "stdout",
     "output_type": "stream",
     "text": [
      "188/188 [==============================] - 1s 7ms/step - loss: 0.1319 - root_mean_squared_error: 0.3631 - val_loss: 0.0475 - val_root_mean_squared_error: 0.2180\n",
      "Epoch 7/100\n",
      "166/188 [=========================>....] - ETA: 0s - loss: 0.1157 - root_mean_squared_error: 0.3401INFO:tensorflow:Assets written to: model4/assets\n"
     ]
    },
    {
     "name": "stderr",
     "output_type": "stream",
     "text": [
      "INFO:tensorflow:Assets written to: model4/assets\n"
     ]
    },
    {
     "name": "stdout",
     "output_type": "stream",
     "text": [
      "188/188 [==============================] - 1s 8ms/step - loss: 0.1120 - root_mean_squared_error: 0.3347 - val_loss: 0.0403 - val_root_mean_squared_error: 0.2009\n",
      "Epoch 8/100\n",
      "171/188 [==========================>...] - ETA: 0s - loss: 0.1013 - root_mean_squared_error: 0.3182INFO:tensorflow:Assets written to: model4/assets\n"
     ]
    },
    {
     "name": "stderr",
     "output_type": "stream",
     "text": [
      "INFO:tensorflow:Assets written to: model4/assets\n"
     ]
    },
    {
     "name": "stdout",
     "output_type": "stream",
     "text": [
      "188/188 [==============================] - 1s 8ms/step - loss: 0.1000 - root_mean_squared_error: 0.3162 - val_loss: 0.0401 - val_root_mean_squared_error: 0.2001\n",
      "Epoch 9/100\n",
      "177/188 [===========================>..] - ETA: 0s - loss: 0.0921 - root_mean_squared_error: 0.3035INFO:tensorflow:Assets written to: model4/assets\n"
     ]
    },
    {
     "name": "stderr",
     "output_type": "stream",
     "text": [
      "INFO:tensorflow:Assets written to: model4/assets\n"
     ]
    },
    {
     "name": "stdout",
     "output_type": "stream",
     "text": [
      "188/188 [==============================] - 2s 10ms/step - loss: 0.0919 - root_mean_squared_error: 0.3031 - val_loss: 0.0393 - val_root_mean_squared_error: 0.1984\n",
      "Epoch 10/100\n",
      "188/188 [==============================] - 0s 2ms/step - loss: 0.0866 - root_mean_squared_error: 0.2943 - val_loss: 0.0404 - val_root_mean_squared_error: 0.2009\n",
      "Epoch 11/100\n",
      "183/188 [============================>.] - ETA: 0s - loss: 0.0828 - root_mean_squared_error: 0.2877INFO:tensorflow:Assets written to: model4/assets\n"
     ]
    },
    {
     "name": "stderr",
     "output_type": "stream",
     "text": [
      "INFO:tensorflow:Assets written to: model4/assets\n"
     ]
    },
    {
     "name": "stdout",
     "output_type": "stream",
     "text": [
      "188/188 [==============================] - 1s 7ms/step - loss: 0.0825 - root_mean_squared_error: 0.2872 - val_loss: 0.0361 - val_root_mean_squared_error: 0.1900\n",
      "Epoch 12/100\n",
      "188/188 [==============================] - 0s 2ms/step - loss: 0.0794 - root_mean_squared_error: 0.2819 - val_loss: 0.0378 - val_root_mean_squared_error: 0.1945\n",
      "Epoch 13/100\n",
      "188/188 [==============================] - 0s 2ms/step - loss: 0.0765 - root_mean_squared_error: 0.2765 - val_loss: 0.0385 - val_root_mean_squared_error: 0.1963\n",
      "Epoch 14/100\n",
      "188/188 [==============================] - 0s 2ms/step - loss: 0.0740 - root_mean_squared_error: 0.2720 - val_loss: 0.0400 - val_root_mean_squared_error: 0.2001\n",
      "Epoch 15/100\n",
      "188/188 [==============================] - 0s 2ms/step - loss: 0.0719 - root_mean_squared_error: 0.2682 - val_loss: 0.0375 - val_root_mean_squared_error: 0.1937\n",
      "Epoch 16/100\n",
      "188/188 [==============================] - 0s 2ms/step - loss: 0.0698 - root_mean_squared_error: 0.2642 - val_loss: 0.0375 - val_root_mean_squared_error: 0.1937\n",
      "Epoch 17/100\n",
      "188/188 [==============================] - 0s 2ms/step - loss: 0.0682 - root_mean_squared_error: 0.2612 - val_loss: 0.0393 - val_root_mean_squared_error: 0.1984\n",
      "Epoch 18/100\n",
      "188/188 [==============================] - 0s 2ms/step - loss: 0.0667 - root_mean_squared_error: 0.2582 - val_loss: 0.0398 - val_root_mean_squared_error: 0.1994\n",
      "Epoch 19/100\n",
      "188/188 [==============================] - 0s 2ms/step - loss: 0.0657 - root_mean_squared_error: 0.2563 - val_loss: 0.0364 - val_root_mean_squared_error: 0.1907\n",
      "Epoch 20/100\n",
      "188/188 [==============================] - 0s 2ms/step - loss: 0.0641 - root_mean_squared_error: 0.2533 - val_loss: 0.0389 - val_root_mean_squared_error: 0.1974\n",
      "Epoch 21/100\n",
      "188/188 [==============================] - 0s 2ms/step - loss: 0.0630 - root_mean_squared_error: 0.2511 - val_loss: 0.0369 - val_root_mean_squared_error: 0.1920\n",
      "Epoch 22/100\n",
      "182/188 [============================>.] - ETA: 0s - loss: 0.0605 - root_mean_squared_error: 0.2459INFO:tensorflow:Assets written to: model4/assets\n"
     ]
    },
    {
     "name": "stderr",
     "output_type": "stream",
     "text": [
      "INFO:tensorflow:Assets written to: model4/assets\n"
     ]
    },
    {
     "name": "stdout",
     "output_type": "stream",
     "text": [
      "188/188 [==============================] - 1s 7ms/step - loss: 0.0617 - root_mean_squared_error: 0.2484 - val_loss: 0.0347 - val_root_mean_squared_error: 0.1864\n",
      "Epoch 23/100\n",
      "188/188 [==============================] - 0s 2ms/step - loss: 0.0609 - root_mean_squared_error: 0.2467 - val_loss: 0.0355 - val_root_mean_squared_error: 0.1884\n",
      "Epoch 24/100\n",
      "188/188 [==============================] - 0s 2ms/step - loss: 0.0599 - root_mean_squared_error: 0.2448 - val_loss: 0.0393 - val_root_mean_squared_error: 0.1982\n",
      "Epoch 25/100\n",
      "161/188 [========================>.....] - ETA: 0s - loss: 0.0582 - root_mean_squared_error: 0.2412INFO:tensorflow:Assets written to: model4/assets\n"
     ]
    },
    {
     "name": "stderr",
     "output_type": "stream",
     "text": [
      "INFO:tensorflow:Assets written to: model4/assets\n"
     ]
    },
    {
     "name": "stdout",
     "output_type": "stream",
     "text": [
      "188/188 [==============================] - 1s 7ms/step - loss: 0.0592 - root_mean_squared_error: 0.2432 - val_loss: 0.0345 - val_root_mean_squared_error: 0.1859\n",
      "Epoch 26/100\n",
      "188/188 [==============================] - 0s 2ms/step - loss: 0.0583 - root_mean_squared_error: 0.2415 - val_loss: 0.0357 - val_root_mean_squared_error: 0.1889\n",
      "Epoch 27/100\n",
      "188/188 [==============================] - 0s 2ms/step - loss: 0.0576 - root_mean_squared_error: 0.2400 - val_loss: 0.0363 - val_root_mean_squared_error: 0.1904\n",
      "Epoch 28/100\n",
      "188/188 [==============================] - 0s 2ms/step - loss: 0.0571 - root_mean_squared_error: 0.2389 - val_loss: 0.0354 - val_root_mean_squared_error: 0.1883\n",
      "Epoch 29/100\n",
      "188/188 [==============================] - 0s 2ms/step - loss: 0.0564 - root_mean_squared_error: 0.2374 - val_loss: 0.0352 - val_root_mean_squared_error: 0.1876\n",
      "Epoch 30/100\n",
      "174/188 [==========================>...] - ETA: 0s - loss: 0.0556 - root_mean_squared_error: 0.2359INFO:tensorflow:Assets written to: model4/assets\n"
     ]
    },
    {
     "name": "stderr",
     "output_type": "stream",
     "text": [
      "INFO:tensorflow:Assets written to: model4/assets\n"
     ]
    },
    {
     "name": "stdout",
     "output_type": "stream",
     "text": [
      "188/188 [==============================] - 1s 7ms/step - loss: 0.0560 - root_mean_squared_error: 0.2367 - val_loss: 0.0337 - val_root_mean_squared_error: 0.1837\n",
      "Epoch 31/100\n",
      "188/188 [==============================] - 0s 2ms/step - loss: 0.0552 - root_mean_squared_error: 0.2350 - val_loss: 0.0340 - val_root_mean_squared_error: 0.1845\n",
      "Epoch 32/100\n",
      "188/188 [==============================] - 0s 2ms/step - loss: 0.0549 - root_mean_squared_error: 0.2343 - val_loss: 0.0352 - val_root_mean_squared_error: 0.1877\n",
      "Epoch 33/100\n",
      "188/188 [==============================] - 0s 2ms/step - loss: 0.0544 - root_mean_squared_error: 0.2333 - val_loss: 0.0351 - val_root_mean_squared_error: 0.1873\n",
      "Epoch 34/100\n",
      "164/188 [=========================>....] - ETA: 0s - loss: 0.0561 - root_mean_squared_error: 0.2368INFO:tensorflow:Assets written to: model4/assets\n"
     ]
    },
    {
     "name": "stderr",
     "output_type": "stream",
     "text": [
      "INFO:tensorflow:Assets written to: model4/assets\n"
     ]
    },
    {
     "name": "stdout",
     "output_type": "stream",
     "text": [
      "188/188 [==============================] - 1s 7ms/step - loss: 0.0541 - root_mean_squared_error: 0.2327 - val_loss: 0.0327 - val_root_mean_squared_error: 0.1807\n",
      "Epoch 35/100\n",
      "182/188 [============================>.] - ETA: 0s - loss: 0.0543 - root_mean_squared_error: 0.2330INFO:tensorflow:Assets written to: model4/assets\n"
     ]
    },
    {
     "name": "stderr",
     "output_type": "stream",
     "text": [
      "INFO:tensorflow:Assets written to: model4/assets\n"
     ]
    },
    {
     "name": "stdout",
     "output_type": "stream",
     "text": [
      "188/188 [==============================] - 2s 10ms/step - loss: 0.0534 - root_mean_squared_error: 0.2311 - val_loss: 0.0320 - val_root_mean_squared_error: 0.1787\n",
      "Epoch 36/100\n",
      "188/188 [==============================] - 0s 2ms/step - loss: 0.0533 - root_mean_squared_error: 0.2309 - val_loss: 0.0340 - val_root_mean_squared_error: 0.1843\n",
      "Epoch 37/100\n",
      "188/188 [==============================] - 0s 2ms/step - loss: 0.0527 - root_mean_squared_error: 0.2296 - val_loss: 0.0339 - val_root_mean_squared_error: 0.1842\n",
      "Epoch 38/100\n",
      "172/188 [==========================>...] - ETA: 0s - loss: 0.0544 - root_mean_squared_error: 0.2332INFO:tensorflow:Assets written to: model4/assets\n"
     ]
    },
    {
     "name": "stderr",
     "output_type": "stream",
     "text": [
      "INFO:tensorflow:Assets written to: model4/assets\n"
     ]
    },
    {
     "name": "stdout",
     "output_type": "stream",
     "text": [
      "188/188 [==============================] - 1s 7ms/step - loss: 0.0527 - root_mean_squared_error: 0.2295 - val_loss: 0.0306 - val_root_mean_squared_error: 0.1749\n",
      "Epoch 39/100\n",
      "188/188 [==============================] - 0s 2ms/step - loss: 0.0522 - root_mean_squared_error: 0.2285 - val_loss: 0.0326 - val_root_mean_squared_error: 0.1807\n",
      "Epoch 40/100\n",
      "188/188 [==============================] - 0s 2ms/step - loss: 0.0516 - root_mean_squared_error: 0.2271 - val_loss: 0.0328 - val_root_mean_squared_error: 0.1812\n",
      "Epoch 41/100\n",
      "188/188 [==============================] - 0s 2ms/step - loss: 0.0513 - root_mean_squared_error: 0.2266 - val_loss: 0.0323 - val_root_mean_squared_error: 0.1799\n",
      "Epoch 42/100\n",
      "188/188 [==============================] - 0s 2ms/step - loss: 0.0513 - root_mean_squared_error: 0.2264 - val_loss: 0.0341 - val_root_mean_squared_error: 0.1847\n",
      "Epoch 43/100\n",
      "176/188 [===========================>..] - ETA: 0s - loss: 0.0508 - root_mean_squared_error: 0.2253INFO:tensorflow:Assets written to: model4/assets\n"
     ]
    },
    {
     "name": "stderr",
     "output_type": "stream",
     "text": [
      "INFO:tensorflow:Assets written to: model4/assets\n"
     ]
    },
    {
     "name": "stdout",
     "output_type": "stream",
     "text": [
      "188/188 [==============================] - 1s 7ms/step - loss: 0.0510 - root_mean_squared_error: 0.2258 - val_loss: 0.0300 - val_root_mean_squared_error: 0.1731\n",
      "Epoch 44/100\n",
      "188/188 [==============================] - 0s 2ms/step - loss: 0.0505 - root_mean_squared_error: 0.2247 - val_loss: 0.0315 - val_root_mean_squared_error: 0.1776\n",
      "Epoch 45/100\n",
      "188/188 [==============================] - 0s 2ms/step - loss: 0.0502 - root_mean_squared_error: 0.2240 - val_loss: 0.0307 - val_root_mean_squared_error: 0.1753\n",
      "Epoch 46/100\n",
      "188/188 [==============================] - 0s 2ms/step - loss: 0.0503 - root_mean_squared_error: 0.2242 - val_loss: 0.0323 - val_root_mean_squared_error: 0.1796\n",
      "Epoch 47/100\n",
      "188/188 [==============================] - 0s 2ms/step - loss: 0.0498 - root_mean_squared_error: 0.2233 - val_loss: 0.0321 - val_root_mean_squared_error: 0.1790\n",
      "Epoch 48/100\n",
      "188/188 [==============================] - 0s 2ms/step - loss: 0.0497 - root_mean_squared_error: 0.2229 - val_loss: 0.0314 - val_root_mean_squared_error: 0.1772\n",
      "Epoch 49/100\n",
      "188/188 [==============================] - 0s 2ms/step - loss: 0.0495 - root_mean_squared_error: 0.2225 - val_loss: 0.0322 - val_root_mean_squared_error: 0.1793\n",
      "Epoch 50/100\n",
      "188/188 [==============================] - 0s 2ms/step - loss: 0.0492 - root_mean_squared_error: 0.2218 - val_loss: 0.0320 - val_root_mean_squared_error: 0.1789\n",
      "Epoch 51/100\n",
      "188/188 [==============================] - 0s 2ms/step - loss: 0.0492 - root_mean_squared_error: 0.2218 - val_loss: 0.0338 - val_root_mean_squared_error: 0.1838\n",
      "Epoch 52/100\n",
      "188/188 [==============================] - 0s 2ms/step - loss: 0.0489 - root_mean_squared_error: 0.2211 - val_loss: 0.0351 - val_root_mean_squared_error: 0.1873\n",
      "Epoch 53/100\n",
      "188/188 [==============================] - 0s 2ms/step - loss: 0.0487 - root_mean_squared_error: 0.2207 - val_loss: 0.0301 - val_root_mean_squared_error: 0.1735\n",
      "Epoch 54/100\n",
      "188/188 [==============================] - 0s 2ms/step - loss: 0.0482 - root_mean_squared_error: 0.2195 - val_loss: 0.0312 - val_root_mean_squared_error: 0.1766\n",
      "Epoch 55/100\n",
      "188/188 [==============================] - 0s 2ms/step - loss: 0.0481 - root_mean_squared_error: 0.2194 - val_loss: 0.0341 - val_root_mean_squared_error: 0.1847\n",
      "Epoch 56/100\n",
      "188/188 [==============================] - 0s 2ms/step - loss: 0.0479 - root_mean_squared_error: 0.2187 - val_loss: 0.0308 - val_root_mean_squared_error: 0.1755\n",
      "Epoch 57/100\n",
      "188/188 [==============================] - 0s 2ms/step - loss: 0.0478 - root_mean_squared_error: 0.2186 - val_loss: 0.0309 - val_root_mean_squared_error: 0.1758\n",
      "Epoch 58/100\n",
      "188/188 [==============================] - 0s 2ms/step - loss: 0.0478 - root_mean_squared_error: 0.2186 - val_loss: 0.0312 - val_root_mean_squared_error: 0.1766\n",
      "Epoch 59/100\n",
      "188/188 [==============================] - 0s 2ms/step - loss: 0.0473 - root_mean_squared_error: 0.2174 - val_loss: 0.0300 - val_root_mean_squared_error: 0.1731\n",
      "Epoch 60/100\n",
      "188/188 [==============================] - 0s 2ms/step - loss: 0.0474 - root_mean_squared_error: 0.2178 - val_loss: 0.0326 - val_root_mean_squared_error: 0.1804\n",
      "Epoch 61/100\n",
      "188/188 [==============================] - 0s 2ms/step - loss: 0.0472 - root_mean_squared_error: 0.2172 - val_loss: 0.0334 - val_root_mean_squared_error: 0.1828\n",
      "Epoch 62/100\n",
      "172/188 [==========================>...] - ETA: 0s - loss: 0.0468 - root_mean_squared_error: 0.2164INFO:tensorflow:Assets written to: model4/assets\n"
     ]
    },
    {
     "name": "stderr",
     "output_type": "stream",
     "text": [
      "INFO:tensorflow:Assets written to: model4/assets\n"
     ]
    },
    {
     "name": "stdout",
     "output_type": "stream",
     "text": [
      "188/188 [==============================] - 1s 7ms/step - loss: 0.0470 - root_mean_squared_error: 0.2167 - val_loss: 0.0292 - val_root_mean_squared_error: 0.1709\n",
      "Epoch 63/100\n",
      "188/188 [==============================] - 0s 2ms/step - loss: 0.0467 - root_mean_squared_error: 0.2161 - val_loss: 0.0332 - val_root_mean_squared_error: 0.1823\n",
      "Epoch 64/100\n",
      "188/188 [==============================] - 0s 2ms/step - loss: 0.0467 - root_mean_squared_error: 0.2160 - val_loss: 0.0327 - val_root_mean_squared_error: 0.1807\n",
      "Epoch 65/100\n",
      "188/188 [==============================] - 0s 2ms/step - loss: 0.0466 - root_mean_squared_error: 0.2159 - val_loss: 0.0293 - val_root_mean_squared_error: 0.1710\n",
      "Epoch 66/100\n",
      "188/188 [==============================] - 0s 2ms/step - loss: 0.0464 - root_mean_squared_error: 0.2154 - val_loss: 0.0355 - val_root_mean_squared_error: 0.1885\n",
      "Epoch 67/100\n",
      "188/188 [==============================] - 0s 2ms/step - loss: 0.0461 - root_mean_squared_error: 0.2148 - val_loss: 0.0320 - val_root_mean_squared_error: 0.1788\n",
      "Epoch 68/100\n",
      "188/188 [==============================] - 0s 2ms/step - loss: 0.0463 - root_mean_squared_error: 0.2152 - val_loss: 0.0294 - val_root_mean_squared_error: 0.1715\n",
      "Epoch 69/100\n",
      "188/188 [==============================] - 0s 2ms/step - loss: 0.0459 - root_mean_squared_error: 0.2142 - val_loss: 0.0314 - val_root_mean_squared_error: 0.1772\n",
      "Epoch 70/100\n",
      "188/188 [==============================] - 0s 2ms/step - loss: 0.0456 - root_mean_squared_error: 0.2136 - val_loss: 0.0334 - val_root_mean_squared_error: 0.1826\n",
      "Epoch 71/100\n",
      "188/188 [==============================] - 0s 2ms/step - loss: 0.0457 - root_mean_squared_error: 0.2138 - val_loss: 0.0313 - val_root_mean_squared_error: 0.1769\n",
      "Epoch 72/100\n",
      "176/188 [===========================>..] - ETA: 0s - loss: 0.0447 - root_mean_squared_error: 0.2114INFO:tensorflow:Assets written to: model4/assets\n"
     ]
    },
    {
     "name": "stderr",
     "output_type": "stream",
     "text": [
      "INFO:tensorflow:Assets written to: model4/assets\n"
     ]
    },
    {
     "name": "stdout",
     "output_type": "stream",
     "text": [
      "188/188 [==============================] - 1s 7ms/step - loss: 0.0457 - root_mean_squared_error: 0.2138 - val_loss: 0.0287 - val_root_mean_squared_error: 0.1694\n",
      "Epoch 73/100\n",
      "188/188 [==============================] - 0s 2ms/step - loss: 0.0454 - root_mean_squared_error: 0.2130 - val_loss: 0.0291 - val_root_mean_squared_error: 0.1707\n",
      "Epoch 74/100\n",
      "188/188 [==============================] - 0s 2ms/step - loss: 0.0453 - root_mean_squared_error: 0.2128 - val_loss: 0.0332 - val_root_mean_squared_error: 0.1822\n",
      "Epoch 75/100\n",
      "188/188 [==============================] - 0s 2ms/step - loss: 0.0451 - root_mean_squared_error: 0.2123 - val_loss: 0.0309 - val_root_mean_squared_error: 0.1757\n",
      "Epoch 76/100\n",
      "188/188 [==============================] - 0s 2ms/step - loss: 0.0452 - root_mean_squared_error: 0.2126 - val_loss: 0.0338 - val_root_mean_squared_error: 0.1838\n",
      "Epoch 77/100\n",
      "188/188 [==============================] - 0s 2ms/step - loss: 0.0449 - root_mean_squared_error: 0.2119 - val_loss: 0.0310 - val_root_mean_squared_error: 0.1761\n",
      "Epoch 78/100\n",
      "188/188 [==============================] - 0s 2ms/step - loss: 0.0447 - root_mean_squared_error: 0.2114 - val_loss: 0.0320 - val_root_mean_squared_error: 0.1790\n",
      "Epoch 79/100\n",
      "188/188 [==============================] - 0s 2ms/step - loss: 0.0447 - root_mean_squared_error: 0.2115 - val_loss: 0.0313 - val_root_mean_squared_error: 0.1770\n",
      "Epoch 80/100\n",
      "188/188 [==============================] - 0s 2ms/step - loss: 0.0444 - root_mean_squared_error: 0.2107 - val_loss: 0.0312 - val_root_mean_squared_error: 0.1767\n",
      "Epoch 81/100\n",
      "188/188 [==============================] - 0s 2ms/step - loss: 0.0443 - root_mean_squared_error: 0.2105 - val_loss: 0.0306 - val_root_mean_squared_error: 0.1750\n",
      "Epoch 82/100\n",
      "188/188 [==============================] - 0s 2ms/step - loss: 0.0442 - root_mean_squared_error: 0.2101 - val_loss: 0.0292 - val_root_mean_squared_error: 0.1708\n",
      "Epoch 83/100\n",
      "188/188 [==============================] - 0s 2ms/step - loss: 0.0440 - root_mean_squared_error: 0.2098 - val_loss: 0.0300 - val_root_mean_squared_error: 0.1733\n",
      "Epoch 84/100\n",
      "188/188 [==============================] - 0s 2ms/step - loss: 0.0439 - root_mean_squared_error: 0.2096 - val_loss: 0.0342 - val_root_mean_squared_error: 0.1850\n",
      "Epoch 85/100\n",
      "188/188 [==============================] - 0s 2ms/step - loss: 0.0438 - root_mean_squared_error: 0.2094 - val_loss: 0.0301 - val_root_mean_squared_error: 0.1736\n",
      "Epoch 86/100\n",
      "188/188 [==============================] - 0s 2ms/step - loss: 0.0437 - root_mean_squared_error: 0.2090 - val_loss: 0.0308 - val_root_mean_squared_error: 0.1755\n",
      "Epoch 87/100\n",
      "188/188 [==============================] - 0s 2ms/step - loss: 0.0435 - root_mean_squared_error: 0.2085 - val_loss: 0.0324 - val_root_mean_squared_error: 0.1799\n",
      "Epoch 88/100\n",
      "188/188 [==============================] - 0s 2ms/step - loss: 0.0435 - root_mean_squared_error: 0.2087 - val_loss: 0.0295 - val_root_mean_squared_error: 0.1716\n",
      "Epoch 89/100\n",
      "188/188 [==============================] - 0s 2ms/step - loss: 0.0436 - root_mean_squared_error: 0.2089 - val_loss: 0.0335 - val_root_mean_squared_error: 0.1830\n",
      "Epoch 90/100\n",
      "188/188 [==============================] - 0s 2ms/step - loss: 0.0433 - root_mean_squared_error: 0.2081 - val_loss: 0.0329 - val_root_mean_squared_error: 0.1814\n",
      "Epoch 91/100\n",
      "188/188 [==============================] - 0s 2ms/step - loss: 0.0431 - root_mean_squared_error: 0.2075 - val_loss: 0.0304 - val_root_mean_squared_error: 0.1743\n",
      "Epoch 92/100\n",
      "188/188 [==============================] - 0s 2ms/step - loss: 0.0432 - root_mean_squared_error: 0.2079 - val_loss: 0.0303 - val_root_mean_squared_error: 0.1741\n",
      "Epoch 93/100\n",
      "188/188 [==============================] - 0s 3ms/step - loss: 0.0431 - root_mean_squared_error: 0.2076 - val_loss: 0.0332 - val_root_mean_squared_error: 0.1821\n",
      "Epoch 94/100\n",
      "188/188 [==============================] - 0s 2ms/step - loss: 0.0428 - root_mean_squared_error: 0.2069 - val_loss: 0.0300 - val_root_mean_squared_error: 0.1732\n",
      "Epoch 95/100\n",
      "188/188 [==============================] - 0s 2ms/step - loss: 0.0428 - root_mean_squared_error: 0.2068 - val_loss: 0.0333 - val_root_mean_squared_error: 0.1824\n",
      "Epoch 96/100\n",
      "188/188 [==============================] - 0s 2ms/step - loss: 0.0425 - root_mean_squared_error: 0.2063 - val_loss: 0.0311 - val_root_mean_squared_error: 0.1764\n",
      "Epoch 97/100\n",
      "188/188 [==============================] - 0s 2ms/step - loss: 0.0424 - root_mean_squared_error: 0.2058 - val_loss: 0.0327 - val_root_mean_squared_error: 0.1809\n",
      "Epoch 98/100\n",
      "188/188 [==============================] - 0s 2ms/step - loss: 0.0421 - root_mean_squared_error: 0.2052 - val_loss: 0.0343 - val_root_mean_squared_error: 0.1851\n",
      "Epoch 99/100\n",
      "188/188 [==============================] - 0s 2ms/step - loss: 0.0424 - root_mean_squared_error: 0.2059 - val_loss: 0.0324 - val_root_mean_squared_error: 0.1800\n",
      "Epoch 100/100\n",
      "188/188 [==============================] - 0s 2ms/step - loss: 0.0422 - root_mean_squared_error: 0.2054 - val_loss: 0.0311 - val_root_mean_squared_error: 0.1763\n"
     ]
    },
    {
     "data": {
      "text/plain": [
       "<keras.src.callbacks.History at 0x33e3e0d30>"
      ]
     },
     "execution_count": 87,
     "metadata": {},
     "output_type": "execute_result"
    }
   ],
   "source": [
    "model4.fit(X2_train, y2_train, validation_data=(X2_val, y2_val), epochs=100, callbacks=[cp4])"
   ]
  },
  {
   "cell_type": "code",
   "execution_count": 94,
   "metadata": {},
   "outputs": [
    {
     "name": "stdout",
     "output_type": "stream",
     "text": [
      "33/33 [==============================] - 0s 904us/step\n"
     ]
    },
    {
     "data": {
      "text/html": [
       "<div>\n",
       "<style scoped>\n",
       "    .dataframe tbody tr th:only-of-type {\n",
       "        vertical-align: middle;\n",
       "    }\n",
       "\n",
       "    .dataframe tbody tr th {\n",
       "        vertical-align: top;\n",
       "    }\n",
       "\n",
       "    .dataframe thead th {\n",
       "        text-align: right;\n",
       "    }\n",
       "</style>\n",
       "<table border=\"1\" class=\"dataframe\">\n",
       "  <thead>\n",
       "    <tr style=\"text-align: right;\">\n",
       "      <th></th>\n",
       "      <th>Inflow Predictions</th>\n",
       "      <th>Inflow Actuals</th>\n",
       "    </tr>\n",
       "  </thead>\n",
       "  <tbody>\n",
       "    <tr>\n",
       "      <th>0</th>\n",
       "      <td>976.597046</td>\n",
       "      <td>905.19</td>\n",
       "    </tr>\n",
       "    <tr>\n",
       "      <th>1</th>\n",
       "      <td>936.422974</td>\n",
       "      <td>862.98</td>\n",
       "    </tr>\n",
       "    <tr>\n",
       "      <th>2</th>\n",
       "      <td>865.569824</td>\n",
       "      <td>832.00</td>\n",
       "    </tr>\n",
       "    <tr>\n",
       "      <th>3</th>\n",
       "      <td>2337.095215</td>\n",
       "      <td>3217.89</td>\n",
       "    </tr>\n",
       "    <tr>\n",
       "      <th>4</th>\n",
       "      <td>6866.703613</td>\n",
       "      <td>5620.73</td>\n",
       "    </tr>\n",
       "    <tr>\n",
       "      <th>...</th>\n",
       "      <td>...</td>\n",
       "      <td>...</td>\n",
       "    </tr>\n",
       "    <tr>\n",
       "      <th>1024</th>\n",
       "      <td>4527.601074</td>\n",
       "      <td>5197.40</td>\n",
       "    </tr>\n",
       "    <tr>\n",
       "      <th>1025</th>\n",
       "      <td>4138.822754</td>\n",
       "      <td>6368.46</td>\n",
       "    </tr>\n",
       "    <tr>\n",
       "      <th>1026</th>\n",
       "      <td>5744.674805</td>\n",
       "      <td>7162.01</td>\n",
       "    </tr>\n",
       "    <tr>\n",
       "      <th>1027</th>\n",
       "      <td>5990.920898</td>\n",
       "      <td>6869.41</td>\n",
       "    </tr>\n",
       "    <tr>\n",
       "      <th>1028</th>\n",
       "      <td>5565.617676</td>\n",
       "      <td>6335.36</td>\n",
       "    </tr>\n",
       "  </tbody>\n",
       "</table>\n",
       "<p>1029 rows × 2 columns</p>\n",
       "</div>"
      ],
      "text/plain": [
       "      Inflow Predictions  Inflow Actuals\n",
       "0             976.597046          905.19\n",
       "1             936.422974          862.98\n",
       "2             865.569824          832.00\n",
       "3            2337.095215         3217.89\n",
       "4            6866.703613         5620.73\n",
       "...                  ...             ...\n",
       "1024         4527.601074         5197.40\n",
       "1025         4138.822754         6368.46\n",
       "1026         5744.674805         7162.01\n",
       "1027         5990.920898         6869.41\n",
       "1028         5565.617676         6335.36\n",
       "\n",
       "[1029 rows x 2 columns]"
      ]
     },
     "execution_count": 94,
     "metadata": {},
     "output_type": "execute_result"
    }
   ],
   "source": [
    "def postprocess(arr):\n",
    "  arr = (arr*inflow_training_std) + inflow_training_mean\n",
    "  return arr\n",
    "\n",
    "def get_predictions_postprocessed(model, X, y):\n",
    "  predictions = model.predict(X)\n",
    "  inflow_preds = postprocess(predictions[:, 0])\n",
    "  inflow_actuals = postprocess(y[:])\n",
    "  df = pd.DataFrame(data={'Inflow Predictions': inflow_preds, \n",
    "                          'Inflow Actuals':inflow_actuals})\n",
    "  return df\n",
    "\n",
    "post_processed_df = get_predictions_postprocessed(model4_exo, [X3_test,X3_exo_test], y3_test)\n",
    "post_processed_df"
   ]
  },
  {
   "cell_type": "code",
   "execution_count": 95,
   "metadata": {},
   "outputs": [
    {
     "data": {
      "text/plain": [
       "352.84231010208964"
      ]
     },
     "execution_count": 95,
     "metadata": {},
     "output_type": "execute_result"
    }
   ],
   "source": [
    "rmse(post_processed_df['Inflow Predictions'], post_processed_df['Inflow Actuals'])"
   ]
  },
  {
   "cell_type": "code",
   "execution_count": null,
   "metadata": {},
   "outputs": [
    {
     "data": {
      "image/png": "[encoded data removed]",
      "text/plain": [
       "<Figure size 1000x500 with 1 Axes>"
      ]
     },
     "metadata": {},
     "output_type": "display_data"
    }
   ],
   "source": [
    "start, end = 0, 100\n",
    "plt.figure(figsize=(10, 5))\n",
    "plt.plot(post_processed_df.index[start:end], post_processed_df['Inflow Predictions'][start:end], label='Predictions')\n",
    "plt.plot(post_processed_df.index[start:end], post_processed_df['Inflow Actuals'][start:end], label='Actuals')\n",
    "\n",
    "plt.xlabel(\"Days\")\n",
    "plt.ylabel(\"Inflow\")\n",
    "plt.title(\"Inflow Predictions vs Actuals\")\n",
    "plt.legend()\n",
    "\n",
    "plt.show()"
   ]
  },
  {
   "cell_type": "markdown",
   "metadata": {},
   "source": [
    "## LSTM flere lag"
   ]
  },
  {
   "cell_type": "code",
   "execution_count": 44,
   "metadata": {},
   "outputs": [
    {
     "name": "stdout",
     "output_type": "stream",
     "text": [
      "Model: \"sequential_4\"\n",
      "_________________________________________________________________\n",
      " Layer (type)                Output Shape              Param #   \n",
      "=================================================================\n",
      " lstm_2 (LSTM)               (None, 6, 32)             4864      \n",
      "                                                                 \n",
      " lstm_3 (LSTM)               (None, 16)                3136      \n",
      "                                                                 \n",
      " dense_8 (Dense)             (None, 8)                 136       \n",
      "                                                                 \n",
      " dense_9 (Dense)             (None, 1)                 9         \n",
      "                                                                 \n",
      "=================================================================\n",
      "Total params: 8145 (31.82 KB)\n",
      "Trainable params: 8145 (31.82 KB)\n",
      "Non-trainable params: 0 (0.00 Byte)\n",
      "_________________________________________________________________\n"
     ]
    }
   ],
   "source": [
    "model5 = Sequential()\n",
    "model5.add(InputLayer((6, 5)))\n",
    "model5.add(LSTM(32, return_sequences=True))\n",
    "model5.add(LSTM(16))\n",
    "model5.add(Dense(8, 'relu'))\n",
    "model5.add(Dense(1, 'linear'))\n",
    "\n",
    "model5.summary()"
   ]
  },
  {
   "cell_type": "code",
   "execution_count": 45,
   "metadata": {},
   "outputs": [
    {
     "name": "stderr",
     "output_type": "stream",
     "text": [
      "WARNING:absl:At this time, the v2.11+ optimizer `tf.keras.optimizers.Adam` runs slowly on M1/M2 Macs, please use the legacy Keras optimizer instead, located at `tf.keras.optimizers.legacy.Adam`.\n"
     ]
    }
   ],
   "source": [
    "cp5 = ModelCheckpoint('model5/', save_best_only=True)\n",
    "model5.compile(loss=MeanSquaredError(), optimizer=Adam(learning_rate=0.001), metrics=[RootMeanSquaredError()])"
   ]
  },
  {
   "cell_type": "code",
   "execution_count": 46,
   "metadata": {},
   "outputs": [
    {
     "name": "stdout",
     "output_type": "stream",
     "text": [
      "Epoch 1/50\n",
      "180/188 [===========================>..] - ETA: 0s - loss: 0.4340 - root_mean_squared_error: 0.6588INFO:tensorflow:Assets written to: model5/assets\n"
     ]
    },
    {
     "name": "stderr",
     "output_type": "stream",
     "text": [
      "INFO:tensorflow:Assets written to: model5/assets\n"
     ]
    },
    {
     "name": "stdout",
     "output_type": "stream",
     "text": [
      "188/188 [==============================] - 4s 14ms/step - loss: 0.4283 - root_mean_squared_error: 0.6544 - val_loss: 0.1332 - val_root_mean_squared_error: 0.3650\n",
      "Epoch 2/50\n",
      "172/188 [==========================>...] - ETA: 0s - loss: 0.1333 - root_mean_squared_error: 0.3651INFO:tensorflow:Assets written to: model5/assets\n"
     ]
    },
    {
     "name": "stderr",
     "output_type": "stream",
     "text": [
      "INFO:tensorflow:Assets written to: model5/assets\n"
     ]
    },
    {
     "name": "stdout",
     "output_type": "stream",
     "text": [
      "188/188 [==============================] - 3s 13ms/step - loss: 0.1311 - root_mean_squared_error: 0.3621 - val_loss: 0.0462 - val_root_mean_squared_error: 0.2149\n",
      "Epoch 3/50\n",
      "170/188 [==========================>...] - ETA: 0s - loss: 0.0837 - root_mean_squared_error: 0.2893INFO:tensorflow:Assets written to: model5/assets\n"
     ]
    },
    {
     "name": "stderr",
     "output_type": "stream",
     "text": [
      "INFO:tensorflow:Assets written to: model5/assets\n"
     ]
    },
    {
     "name": "stdout",
     "output_type": "stream",
     "text": [
      "188/188 [==============================] - 2s 12ms/step - loss: 0.0838 - root_mean_squared_error: 0.2894 - val_loss: 0.0386 - val_root_mean_squared_error: 0.1965\n",
      "Epoch 4/50\n",
      "188/188 [==============================] - 0s 2ms/step - loss: 0.0759 - root_mean_squared_error: 0.2755 - val_loss: 0.0466 - val_root_mean_squared_error: 0.2159\n",
      "Epoch 5/50\n",
      "168/188 [=========================>....] - ETA: 0s - loss: 0.0741 - root_mean_squared_error: 0.2723INFO:tensorflow:Assets written to: model5/assets\n"
     ]
    },
    {
     "name": "stderr",
     "output_type": "stream",
     "text": [
      "INFO:tensorflow:Assets written to: model5/assets\n"
     ]
    },
    {
     "name": "stdout",
     "output_type": "stream",
     "text": [
      "188/188 [==============================] - 2s 12ms/step - loss: 0.0727 - root_mean_squared_error: 0.2696 - val_loss: 0.0346 - val_root_mean_squared_error: 0.1860\n",
      "Epoch 6/50\n",
      "176/188 [===========================>..] - ETA: 0s - loss: 0.0699 - root_mean_squared_error: 0.2644INFO:tensorflow:Assets written to: model5/assets\n"
     ]
    },
    {
     "name": "stderr",
     "output_type": "stream",
     "text": [
      "INFO:tensorflow:Assets written to: model5/assets\n"
     ]
    },
    {
     "name": "stdout",
     "output_type": "stream",
     "text": [
      "188/188 [==============================] - 3s 14ms/step - loss: 0.0705 - root_mean_squared_error: 0.2655 - val_loss: 0.0328 - val_root_mean_squared_error: 0.1811\n",
      "Epoch 7/50\n",
      "180/188 [===========================>..] - ETA: 0s - loss: 0.0709 - root_mean_squared_error: 0.2663INFO:tensorflow:Assets written to: model5/assets\n"
     ]
    },
    {
     "name": "stderr",
     "output_type": "stream",
     "text": [
      "INFO:tensorflow:Assets written to: model5/assets\n"
     ]
    },
    {
     "name": "stdout",
     "output_type": "stream",
     "text": [
      "188/188 [==============================] - 2s 12ms/step - loss: 0.0701 - root_mean_squared_error: 0.2647 - val_loss: 0.0316 - val_root_mean_squared_error: 0.1778\n",
      "Epoch 8/50\n",
      "188/188 [==============================] - 0s 2ms/step - loss: 0.0687 - root_mean_squared_error: 0.2621 - val_loss: 0.0373 - val_root_mean_squared_error: 0.1932\n",
      "Epoch 9/50\n",
      "172/188 [==========================>...] - ETA: 0s - loss: 0.0664 - root_mean_squared_error: 0.2578INFO:tensorflow:Assets written to: model5/assets\n"
     ]
    },
    {
     "name": "stderr",
     "output_type": "stream",
     "text": [
      "INFO:tensorflow:Assets written to: model5/assets\n"
     ]
    },
    {
     "name": "stdout",
     "output_type": "stream",
     "text": [
      "188/188 [==============================] - 3s 13ms/step - loss: 0.0672 - root_mean_squared_error: 0.2593 - val_loss: 0.0311 - val_root_mean_squared_error: 0.1764\n",
      "Epoch 10/50\n",
      "182/188 [============================>.] - ETA: 0s - loss: 0.0656 - root_mean_squared_error: 0.2562INFO:tensorflow:Assets written to: model5/assets\n"
     ]
    },
    {
     "name": "stderr",
     "output_type": "stream",
     "text": [
      "INFO:tensorflow:Assets written to: model5/assets\n"
     ]
    },
    {
     "name": "stdout",
     "output_type": "stream",
     "text": [
      "188/188 [==============================] - 2s 12ms/step - loss: 0.0668 - root_mean_squared_error: 0.2584 - val_loss: 0.0298 - val_root_mean_squared_error: 0.1725\n",
      "Epoch 11/50\n",
      "188/188 [==============================] - 0s 2ms/step - loss: 0.0662 - root_mean_squared_error: 0.2574 - val_loss: 0.0319 - val_root_mean_squared_error: 0.1787\n",
      "Epoch 12/50\n",
      "188/188 [==============================] - 0s 2ms/step - loss: 0.0663 - root_mean_squared_error: 0.2576 - val_loss: 0.0354 - val_root_mean_squared_error: 0.1881\n",
      "Epoch 13/50\n",
      "188/188 [==============================] - 0s 3ms/step - loss: 0.0645 - root_mean_squared_error: 0.2539 - val_loss: 0.0324 - val_root_mean_squared_error: 0.1799\n",
      "Epoch 14/50\n",
      "188/188 [==============================] - 0s 2ms/step - loss: 0.0650 - root_mean_squared_error: 0.2550 - val_loss: 0.0376 - val_root_mean_squared_error: 0.1940\n",
      "Epoch 15/50\n",
      "188/188 [==============================] - 0s 2ms/step - loss: 0.0645 - root_mean_squared_error: 0.2539 - val_loss: 0.0315 - val_root_mean_squared_error: 0.1774\n",
      "Epoch 16/50\n",
      "188/188 [==============================] - 0s 2ms/step - loss: 0.0637 - root_mean_squared_error: 0.2524 - val_loss: 0.0325 - val_root_mean_squared_error: 0.1802\n",
      "Epoch 17/50\n",
      "188/188 [==============================] - 0s 2ms/step - loss: 0.0636 - root_mean_squared_error: 0.2522 - val_loss: 0.0301 - val_root_mean_squared_error: 0.1734\n",
      "Epoch 18/50\n",
      "188/188 [==============================] - 0s 2ms/step - loss: 0.0633 - root_mean_squared_error: 0.2517 - val_loss: 0.0432 - val_root_mean_squared_error: 0.2079\n",
      "Epoch 19/50\n",
      "188/188 [==============================] - 0s 2ms/step - loss: 0.0631 - root_mean_squared_error: 0.2511 - val_loss: 0.0336 - val_root_mean_squared_error: 0.1834\n",
      "Epoch 20/50\n",
      "188/188 [==============================] - 1s 3ms/step - loss: 0.0615 - root_mean_squared_error: 0.2480 - val_loss: 0.0320 - val_root_mean_squared_error: 0.1790\n",
      "Epoch 21/50\n",
      "188/188 [==============================] - 0s 2ms/step - loss: 0.0622 - root_mean_squared_error: 0.2494 - val_loss: 0.0325 - val_root_mean_squared_error: 0.1804\n",
      "Epoch 22/50\n",
      "188/188 [==============================] - 0s 2ms/step - loss: 0.0614 - root_mean_squared_error: 0.2479 - val_loss: 0.0328 - val_root_mean_squared_error: 0.1812\n",
      "Epoch 23/50\n",
      "188/188 [==============================] - 0s 2ms/step - loss: 0.0611 - root_mean_squared_error: 0.2471 - val_loss: 0.0361 - val_root_mean_squared_error: 0.1900\n",
      "Epoch 24/50\n",
      "188/188 [==============================] - 0s 2ms/step - loss: 0.0615 - root_mean_squared_error: 0.2479 - val_loss: 0.0366 - val_root_mean_squared_error: 0.1913\n",
      "Epoch 25/50\n",
      "188/188 [==============================] - 0s 2ms/step - loss: 0.0599 - root_mean_squared_error: 0.2448 - val_loss: 0.0349 - val_root_mean_squared_error: 0.1867\n",
      "Epoch 26/50\n",
      "188/188 [==============================] - 0s 2ms/step - loss: 0.0596 - root_mean_squared_error: 0.2441 - val_loss: 0.0368 - val_root_mean_squared_error: 0.1919\n",
      "Epoch 27/50\n",
      "188/188 [==============================] - 0s 2ms/step - loss: 0.0589 - root_mean_squared_error: 0.2428 - val_loss: 0.0323 - val_root_mean_squared_error: 0.1797\n",
      "Epoch 28/50\n",
      "188/188 [==============================] - 0s 2ms/step - loss: 0.0587 - root_mean_squared_error: 0.2423 - val_loss: 0.0310 - val_root_mean_squared_error: 0.1761\n",
      "Epoch 29/50\n",
      "188/188 [==============================] - 0s 2ms/step - loss: 0.0593 - root_mean_squared_error: 0.2435 - val_loss: 0.0357 - val_root_mean_squared_error: 0.1890\n",
      "Epoch 30/50\n",
      "173/188 [==========================>...] - ETA: 0s - loss: 0.0575 - root_mean_squared_error: 0.2397INFO:tensorflow:Assets written to: model5/assets\n"
     ]
    },
    {
     "name": "stderr",
     "output_type": "stream",
     "text": [
      "INFO:tensorflow:Assets written to: model5/assets\n"
     ]
    },
    {
     "name": "stdout",
     "output_type": "stream",
     "text": [
      "188/188 [==============================] - 2s 12ms/step - loss: 0.0589 - root_mean_squared_error: 0.2426 - val_loss: 0.0293 - val_root_mean_squared_error: 0.1712\n",
      "Epoch 31/50\n",
      "188/188 [==============================] - 0s 2ms/step - loss: 0.0574 - root_mean_squared_error: 0.2395 - val_loss: 0.0383 - val_root_mean_squared_error: 0.1958\n",
      "Epoch 32/50\n",
      "188/188 [==============================] - 0s 2ms/step - loss: 0.0575 - root_mean_squared_error: 0.2397 - val_loss: 0.0387 - val_root_mean_squared_error: 0.1968\n",
      "Epoch 33/50\n",
      "188/188 [==============================] - 0s 2ms/step - loss: 0.0571 - root_mean_squared_error: 0.2389 - val_loss: 0.0356 - val_root_mean_squared_error: 0.1886\n",
      "Epoch 34/50\n",
      "188/188 [==============================] - 0s 2ms/step - loss: 0.0563 - root_mean_squared_error: 0.2373 - val_loss: 0.0436 - val_root_mean_squared_error: 0.2089\n",
      "Epoch 35/50\n",
      "188/188 [==============================] - 0s 2ms/step - loss: 0.0559 - root_mean_squared_error: 0.2363 - val_loss: 0.0382 - val_root_mean_squared_error: 0.1954\n",
      "Epoch 36/50\n",
      "188/188 [==============================] - 0s 2ms/step - loss: 0.0556 - root_mean_squared_error: 0.2357 - val_loss: 0.0399 - val_root_mean_squared_error: 0.1999\n",
      "Epoch 37/50\n",
      "188/188 [==============================] - 0s 2ms/step - loss: 0.0557 - root_mean_squared_error: 0.2360 - val_loss: 0.0350 - val_root_mean_squared_error: 0.1872\n",
      "Epoch 38/50\n",
      "188/188 [==============================] - 0s 2ms/step - loss: 0.0540 - root_mean_squared_error: 0.2323 - val_loss: 0.0401 - val_root_mean_squared_error: 0.2003\n",
      "Epoch 39/50\n",
      "188/188 [==============================] - 0s 2ms/step - loss: 0.0529 - root_mean_squared_error: 0.2300 - val_loss: 0.0478 - val_root_mean_squared_error: 0.2187\n",
      "Epoch 40/50\n",
      "188/188 [==============================] - 0s 2ms/step - loss: 0.0537 - root_mean_squared_error: 0.2318 - val_loss: 0.0350 - val_root_mean_squared_error: 0.1870\n",
      "Epoch 41/50\n",
      "188/188 [==============================] - 0s 2ms/step - loss: 0.0531 - root_mean_squared_error: 0.2305 - val_loss: 0.0369 - val_root_mean_squared_error: 0.1922\n",
      "Epoch 42/50\n",
      "188/188 [==============================] - 0s 2ms/step - loss: 0.0517 - root_mean_squared_error: 0.2274 - val_loss: 0.0396 - val_root_mean_squared_error: 0.1991\n",
      "Epoch 43/50\n",
      "188/188 [==============================] - 0s 2ms/step - loss: 0.0508 - root_mean_squared_error: 0.2254 - val_loss: 0.0439 - val_root_mean_squared_error: 0.2094\n",
      "Epoch 44/50\n",
      "188/188 [==============================] - 0s 2ms/step - loss: 0.0514 - root_mean_squared_error: 0.2267 - val_loss: 0.0472 - val_root_mean_squared_error: 0.2174\n",
      "Epoch 45/50\n",
      "188/188 [==============================] - 0s 2ms/step - loss: 0.0516 - root_mean_squared_error: 0.2272 - val_loss: 0.0403 - val_root_mean_squared_error: 0.2008\n",
      "Epoch 46/50\n",
      "188/188 [==============================] - 0s 2ms/step - loss: 0.0500 - root_mean_squared_error: 0.2237 - val_loss: 0.0454 - val_root_mean_squared_error: 0.2132\n",
      "Epoch 47/50\n",
      "188/188 [==============================] - 0s 2ms/step - loss: 0.0492 - root_mean_squared_error: 0.2217 - val_loss: 0.0473 - val_root_mean_squared_error: 0.2175\n",
      "Epoch 48/50\n",
      "188/188 [==============================] - 0s 2ms/step - loss: 0.0481 - root_mean_squared_error: 0.2193 - val_loss: 0.0515 - val_root_mean_squared_error: 0.2269\n",
      "Epoch 49/50\n",
      "188/188 [==============================] - 0s 2ms/step - loss: 0.0502 - root_mean_squared_error: 0.2240 - val_loss: 0.0393 - val_root_mean_squared_error: 0.1983\n",
      "Epoch 50/50\n",
      "188/188 [==============================] - 0s 2ms/step - loss: 0.0485 - root_mean_squared_error: 0.2203 - val_loss: 0.0432 - val_root_mean_squared_error: 0.2078\n"
     ]
    },
    {
     "data": {
      "text/plain": [
       "<keras.src.callbacks.History at 0x3743eb460>"
      ]
     },
     "execution_count": 46,
     "metadata": {},
     "output_type": "execute_result"
    }
   ],
   "source": [
    "model5.fit(X2_train, y2_train, validation_data=(X2_val, y2_val), epochs=50, callbacks=[cp5])"
   ]
  },
  {
   "cell_type": "code",
   "execution_count": 47,
   "metadata": {},
   "outputs": [
    {
     "name": "stdout",
     "output_type": "stream",
     "text": [
      "33/33 [==============================] - 1s 921us/step\n"
     ]
    },
    {
     "data": {
      "text/plain": [
       "(      Predictions   Actuals\n",
       " 0       -0.414171 -0.449783\n",
       " 1       -0.549210 -0.475209\n",
       " 2       -0.577808 -0.493870\n",
       " 3       -0.576927  0.943299\n",
       " 4        3.257724  2.390679\n",
       " ...           ...       ...\n",
       " 1024     1.838859  2.135681\n",
       " 1025     1.441686  2.841083\n",
       " 1026     2.081171  3.319088\n",
       " 1027     2.259711  3.142837\n",
       " 1028     2.091445  2.821145\n",
       " \n",
       " [1029 rows x 2 columns],\n",
       " 0.25412038302645745)"
      ]
     },
     "execution_count": 47,
     "metadata": {},
     "output_type": "execute_result"
    },
    {
     "data": {
      "image/png": "[encoded data removed]",
      "text/plain": [
       "<Figure size 640x480 with 1 Axes>"
      ]
     },
     "metadata": {},
     "output_type": "display_data"
    }
   ],
   "source": [
    "plot_predictions1(model5, X2_test, y2_test)"
   ]
  },
  {
   "cell_type": "markdown",
   "metadata": {},
   "source": [
    "## Conv1d flere lag"
   ]
  },
  {
   "cell_type": "code",
   "execution_count": 48,
   "metadata": {},
   "outputs": [
    {
     "name": "stdout",
     "output_type": "stream",
     "text": [
      "Model: \"sequential_5\"\n",
      "_________________________________________________________________\n",
      " Layer (type)                Output Shape              Param #   \n",
      "=================================================================\n",
      " conv1d_1 (Conv1D)           (None, 5, 64)             704       \n",
      "                                                                 \n",
      " flatten_1 (Flatten)         (None, 320)               0         \n",
      "                                                                 \n",
      " dense_10 (Dense)            (None, 8)                 2568      \n",
      "                                                                 \n",
      " dense_11 (Dense)            (None, 1)                 9         \n",
      "                                                                 \n",
      "=================================================================\n",
      "Total params: 3281 (12.82 KB)\n",
      "Trainable params: 3281 (12.82 KB)\n",
      "Non-trainable params: 0 (0.00 Byte)\n",
      "_________________________________________________________________\n"
     ]
    }
   ],
   "source": [
    "model6 = Sequential()\n",
    "model6.add(InputLayer((6, 5)))\n",
    "model6.add(Conv1D(64, kernel_size=2, activation='relu'))\n",
    "model6.add(Flatten())\n",
    "model6.add(Dense(8, 'relu'))\n",
    "model6.add(Dense(1, 'linear'))\n",
    "model6.summary()"
   ]
  },
  {
   "cell_type": "code",
   "execution_count": 49,
   "metadata": {},
   "outputs": [
    {
     "name": "stderr",
     "output_type": "stream",
     "text": [
      "WARNING:absl:At this time, the v2.11+ optimizer `tf.keras.optimizers.Adam` runs slowly on M1/M2 Macs, please use the legacy Keras optimizer instead, located at `tf.keras.optimizers.legacy.Adam`.\n"
     ]
    }
   ],
   "source": [
    "cp6 = ModelCheckpoint('model6/', save_best_only=True)\n",
    "model6.compile(loss=MeanSquaredError(), optimizer=Adam(learning_rate=0.001), metrics=[RootMeanSquaredError()])"
   ]
  },
  {
   "cell_type": "code",
   "execution_count": 50,
   "metadata": {},
   "outputs": [
    {
     "name": "stdout",
     "output_type": "stream",
     "text": [
      "Epoch 1/50\n",
      "118/188 [=================>............] - ETA: 0s - loss: 0.2579 - root_mean_squared_error: 0.5079INFO:tensorflow:Assets written to: model6/assets\n"
     ]
    },
    {
     "name": "stderr",
     "output_type": "stream",
     "text": [
      "INFO:tensorflow:Assets written to: model6/assets\n"
     ]
    },
    {
     "name": "stdout",
     "output_type": "stream",
     "text": [
      "188/188 [==============================] - 1s 2ms/step - loss: 0.2089 - root_mean_squared_error: 0.4571 - val_loss: 0.0546 - val_root_mean_squared_error: 0.2336\n",
      "Epoch 2/50\n",
      " 95/188 [==============>...............] - ETA: 0s - loss: 0.0789 - root_mean_squared_error: 0.2810INFO:tensorflow:Assets written to: model6/assets\n"
     ]
    },
    {
     "name": "stderr",
     "output_type": "stream",
     "text": [
      "INFO:tensorflow:Assets written to: model6/assets\n"
     ]
    },
    {
     "name": "stdout",
     "output_type": "stream",
     "text": [
      "188/188 [==============================] - 0s 1ms/step - loss: 0.0891 - root_mean_squared_error: 0.2985 - val_loss: 0.0484 - val_root_mean_squared_error: 0.2201\n",
      "Epoch 3/50\n",
      "102/188 [===============>..............] - ETA: 0s - loss: 0.0729 - root_mean_squared_error: 0.2700INFO:tensorflow:Assets written to: model6/assets\n"
     ]
    },
    {
     "name": "stderr",
     "output_type": "stream",
     "text": [
      "INFO:tensorflow:Assets written to: model6/assets\n"
     ]
    },
    {
     "name": "stdout",
     "output_type": "stream",
     "text": [
      "188/188 [==============================] - 0s 1ms/step - loss: 0.0763 - root_mean_squared_error: 0.2762 - val_loss: 0.0378 - val_root_mean_squared_error: 0.1944\n",
      "Epoch 4/50\n",
      "188/188 [==============================] - 0s 625us/step - loss: 0.0720 - root_mean_squared_error: 0.2683 - val_loss: 0.0660 - val_root_mean_squared_error: 0.2569\n",
      "Epoch 5/50\n",
      " 95/188 [==============>...............] - ETA: 0s - loss: 0.0731 - root_mean_squared_error: 0.2703INFO:tensorflow:Assets written to: model6/assets\n"
     ]
    },
    {
     "name": "stderr",
     "output_type": "stream",
     "text": [
      "INFO:tensorflow:Assets written to: model6/assets\n"
     ]
    },
    {
     "name": "stdout",
     "output_type": "stream",
     "text": [
      "188/188 [==============================] - 0s 1ms/step - loss: 0.0708 - root_mean_squared_error: 0.2661 - val_loss: 0.0372 - val_root_mean_squared_error: 0.1928\n",
      "Epoch 6/50\n",
      "188/188 [==============================] - 0s 620us/step - loss: 0.0675 - root_mean_squared_error: 0.2597 - val_loss: 0.0406 - val_root_mean_squared_error: 0.2014\n",
      "Epoch 7/50\n",
      "188/188 [==============================] - 0s 644us/step - loss: 0.0652 - root_mean_squared_error: 0.2553 - val_loss: 0.0376 - val_root_mean_squared_error: 0.1940\n",
      "Epoch 8/50\n",
      "188/188 [==============================] - 0s 627us/step - loss: 0.0645 - root_mean_squared_error: 0.2540 - val_loss: 0.0399 - val_root_mean_squared_error: 0.1998\n",
      "Epoch 9/50\n",
      " 96/188 [==============>...............] - ETA: 0s - loss: 0.0637 - root_mean_squared_error: 0.2525INFO:tensorflow:Assets written to: model6/assets\n"
     ]
    },
    {
     "name": "stderr",
     "output_type": "stream",
     "text": [
      "INFO:tensorflow:Assets written to: model6/assets\n"
     ]
    },
    {
     "name": "stdout",
     "output_type": "stream",
     "text": [
      "188/188 [==============================] - 0s 1ms/step - loss: 0.0641 - root_mean_squared_error: 0.2532 - val_loss: 0.0354 - val_root_mean_squared_error: 0.1880\n",
      "Epoch 10/50\n",
      "188/188 [==============================] - 0s 734us/step - loss: 0.0636 - root_mean_squared_error: 0.2523 - val_loss: 0.0356 - val_root_mean_squared_error: 0.1888\n",
      "Epoch 11/50\n",
      "188/188 [==============================] - 0s 634us/step - loss: 0.0629 - root_mean_squared_error: 0.2508 - val_loss: 0.0382 - val_root_mean_squared_error: 0.1954\n",
      "Epoch 12/50\n",
      "188/188 [==============================] - 0s 613us/step - loss: 0.0625 - root_mean_squared_error: 0.2500 - val_loss: 0.0360 - val_root_mean_squared_error: 0.1898\n",
      "Epoch 13/50\n",
      "188/188 [==============================] - 0s 623us/step - loss: 0.0622 - root_mean_squared_error: 0.2494 - val_loss: 0.0459 - val_root_mean_squared_error: 0.2142\n",
      "Epoch 14/50\n",
      "101/188 [===============>..............] - ETA: 0s - loss: 0.0611 - root_mean_squared_error: 0.2472INFO:tensorflow:Assets written to: model6/assets\n"
     ]
    },
    {
     "name": "stderr",
     "output_type": "stream",
     "text": [
      "INFO:tensorflow:Assets written to: model6/assets\n"
     ]
    },
    {
     "name": "stdout",
     "output_type": "stream",
     "text": [
      "188/188 [==============================] - 0s 1ms/step - loss: 0.0624 - root_mean_squared_error: 0.2498 - val_loss: 0.0347 - val_root_mean_squared_error: 0.1863\n",
      "Epoch 15/50\n",
      "188/188 [==============================] - ETA: 0s - loss: 0.0597 - root_mean_squared_error: 0.2443INFO:tensorflow:Assets written to: model6/assets\n"
     ]
    },
    {
     "name": "stderr",
     "output_type": "stream",
     "text": [
      "INFO:tensorflow:Assets written to: model6/assets\n"
     ]
    },
    {
     "name": "stdout",
     "output_type": "stream",
     "text": [
      "188/188 [==============================] - 0s 2ms/step - loss: 0.0597 - root_mean_squared_error: 0.2443 - val_loss: 0.0341 - val_root_mean_squared_error: 0.1846\n",
      "Epoch 16/50\n",
      "188/188 [==============================] - 0s 641us/step - loss: 0.0612 - root_mean_squared_error: 0.2474 - val_loss: 0.0465 - val_root_mean_squared_error: 0.2157\n",
      "Epoch 17/50\n",
      "188/188 [==============================] - 0s 661us/step - loss: 0.0600 - root_mean_squared_error: 0.2449 - val_loss: 0.0411 - val_root_mean_squared_error: 0.2028\n",
      "Epoch 18/50\n",
      "188/188 [==============================] - 0s 635us/step - loss: 0.0591 - root_mean_squared_error: 0.2432 - val_loss: 0.0365 - val_root_mean_squared_error: 0.1911\n",
      "Epoch 19/50\n",
      " 95/188 [==============>...............] - ETA: 0s - loss: 0.0673 - root_mean_squared_error: 0.2594INFO:tensorflow:Assets written to: model6/assets\n"
     ]
    },
    {
     "name": "stderr",
     "output_type": "stream",
     "text": [
      "INFO:tensorflow:Assets written to: model6/assets\n"
     ]
    },
    {
     "name": "stdout",
     "output_type": "stream",
     "text": [
      "188/188 [==============================] - 0s 1ms/step - loss: 0.0591 - root_mean_squared_error: 0.2431 - val_loss: 0.0317 - val_root_mean_squared_error: 0.1780\n",
      "Epoch 20/50\n",
      "188/188 [==============================] - 0s 626us/step - loss: 0.0589 - root_mean_squared_error: 0.2427 - val_loss: 0.0362 - val_root_mean_squared_error: 0.1904\n",
      "Epoch 21/50\n",
      "188/188 [==============================] - 0s 609us/step - loss: 0.0583 - root_mean_squared_error: 0.2414 - val_loss: 0.0548 - val_root_mean_squared_error: 0.2341\n",
      "Epoch 22/50\n",
      "188/188 [==============================] - 0s 641us/step - loss: 0.0585 - root_mean_squared_error: 0.2420 - val_loss: 0.0384 - val_root_mean_squared_error: 0.1958\n",
      "Epoch 23/50\n",
      "188/188 [==============================] - 0s 662us/step - loss: 0.0577 - root_mean_squared_error: 0.2403 - val_loss: 0.0370 - val_root_mean_squared_error: 0.1924\n",
      "Epoch 24/50\n",
      "188/188 [==============================] - 0s 683us/step - loss: 0.0555 - root_mean_squared_error: 0.2356 - val_loss: 0.0356 - val_root_mean_squared_error: 0.1887\n",
      "Epoch 25/50\n",
      "188/188 [==============================] - 0s 624us/step - loss: 0.0553 - root_mean_squared_error: 0.2352 - val_loss: 0.0356 - val_root_mean_squared_error: 0.1887\n",
      "Epoch 26/50\n",
      "188/188 [==============================] - 0s 626us/step - loss: 0.0563 - root_mean_squared_error: 0.2372 - val_loss: 0.0343 - val_root_mean_squared_error: 0.1852\n",
      "Epoch 27/50\n",
      "188/188 [==============================] - 0s 789us/step - loss: 0.0555 - root_mean_squared_error: 0.2357 - val_loss: 0.0458 - val_root_mean_squared_error: 0.2141\n",
      "Epoch 28/50\n",
      "188/188 [==============================] - 0s 634us/step - loss: 0.0544 - root_mean_squared_error: 0.2332 - val_loss: 0.0419 - val_root_mean_squared_error: 0.2047\n",
      "Epoch 29/50\n",
      "188/188 [==============================] - 0s 614us/step - loss: 0.0543 - root_mean_squared_error: 0.2330 - val_loss: 0.0389 - val_root_mean_squared_error: 0.1972\n",
      "Epoch 30/50\n",
      "188/188 [==============================] - 0s 616us/step - loss: 0.0548 - root_mean_squared_error: 0.2342 - val_loss: 0.0379 - val_root_mean_squared_error: 0.1947\n",
      "Epoch 31/50\n",
      "188/188 [==============================] - 0s 622us/step - loss: 0.0544 - root_mean_squared_error: 0.2332 - val_loss: 0.0377 - val_root_mean_squared_error: 0.1941\n",
      "Epoch 32/50\n",
      "188/188 [==============================] - 0s 630us/step - loss: 0.0515 - root_mean_squared_error: 0.2269 - val_loss: 0.0433 - val_root_mean_squared_error: 0.2082\n",
      "Epoch 33/50\n",
      "188/188 [==============================] - 0s 633us/step - loss: 0.0529 - root_mean_squared_error: 0.2300 - val_loss: 0.0417 - val_root_mean_squared_error: 0.2041\n",
      "Epoch 34/50\n",
      "188/188 [==============================] - 0s 634us/step - loss: 0.0524 - root_mean_squared_error: 0.2290 - val_loss: 0.0376 - val_root_mean_squared_error: 0.1939\n",
      "Epoch 35/50\n",
      "188/188 [==============================] - 0s 629us/step - loss: 0.0513 - root_mean_squared_error: 0.2265 - val_loss: 0.0375 - val_root_mean_squared_error: 0.1936\n",
      "Epoch 36/50\n",
      "188/188 [==============================] - 0s 602us/step - loss: 0.0521 - root_mean_squared_error: 0.2282 - val_loss: 0.0351 - val_root_mean_squared_error: 0.1874\n",
      "Epoch 37/50\n",
      "188/188 [==============================] - 0s 673us/step - loss: 0.0524 - root_mean_squared_error: 0.2289 - val_loss: 0.0432 - val_root_mean_squared_error: 0.2077\n",
      "Epoch 38/50\n",
      "188/188 [==============================] - 0s 635us/step - loss: 0.0494 - root_mean_squared_error: 0.2222 - val_loss: 0.0378 - val_root_mean_squared_error: 0.1945\n",
      "Epoch 39/50\n",
      "188/188 [==============================] - 0s 632us/step - loss: 0.0496 - root_mean_squared_error: 0.2227 - val_loss: 0.0375 - val_root_mean_squared_error: 0.1937\n",
      "Epoch 40/50\n",
      "188/188 [==============================] - 0s 810us/step - loss: 0.0494 - root_mean_squared_error: 0.2222 - val_loss: 0.0498 - val_root_mean_squared_error: 0.2233\n",
      "Epoch 41/50\n",
      "188/188 [==============================] - 0s 618us/step - loss: 0.0509 - root_mean_squared_error: 0.2255 - val_loss: 0.0358 - val_root_mean_squared_error: 0.1892\n",
      "Epoch 42/50\n",
      "188/188 [==============================] - 0s 660us/step - loss: 0.0492 - root_mean_squared_error: 0.2219 - val_loss: 0.0375 - val_root_mean_squared_error: 0.1937\n",
      "Epoch 43/50\n",
      "188/188 [==============================] - 0s 736us/step - loss: 0.0489 - root_mean_squared_error: 0.2211 - val_loss: 0.0411 - val_root_mean_squared_error: 0.2028\n",
      "Epoch 44/50\n",
      "188/188 [==============================] - 0s 813us/step - loss: 0.0473 - root_mean_squared_error: 0.2175 - val_loss: 0.0437 - val_root_mean_squared_error: 0.2089\n",
      "Epoch 45/50\n",
      "188/188 [==============================] - 0s 772us/step - loss: 0.0477 - root_mean_squared_error: 0.2184 - val_loss: 0.0386 - val_root_mean_squared_error: 0.1964\n",
      "Epoch 46/50\n",
      "188/188 [==============================] - 0s 841us/step - loss: 0.0483 - root_mean_squared_error: 0.2197 - val_loss: 0.0395 - val_root_mean_squared_error: 0.1986\n",
      "Epoch 47/50\n",
      "188/188 [==============================] - 0s 737us/step - loss: 0.0465 - root_mean_squared_error: 0.2156 - val_loss: 0.0409 - val_root_mean_squared_error: 0.2022\n",
      "Epoch 48/50\n",
      "188/188 [==============================] - 0s 765us/step - loss: 0.0470 - root_mean_squared_error: 0.2169 - val_loss: 0.0443 - val_root_mean_squared_error: 0.2106\n",
      "Epoch 49/50\n",
      "188/188 [==============================] - 0s 644us/step - loss: 0.0467 - root_mean_squared_error: 0.2160 - val_loss: 0.0409 - val_root_mean_squared_error: 0.2022\n",
      "Epoch 50/50\n",
      "188/188 [==============================] - 0s 665us/step - loss: 0.0451 - root_mean_squared_error: 0.2123 - val_loss: 0.0465 - val_root_mean_squared_error: 0.2155\n"
     ]
    },
    {
     "data": {
      "text/plain": [
       "<keras.src.callbacks.History at 0x3740ffb80>"
      ]
     },
     "execution_count": 50,
     "metadata": {},
     "output_type": "execute_result"
    }
   ],
   "source": [
    "model6.fit(X2_train, y2_train, validation_data=(X2_val, y2_val), epochs=50, callbacks=[cp6])"
   ]
  },
  {
   "cell_type": "code",
   "execution_count": 51,
   "metadata": {},
   "outputs": [
    {
     "name": "stdout",
     "output_type": "stream",
     "text": [
      "33/33 [==============================] - 0s 436us/step\n"
     ]
    },
    {
     "data": {
      "text/plain": [
       "(      Predictions   Actuals\n",
       " 0       -0.306047 -0.449783\n",
       " 1       -0.452347 -0.475209\n",
       " 2       -0.430186 -0.493870\n",
       " 3       -0.379072  0.943299\n",
       " 4        3.680432  2.390679\n",
       " ...           ...       ...\n",
       " 1024     2.034367  2.135681\n",
       " 1025     1.728596  2.841083\n",
       " 1026     2.774284  3.319088\n",
       " 1027     2.921401  3.142837\n",
       " 1028     2.518021  2.821145\n",
       " \n",
       " [1029 rows x 2 columns],\n",
       " 0.25208309472801144)"
      ]
     },
     "execution_count": 51,
     "metadata": {},
     "output_type": "execute_result"
    },
    {
     "data": {
      "image/png": "[encoded data removed]",
      "text/plain": [
       "<Figure size 640x480 with 1 Axes>"
      ]
     },
     "metadata": {},
     "output_type": "display_data"
    }
   ],
   "source": [
    "plot_predictions1(model6, X2_test, y2_test)"
   ]
  },
  {
   "cell_type": "markdown",
   "metadata": {},
   "source": [
    "## Using forecasts"
   ]
  },
  {
   "cell_type": "code",
   "execution_count": null,
   "metadata": {},
   "outputs": [],
   "source": []
  }
 ],
 "metadata": {
  "kernelspec": {
   "display_name": "Python 3",
   "language": "python",
   "name": "python3"
  },
  "language_info": {
   "codemirror_mode": {
    "name": "ipython",
    "version": 3
   },
   "file_extension": ".py",
   "mimetype": "text/x-python",
   "name": "python",
   "nbconvert_exporter": "python",
   "pygments_lexer": "ipython3",
   "version": "3.10.11"
  }
 },
 "nbformat": 4,
 "nbformat_minor": 2
}
