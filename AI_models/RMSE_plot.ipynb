{
 "cells": [
  {
   "cell_type": "code",
   "execution_count": 2,
   "metadata": {},
   "outputs": [],
   "source": [
    "import os\n",
    "import math\n",
    "import numpy as np\n",
    "import pandas as pd\n",
    "import torch\n",
    "import torch.nn as nn\n",
    "from torch.utils.data import Dataset, DataLoader\n",
    "import matplotlib.pyplot as plt\n",
    "from tensorflow.keras.models import Sequential\n",
    "from tensorflow.keras.layers import *\n",
    "from tensorflow.keras.callbacks import ModelCheckpoint\n",
    "from tensorflow.keras.losses import MeanSquaredError\n",
    "from tensorflow.keras.metrics import RootMeanSquaredError\n",
    "from tensorflow.keras.optimizers import Adam\n",
    "from sklearn.metrics import root_mean_squared_error as rmse"
   ]
  },
  {
   "cell_type": "markdown",
   "metadata": {},
   "source": [
    "## Loading data"
   ]
  },
  {
   "cell_type": "code",
   "execution_count": 3,
   "metadata": {},
   "outputs": [
    {
     "data": {
      "text/html": [
       "<div>\n",
       "<style scoped>\n",
       "    .dataframe tbody tr th:only-of-type {\n",
       "        vertical-align: middle;\n",
       "    }\n",
       "\n",
       "    .dataframe tbody tr th {\n",
       "        vertical-align: top;\n",
       "    }\n",
       "\n",
       "    .dataframe thead th {\n",
       "        text-align: right;\n",
       "    }\n",
       "</style>\n",
       "<table border=\"1\" class=\"dataframe\">\n",
       "  <thead>\n",
       "    <tr style=\"text-align: right;\">\n",
       "      <th></th>\n",
       "      <th>temp_min_daily</th>\n",
       "      <th>temp_max_daily</th>\n",
       "      <th>temp_mean_daily</th>\n",
       "      <th>temp_grass_mean_daily</th>\n",
       "      <th>temp_soil_min_daily</th>\n",
       "      <th>temp_soil_max_daily</th>\n",
       "      <th>temp_soil_mean_daily</th>\n",
       "      <th>humidity_daily</th>\n",
       "      <th>wind_direction_daily</th>\n",
       "      <th>wind_speed_daily</th>\n",
       "      <th>wind_gust_max_daily</th>\n",
       "      <th>precip_total_daily</th>\n",
       "      <th>precip_duration_daily</th>\n",
       "      <th>radiation_global_daily</th>\n",
       "      <th>sunshine_duration_daily</th>\n",
       "      <th>KarupBro</th>\n",
       "    </tr>\n",
       "    <tr>\n",
       "      <th>time</th>\n",
       "      <th></th>\n",
       "      <th></th>\n",
       "      <th></th>\n",
       "      <th></th>\n",
       "      <th></th>\n",
       "      <th></th>\n",
       "      <th></th>\n",
       "      <th></th>\n",
       "      <th></th>\n",
       "      <th></th>\n",
       "      <th></th>\n",
       "      <th></th>\n",
       "      <th></th>\n",
       "      <th></th>\n",
       "      <th></th>\n",
       "      <th></th>\n",
       "    </tr>\n",
       "  </thead>\n",
       "  <tbody>\n",
       "    <tr>\n",
       "      <th>2024-12-27</th>\n",
       "      <td>4.0</td>\n",
       "      <td>6.0</td>\n",
       "      <td>5.250000</td>\n",
       "      <td>2.016421</td>\n",
       "      <td>6.6</td>\n",
       "      <td>7.4</td>\n",
       "      <td>6.941667</td>\n",
       "      <td>97.250000</td>\n",
       "      <td>223.583333</td>\n",
       "      <td>1.966667</td>\n",
       "      <td>6.0</td>\n",
       "      <td>0.0</td>\n",
       "      <td>0.0</td>\n",
       "      <td>131.0</td>\n",
       "      <td>12.0</td>\n",
       "      <td>NaN</td>\n",
       "    </tr>\n",
       "    <tr>\n",
       "      <th>2024-12-28</th>\n",
       "      <td>3.3</td>\n",
       "      <td>5.1</td>\n",
       "      <td>4.116667</td>\n",
       "      <td>1.946083</td>\n",
       "      <td>6.1</td>\n",
       "      <td>6.9</td>\n",
       "      <td>6.445833</td>\n",
       "      <td>97.666667</td>\n",
       "      <td>217.708333</td>\n",
       "      <td>3.050000</td>\n",
       "      <td>7.7</td>\n",
       "      <td>0.0</td>\n",
       "      <td>0.0</td>\n",
       "      <td>188.0</td>\n",
       "      <td>25.0</td>\n",
       "      <td>NaN</td>\n",
       "    </tr>\n",
       "    <tr>\n",
       "      <th>2024-12-29</th>\n",
       "      <td>4.5</td>\n",
       "      <td>8.4</td>\n",
       "      <td>7.133333</td>\n",
       "      <td>1.524006</td>\n",
       "      <td>6.1</td>\n",
       "      <td>7.4</td>\n",
       "      <td>6.812500</td>\n",
       "      <td>91.958333</td>\n",
       "      <td>231.291667</td>\n",
       "      <td>6.154167</td>\n",
       "      <td>15.4</td>\n",
       "      <td>0.1</td>\n",
       "      <td>0.0</td>\n",
       "      <td>210.0</td>\n",
       "      <td>26.0</td>\n",
       "      <td>NaN</td>\n",
       "    </tr>\n",
       "    <tr>\n",
       "      <th>2024-12-30</th>\n",
       "      <td>7.7</td>\n",
       "      <td>8.9</td>\n",
       "      <td>8.179167</td>\n",
       "      <td>2.204877</td>\n",
       "      <td>7.1</td>\n",
       "      <td>7.9</td>\n",
       "      <td>7.466667</td>\n",
       "      <td>91.041667</td>\n",
       "      <td>236.416667</td>\n",
       "      <td>8.741667</td>\n",
       "      <td>16.7</td>\n",
       "      <td>2.9</td>\n",
       "      <td>0.0</td>\n",
       "      <td>87.0</td>\n",
       "      <td>0.0</td>\n",
       "      <td>NaN</td>\n",
       "    </tr>\n",
       "    <tr>\n",
       "      <th>2024-12-31</th>\n",
       "      <td>7.9</td>\n",
       "      <td>8.6</td>\n",
       "      <td>8.300000</td>\n",
       "      <td>1.909754</td>\n",
       "      <td>7.5</td>\n",
       "      <td>7.8</td>\n",
       "      <td>7.600000</td>\n",
       "      <td>85.000000</td>\n",
       "      <td>261.000000</td>\n",
       "      <td>9.400000</td>\n",
       "      <td>16.4</td>\n",
       "      <td>0.0</td>\n",
       "      <td>0.0</td>\n",
       "      <td>0.0</td>\n",
       "      <td>0.0</td>\n",
       "      <td>NaN</td>\n",
       "    </tr>\n",
       "  </tbody>\n",
       "</table>\n",
       "</div>"
      ],
      "text/plain": [
       "            temp_min_daily  temp_max_daily  temp_mean_daily  \\\n",
       "time                                                          \n",
       "2024-12-27             4.0             6.0         5.250000   \n",
       "2024-12-28             3.3             5.1         4.116667   \n",
       "2024-12-29             4.5             8.4         7.133333   \n",
       "2024-12-30             7.7             8.9         8.179167   \n",
       "2024-12-31             7.9             8.6         8.300000   \n",
       "\n",
       "            temp_grass_mean_daily  temp_soil_min_daily  temp_soil_max_daily  \\\n",
       "time                                                                          \n",
       "2024-12-27               2.016421                  6.6                  7.4   \n",
       "2024-12-28               1.946083                  6.1                  6.9   \n",
       "2024-12-29               1.524006                  6.1                  7.4   \n",
       "2024-12-30               2.204877                  7.1                  7.9   \n",
       "2024-12-31               1.909754                  7.5                  7.8   \n",
       "\n",
       "            temp_soil_mean_daily  humidity_daily  wind_direction_daily  \\\n",
       "time                                                                     \n",
       "2024-12-27              6.941667       97.250000            223.583333   \n",
       "2024-12-28              6.445833       97.666667            217.708333   \n",
       "2024-12-29              6.812500       91.958333            231.291667   \n",
       "2024-12-30              7.466667       91.041667            236.416667   \n",
       "2024-12-31              7.600000       85.000000            261.000000   \n",
       "\n",
       "            wind_speed_daily  wind_gust_max_daily  precip_total_daily  \\\n",
       "time                                                                    \n",
       "2024-12-27          1.966667                  6.0                 0.0   \n",
       "2024-12-28          3.050000                  7.7                 0.0   \n",
       "2024-12-29          6.154167                 15.4                 0.1   \n",
       "2024-12-30          8.741667                 16.7                 2.9   \n",
       "2024-12-31          9.400000                 16.4                 0.0   \n",
       "\n",
       "            precip_duration_daily  radiation_global_daily  \\\n",
       "time                                                        \n",
       "2024-12-27                    0.0                   131.0   \n",
       "2024-12-28                    0.0                   188.0   \n",
       "2024-12-29                    0.0                   210.0   \n",
       "2024-12-30                    0.0                    87.0   \n",
       "2024-12-31                    0.0                     0.0   \n",
       "\n",
       "            sunshine_duration_daily  KarupBro  \n",
       "time                                           \n",
       "2024-12-27                     12.0       NaN  \n",
       "2024-12-28                     25.0       NaN  \n",
       "2024-12-29                     26.0       NaN  \n",
       "2024-12-30                      0.0       NaN  \n",
       "2024-12-31                      0.0       NaN  "
      ]
     },
     "execution_count": 3,
     "metadata": {},
     "output_type": "execute_result"
    }
   ],
   "source": [
    "DATA_PATH = '/Users/nicolaigarderhansen/Desktop/Bachelorprojekt/Forecasting-water-inflow/Data loading and handling/Cleaned data etc./data_cleaned_and_interpolated.csv'\n",
    "\n",
    "# Adjust these column names as needed.\n",
    "date_col = 'time'\n",
    "target_col = 'KarupBro'\n",
    "# List of meteorological features from DMI – update if needed.\n",
    "input_cols = [\n",
    "    'temp_min_daily', 'temp_max_daily', 'temp_mean_daily', \n",
    "    'temp_grass_mean_daily', 'temp_soil_min_daily', 'temp_soil_max_daily', \n",
    "    'temp_soil_mean_daily', 'humidity_daily', 'wind_direction_daily', \n",
    "    'wind_speed_daily', 'wind_gust_max_daily', 'precip_total_daily', \n",
    "    'precip_duration_daily', 'radiation_global_daily', \n",
    "    'sunshine_duration_daily'\n",
    "]\n",
    "\n",
    "\n",
    "# Read the CSV\n",
    "df = pd.read_csv(DATA_PATH, parse_dates=[date_col])\n",
    "df.sort_values(date_col, inplace=True)\n",
    "df.reset_index(drop=True, inplace=True)\n",
    "\n",
    "# Optional: Set the date column as index (if needed)\n",
    "df.set_index(date_col, inplace=True)\n",
    "\n",
    "df.tail()"
   ]
  },
  {
   "cell_type": "code",
   "execution_count": 4,
   "metadata": {},
   "outputs": [
    {
     "data": {
      "text/plain": [
       "temp_min_daily               0\n",
       "temp_max_daily               0\n",
       "temp_mean_daily              0\n",
       "temp_grass_mean_daily        0\n",
       "temp_soil_min_daily          0\n",
       "temp_soil_max_daily          0\n",
       "temp_soil_mean_daily         0\n",
       "humidity_daily               0\n",
       "wind_direction_daily         0\n",
       "wind_speed_daily             0\n",
       "wind_gust_max_daily          0\n",
       "precip_total_daily           0\n",
       "precip_duration_daily        0\n",
       "radiation_global_daily       0\n",
       "sunshine_duration_daily      0\n",
       "KarupBro                   366\n",
       "dtype: int64"
      ]
     },
     "execution_count": 4,
     "metadata": {},
     "output_type": "execute_result"
    }
   ],
   "source": [
    "# Check for missing values\n",
    "df.isnull().sum()"
   ]
  },
  {
   "cell_type": "code",
   "execution_count": 5,
   "metadata": {},
   "outputs": [
    {
     "data": {
      "text/plain": [
       "temp_min_daily             0\n",
       "temp_max_daily             0\n",
       "temp_mean_daily            0\n",
       "temp_grass_mean_daily      0\n",
       "temp_soil_min_daily        0\n",
       "temp_soil_max_daily        0\n",
       "temp_soil_mean_daily       0\n",
       "humidity_daily             0\n",
       "wind_direction_daily       0\n",
       "wind_speed_daily           0\n",
       "wind_gust_max_daily        0\n",
       "precip_total_daily         0\n",
       "precip_duration_daily      0\n",
       "radiation_global_daily     0\n",
       "sunshine_duration_daily    0\n",
       "KarupBro                   0\n",
       "dtype: int64"
      ]
     },
     "execution_count": 5,
     "metadata": {},
     "output_type": "execute_result"
    }
   ],
   "source": [
    "# Forward fill and check again\n",
    "df = df.iloc[:-366]\n",
    "df.isnull().sum()"
   ]
  },
  {
   "cell_type": "markdown",
   "metadata": {},
   "source": [
    "## Filtering data to simple model"
   ]
  },
  {
   "cell_type": "code",
   "execution_count": 6,
   "metadata": {},
   "outputs": [
    {
     "data": {
      "text/html": [
       "<div>\n",
       "<style scoped>\n",
       "    .dataframe tbody tr th:only-of-type {\n",
       "        vertical-align: middle;\n",
       "    }\n",
       "\n",
       "    .dataframe tbody tr th {\n",
       "        vertical-align: top;\n",
       "    }\n",
       "\n",
       "    .dataframe thead th {\n",
       "        text-align: right;\n",
       "    }\n",
       "</style>\n",
       "<table border=\"1\" class=\"dataframe\">\n",
       "  <thead>\n",
       "    <tr style=\"text-align: right;\">\n",
       "      <th></th>\n",
       "      <th>temp_mean_daily</th>\n",
       "      <th>precip_total_daily</th>\n",
       "      <th>KarupBro</th>\n",
       "    </tr>\n",
       "    <tr>\n",
       "      <th>time</th>\n",
       "      <th></th>\n",
       "      <th></th>\n",
       "      <th></th>\n",
       "    </tr>\n",
       "  </thead>\n",
       "  <tbody>\n",
       "    <tr>\n",
       "      <th>2002-01-01</th>\n",
       "      <td>1.250000</td>\n",
       "      <td>2.2</td>\n",
       "      <td>1829.75</td>\n",
       "    </tr>\n",
       "    <tr>\n",
       "      <th>2002-01-02</th>\n",
       "      <td>-0.837500</td>\n",
       "      <td>0.0</td>\n",
       "      <td>7279.46</td>\n",
       "    </tr>\n",
       "    <tr>\n",
       "      <th>2002-01-03</th>\n",
       "      <td>-5.166667</td>\n",
       "      <td>0.0</td>\n",
       "      <td>5261.85</td>\n",
       "    </tr>\n",
       "    <tr>\n",
       "      <th>2002-01-04</th>\n",
       "      <td>-6.025000</td>\n",
       "      <td>0.0</td>\n",
       "      <td>2951.97</td>\n",
       "    </tr>\n",
       "    <tr>\n",
       "      <th>2002-01-05</th>\n",
       "      <td>-3.466667</td>\n",
       "      <td>0.1</td>\n",
       "      <td>1868.53</td>\n",
       "    </tr>\n",
       "  </tbody>\n",
       "</table>\n",
       "</div>"
      ],
      "text/plain": [
       "            temp_mean_daily  precip_total_daily  KarupBro\n",
       "time                                                     \n",
       "2002-01-01         1.250000                 2.2   1829.75\n",
       "2002-01-02        -0.837500                 0.0   7279.46\n",
       "2002-01-03        -5.166667                 0.0   5261.85\n",
       "2002-01-04        -6.025000                 0.0   2951.97\n",
       "2002-01-05        -3.466667                 0.1   1868.53"
      ]
     },
     "execution_count": 6,
     "metadata": {},
     "output_type": "execute_result"
    }
   ],
   "source": [
    "df_simple = df[[\"temp_mean_daily\", \"precip_total_daily\", \"KarupBro\"]]\n",
    "df_simple.head()"
   ]
  },
  {
   "cell_type": "code",
   "execution_count": 7,
   "metadata": {},
   "outputs": [
    {
     "data": {
      "text/plain": [
       "<Axes: xlabel='time'>"
      ]
     },
     "execution_count": 7,
     "metadata": {},
     "output_type": "execute_result"
    },
    {
     "data": {
      "image/png": "[encoded data removed]",
      "text/plain": [
       "<Figure size 640x480 with 1 Axes>"
      ]
     },
     "metadata": {},
     "output_type": "display_data"
    }
   ],
   "source": [
    "temp = df['temp_mean_daily']\n",
    "temp.plot()"
   ]
  },
  {
   "cell_type": "code",
   "execution_count": 8,
   "metadata": {},
   "outputs": [],
   "source": [
    "# Replace outliers with NaN\n",
    "df.loc[df[\"temp_mean_daily\"] > 35, \"temp_mean_daily\"] = np.nan\n",
    "\n",
    "# Forward-fill (ffill) the missing values\n",
    "df[\"temp_mean_daily\"] = df[\"temp_mean_daily\"].ffill()"
   ]
  },
  {
   "cell_type": "code",
   "execution_count": 9,
   "metadata": {},
   "outputs": [
    {
     "data": {
      "text/plain": [
       "<Axes: xlabel='time'>"
      ]
     },
     "execution_count": 9,
     "metadata": {},
     "output_type": "execute_result"
    },
    {
     "data": {
      "image/png": "[encoded data removed]",
      "text/plain": [
       "<Figure size 640x480 with 1 Axes>"
      ]
     },
     "metadata": {},
     "output_type": "display_data"
    }
   ],
   "source": [
    "temp.plot()"
   ]
  },
  {
   "cell_type": "code",
   "execution_count": 10,
   "metadata": {},
   "outputs": [
    {
     "data": {
      "text/plain": [
       "<Axes: xlabel='time'>"
      ]
     },
     "execution_count": 10,
     "metadata": {},
     "output_type": "execute_result"
    },
    {
     "data": {
      "image/png": "[encoded data removed]",
      "text/plain": [
       "<Figure size 640x480 with 1 Axes>"
      ]
     },
     "metadata": {},
     "output_type": "display_data"
    }
   ],
   "source": [
    "rain = df['precip_total_daily']\n",
    "rain.plot()"
   ]
  },
  {
   "cell_type": "code",
   "execution_count": 11,
   "metadata": {},
   "outputs": [],
   "source": [
    "import numpy as np\n",
    "\n",
    "# Replace outliers with NaN\n",
    "df.loc[df[\"precip_total_daily\"] > 100, \"precip_total_daily\"] = np.nan\n",
    "\n",
    "# Forward-fill (ffill) the missing values\n",
    "df[\"precip_total_daily\"] = df[\"precip_total_daily\"].ffill()"
   ]
  },
  {
   "cell_type": "code",
   "execution_count": 12,
   "metadata": {},
   "outputs": [
    {
     "data": {
      "text/plain": [
       "<Axes: xlabel='time'>"
      ]
     },
     "execution_count": 12,
     "metadata": {},
     "output_type": "execute_result"
    },
    {
     "data": {
      "image/png": "[encoded data removed]",
      "text/plain": [
       "<Figure size 640x480 with 1 Axes>"
      ]
     },
     "metadata": {},
     "output_type": "display_data"
    }
   ],
   "source": [
    "rain.plot()"
   ]
  },
  {
   "cell_type": "code",
   "execution_count": 13,
   "metadata": {},
   "outputs": [
    {
     "data": {
      "text/plain": [
       "<Axes: xlabel='time'>"
      ]
     },
     "execution_count": 13,
     "metadata": {},
     "output_type": "execute_result"
    },
    {
     "data": {
      "image/png": "[encoded data removed]",
      "text/plain": [
       "<Figure size 640x480 with 1 Axes>"
      ]
     },
     "metadata": {},
     "output_type": "display_data"
    }
   ],
   "source": [
    "inflow = df['KarupBro']\n",
    "inflow.plot()"
   ]
  },
  {
   "cell_type": "markdown",
   "metadata": {},
   "source": [
    "## Multi-variable"
   ]
  },
  {
   "cell_type": "code",
   "execution_count": 14,
   "metadata": {},
   "outputs": [
    {
     "data": {
      "text/html": [
       "<div>\n",
       "<style scoped>\n",
       "    .dataframe tbody tr th:only-of-type {\n",
       "        vertical-align: middle;\n",
       "    }\n",
       "\n",
       "    .dataframe tbody tr th {\n",
       "        vertical-align: top;\n",
       "    }\n",
       "\n",
       "    .dataframe thead th {\n",
       "        text-align: right;\n",
       "    }\n",
       "</style>\n",
       "<table border=\"1\" class=\"dataframe\">\n",
       "  <thead>\n",
       "    <tr style=\"text-align: right;\">\n",
       "      <th></th>\n",
       "      <th>Inflow</th>\n",
       "      <th>Seconds</th>\n",
       "    </tr>\n",
       "    <tr>\n",
       "      <th>time</th>\n",
       "      <th></th>\n",
       "      <th></th>\n",
       "    </tr>\n",
       "  </thead>\n",
       "  <tbody>\n",
       "    <tr>\n",
       "      <th>2002-01-01</th>\n",
       "      <td>1829.75</td>\n",
       "      <td>1.009843e+09</td>\n",
       "    </tr>\n",
       "    <tr>\n",
       "      <th>2002-01-02</th>\n",
       "      <td>7279.46</td>\n",
       "      <td>1.009930e+09</td>\n",
       "    </tr>\n",
       "    <tr>\n",
       "      <th>2002-01-03</th>\n",
       "      <td>5261.85</td>\n",
       "      <td>1.010016e+09</td>\n",
       "    </tr>\n",
       "    <tr>\n",
       "      <th>2002-01-04</th>\n",
       "      <td>2951.97</td>\n",
       "      <td>1.010102e+09</td>\n",
       "    </tr>\n",
       "    <tr>\n",
       "      <th>2002-01-05</th>\n",
       "      <td>1868.53</td>\n",
       "      <td>1.010189e+09</td>\n",
       "    </tr>\n",
       "    <tr>\n",
       "      <th>...</th>\n",
       "      <td>...</td>\n",
       "      <td>...</td>\n",
       "    </tr>\n",
       "    <tr>\n",
       "      <th>2023-12-27</th>\n",
       "      <td>5197.40</td>\n",
       "      <td>1.703635e+09</td>\n",
       "    </tr>\n",
       "    <tr>\n",
       "      <th>2023-12-28</th>\n",
       "      <td>6368.46</td>\n",
       "      <td>1.703722e+09</td>\n",
       "    </tr>\n",
       "    <tr>\n",
       "      <th>2023-12-29</th>\n",
       "      <td>7162.01</td>\n",
       "      <td>1.703808e+09</td>\n",
       "    </tr>\n",
       "    <tr>\n",
       "      <th>2023-12-30</th>\n",
       "      <td>6869.41</td>\n",
       "      <td>1.703894e+09</td>\n",
       "    </tr>\n",
       "    <tr>\n",
       "      <th>2023-12-31</th>\n",
       "      <td>6335.36</td>\n",
       "      <td>1.703981e+09</td>\n",
       "    </tr>\n",
       "  </tbody>\n",
       "</table>\n",
       "<p>8035 rows × 2 columns</p>\n",
       "</div>"
      ],
      "text/plain": [
       "             Inflow       Seconds\n",
       "time                             \n",
       "2002-01-01  1829.75  1.009843e+09\n",
       "2002-01-02  7279.46  1.009930e+09\n",
       "2002-01-03  5261.85  1.010016e+09\n",
       "2002-01-04  2951.97  1.010102e+09\n",
       "2002-01-05  1868.53  1.010189e+09\n",
       "...             ...           ...\n",
       "2023-12-27  5197.40  1.703635e+09\n",
       "2023-12-28  6368.46  1.703722e+09\n",
       "2023-12-29  7162.01  1.703808e+09\n",
       "2023-12-30  6869.41  1.703894e+09\n",
       "2023-12-31  6335.36  1.703981e+09\n",
       "\n",
       "[8035 rows x 2 columns]"
      ]
     },
     "execution_count": 14,
     "metadata": {},
     "output_type": "execute_result"
    }
   ],
   "source": [
    "inflow_df = pd.DataFrame({'Inflow':inflow})\n",
    "inflow_df['Seconds'] = inflow_df.index.map(pd.Timestamp.timestamp)\n",
    "inflow_df"
   ]
  },
  {
   "cell_type": "code",
   "execution_count": 15,
   "metadata": {},
   "outputs": [
    {
     "data": {
      "text/html": [
       "<div>\n",
       "<style scoped>\n",
       "    .dataframe tbody tr th:only-of-type {\n",
       "        vertical-align: middle;\n",
       "    }\n",
       "\n",
       "    .dataframe tbody tr th {\n",
       "        vertical-align: top;\n",
       "    }\n",
       "\n",
       "    .dataframe thead th {\n",
       "        text-align: right;\n",
       "    }\n",
       "</style>\n",
       "<table border=\"1\" class=\"dataframe\">\n",
       "  <thead>\n",
       "    <tr style=\"text-align: right;\">\n",
       "      <th></th>\n",
       "      <th>Inflow</th>\n",
       "      <th>Rain</th>\n",
       "      <th>Temp</th>\n",
       "      <th>Year sin</th>\n",
       "      <th>Year cos</th>\n",
       "    </tr>\n",
       "    <tr>\n",
       "      <th>time</th>\n",
       "      <th></th>\n",
       "      <th></th>\n",
       "      <th></th>\n",
       "      <th></th>\n",
       "      <th></th>\n",
       "    </tr>\n",
       "  </thead>\n",
       "  <tbody>\n",
       "    <tr>\n",
       "      <th>2002-01-01</th>\n",
       "      <td>1829.75</td>\n",
       "      <td>2.2</td>\n",
       "      <td>1.250000</td>\n",
       "      <td>0.004129</td>\n",
       "      <td>0.999991</td>\n",
       "    </tr>\n",
       "    <tr>\n",
       "      <th>2002-01-02</th>\n",
       "      <td>7279.46</td>\n",
       "      <td>0.0</td>\n",
       "      <td>-0.837500</td>\n",
       "      <td>0.021330</td>\n",
       "      <td>0.999772</td>\n",
       "    </tr>\n",
       "    <tr>\n",
       "      <th>2002-01-03</th>\n",
       "      <td>5261.85</td>\n",
       "      <td>0.0</td>\n",
       "      <td>-5.166667</td>\n",
       "      <td>0.038525</td>\n",
       "      <td>0.999258</td>\n",
       "    </tr>\n",
       "    <tr>\n",
       "      <th>2002-01-04</th>\n",
       "      <td>2951.97</td>\n",
       "      <td>0.0</td>\n",
       "      <td>-6.025000</td>\n",
       "      <td>0.055708</td>\n",
       "      <td>0.998447</td>\n",
       "    </tr>\n",
       "    <tr>\n",
       "      <th>2002-01-05</th>\n",
       "      <td>1868.53</td>\n",
       "      <td>0.1</td>\n",
       "      <td>-3.466667</td>\n",
       "      <td>0.072875</td>\n",
       "      <td>0.997341</td>\n",
       "    </tr>\n",
       "    <tr>\n",
       "      <th>...</th>\n",
       "      <td>...</td>\n",
       "      <td>...</td>\n",
       "      <td>...</td>\n",
       "      <td>...</td>\n",
       "      <td>...</td>\n",
       "    </tr>\n",
       "    <tr>\n",
       "      <th>2023-12-27</th>\n",
       "      <td>5197.40</td>\n",
       "      <td>0.0</td>\n",
       "      <td>0.471667</td>\n",
       "      <td>-0.087536</td>\n",
       "      <td>0.996161</td>\n",
       "    </tr>\n",
       "    <tr>\n",
       "      <th>2023-12-28</th>\n",
       "      <td>6368.46</td>\n",
       "      <td>0.0</td>\n",
       "      <td>0.255556</td>\n",
       "      <td>-0.070387</td>\n",
       "      <td>0.997520</td>\n",
       "    </tr>\n",
       "    <tr>\n",
       "      <th>2023-12-29</th>\n",
       "      <td>7162.01</td>\n",
       "      <td>0.0</td>\n",
       "      <td>0.039444</td>\n",
       "      <td>-0.053217</td>\n",
       "      <td>0.998583</td>\n",
       "    </tr>\n",
       "    <tr>\n",
       "      <th>2023-12-30</th>\n",
       "      <td>6869.41</td>\n",
       "      <td>0.0</td>\n",
       "      <td>-0.176667</td>\n",
       "      <td>-0.036032</td>\n",
       "      <td>0.999351</td>\n",
       "    </tr>\n",
       "    <tr>\n",
       "      <th>2023-12-31</th>\n",
       "      <td>6335.36</td>\n",
       "      <td>0.0</td>\n",
       "      <td>-0.392778</td>\n",
       "      <td>-0.018836</td>\n",
       "      <td>0.999823</td>\n",
       "    </tr>\n",
       "  </tbody>\n",
       "</table>\n",
       "<p>8035 rows × 5 columns</p>\n",
       "</div>"
      ],
      "text/plain": [
       "             Inflow  Rain      Temp  Year sin  Year cos\n",
       "time                                                   \n",
       "2002-01-01  1829.75   2.2  1.250000  0.004129  0.999991\n",
       "2002-01-02  7279.46   0.0 -0.837500  0.021330  0.999772\n",
       "2002-01-03  5261.85   0.0 -5.166667  0.038525  0.999258\n",
       "2002-01-04  2951.97   0.0 -6.025000  0.055708  0.998447\n",
       "2002-01-05  1868.53   0.1 -3.466667  0.072875  0.997341\n",
       "...             ...   ...       ...       ...       ...\n",
       "2023-12-27  5197.40   0.0  0.471667 -0.087536  0.996161\n",
       "2023-12-28  6368.46   0.0  0.255556 -0.070387  0.997520\n",
       "2023-12-29  7162.01   0.0  0.039444 -0.053217  0.998583\n",
       "2023-12-30  6869.41   0.0 -0.176667 -0.036032  0.999351\n",
       "2023-12-31  6335.36   0.0 -0.392778 -0.018836  0.999823\n",
       "\n",
       "[8035 rows x 5 columns]"
      ]
     },
     "execution_count": 15,
     "metadata": {},
     "output_type": "execute_result"
    }
   ],
   "source": [
    "day = 24*60*60\n",
    "year = (365.2425)*day\n",
    "\n",
    "inflow_df['Rain'] = df['precip_total_daily']\n",
    "inflow_df['Temp'] = df['temp_mean_daily']\n",
    "inflow_df['Year sin'] = np.sin(inflow_df['Seconds'] * (2 * np.pi / year))\n",
    "inflow_df['Year cos'] = np.cos(inflow_df['Seconds'] * (2 * np.pi / year))\n",
    "inflow_df = inflow_df.drop('Seconds', axis=1)\n",
    "inflow_df"
   ]
  },
  {
   "cell_type": "code",
   "execution_count": 16,
   "metadata": {},
   "outputs": [],
   "source": [
    "import numpy as np\n",
    "\n",
    "HORIZON = 5\n",
    "\n",
    "def df_to_X_y_multi_step_exo(df, window_size=5, horizon=HORIZON):\n",
    "    \"\"\"\n",
    "    Prepares data for direct multi-step forecasting (k-step ahead) by:\n",
    "      - Using the past 'window_size' days of data as historical input.\n",
    "      - Including the exogenous features (Rain, Temp, cos_year, sin_year) \n",
    "        for the *next* 'horizon' days.\n",
    "      - Predicting 'horizon' days of inflow in one shot.\n",
    "\n",
    "    Assumes:\n",
    "      - df columns = [Inflow, Rain, Temp, cos_year, sin_year]\n",
    "      - 'window_size' = number of past days (e.g., 5)\n",
    "      - 'horizon' = forecast length (e.g., 3)\n",
    "\n",
    "    Returns:\n",
    "      X : shape (num_samples, window_size, 5 + 4*horizon)\n",
    "          The last row of each sample contains the exogenous data for each future day.\n",
    "      y : shape (num_samples, horizon)\n",
    "          The inflow values for the next 'horizon' days.\n",
    "    \"\"\"\n",
    "    df_as_np = df.to_numpy()  # shape (total_days, 5)\n",
    "    X, y = [], []\n",
    "    n = len(df_as_np)\n",
    "    \n",
    "    # We need enough data for 'window_size' historical days + 'horizon' future days\n",
    "    for i in range(n - window_size - horizon + 1):\n",
    "        # 1) Extract the 5-day historical window: shape (window_size, 5)\n",
    "        hist_window = df_as_np[i : i + window_size, :5]\n",
    "        \n",
    "        # 2) Extract the exogenous features for the next 'horizon' days (cols 1..4)\n",
    "        #    shape (horizon, 4)\n",
    "        exo_future = df_as_np[i + window_size : i + window_size + horizon, 1:5]\n",
    "        \n",
    "        # 3) Build an expanded window with shape (window_size, 5 + 4*horizon)\n",
    "        #    We copy the original 5 features into columns 0..4 for every row,\n",
    "        #    and in the *last row only*, we append the horizon exo data.\n",
    "        sample = np.zeros((window_size, 5 + 4 * horizon))\n",
    "        \n",
    "        # Fill columns 0..4 with the historical data for each of the 'window_size' rows\n",
    "        sample[:, :5] = hist_window\n",
    "        \n",
    "        # For the last row, place each day's exo in the extra columns\n",
    "        # day 0 exo goes to columns [5..9), day 1 exo goes to [9..13), etc.\n",
    "        for day_idx in range(horizon):\n",
    "            start_col = 5 + 4 * day_idx\n",
    "            end_col   = start_col + 4\n",
    "            sample[-1, start_col:end_col] = exo_future[day_idx]\n",
    "        \n",
    "        # 4) The label is the inflow for the next 'horizon' days: shape (horizon,)\n",
    "        future_inflow = df_as_np[i + window_size : i + window_size + horizon, 0]\n",
    "        \n",
    "        X.append(sample)\n",
    "        y.append(future_inflow)\n",
    "    \n",
    "    return np.array(X), np.array(y)"
   ]
  },
  {
   "cell_type": "code",
   "execution_count": 17,
   "metadata": {},
   "outputs": [
    {
     "data": {
      "text/plain": [
       "((8026, 5, 25), (8026, 5))"
      ]
     },
     "execution_count": 17,
     "metadata": {},
     "output_type": "execute_result"
    }
   ],
   "source": [
    "# X2, y2 = df_to_X_y2(inflow_df)\n",
    "X, y = df_to_X_y_multi_step_exo(inflow_df)\n",
    "\n",
    "X.shape, y.shape"
   ]
  },
  {
   "cell_type": "code",
   "execution_count": 18,
   "metadata": {},
   "outputs": [
    {
     "data": {
      "text/plain": [
       "((6000, 5, 25), (6000, 5), (1000, 5, 25), (1000, 5), (1026, 5, 25), (1026, 5))"
      ]
     },
     "execution_count": 18,
     "metadata": {},
     "output_type": "execute_result"
    }
   ],
   "source": [
    "X2_train, y2_train = X[:6000], y[:6000]\n",
    "X2_val, y2_val = X[6000:7000], y[6000:7000]\n",
    "X2_test, y2_test = X[7000:], y[7000:]\n",
    "X2_train.shape, y2_train.shape, X2_val.shape, y2_val.shape, X2_test.shape, y2_test.shape"
   ]
  },
  {
   "cell_type": "markdown",
   "metadata": {},
   "source": [
    "### Preprocessing"
   ]
  },
  {
   "cell_type": "code",
   "execution_count": 19,
   "metadata": {},
   "outputs": [
    {
     "data": {
      "text/plain": [
       "array([[-0.38355823, -0.44990893, -0.47533252, -0.49399215,  0.94305818],\n",
       "       [-0.44990893, -0.47533252, -0.49399215,  0.94305818,  2.3903177 ],\n",
       "       [-0.47533252, -0.49399215,  0.94305818,  2.3903177 ,  2.01318602],\n",
       "       ...,\n",
       "       [ 2.38340918,  2.40427327,  2.13534093,  2.8406845 ,  3.31864924],\n",
       "       [ 2.40427327,  2.13534093,  2.8406845 ,  3.31864924,  3.14241273],\n",
       "       [ 2.13534093,  2.8406845 ,  3.31864924,  3.14241273,  2.82074797]])"
      ]
     },
     "execution_count": 19,
     "metadata": {},
     "output_type": "execute_result"
    }
   ],
   "source": [
    "# Compute the training statistics from the first channel (inflow) in X2_train\n",
    "inflow_training_mean = np.mean(X2_train[:, :, 0])\n",
    "inflow_training_std = np.std(X2_train[:, :, 0])\n",
    "\n",
    "rain_training_mean = np.mean(X2_train[:, :, 1])\n",
    "rain_training_std = np.std(X2_train[:, :, 1])\n",
    "\n",
    "temp_training_mean = np.mean(X2_train[:, :, 2])\n",
    "temp_training_std = np.std(X2_train[:, :, 2])\n",
    "\n",
    "# Define the preprocessing functions for features and output\n",
    "def preprocess(X):\n",
    "    # Standardize the first three channels (features)\n",
    "    X[:, :, 0] = (X[:, :, 0] - inflow_training_mean) / inflow_training_std \n",
    "    X[:, :, 1] = (X[:, :, 1] - rain_training_mean) / rain_training_std\n",
    "    X[:, :, 2] = (X[:, :, 2] - temp_training_mean) / temp_training_std \n",
    "    return X\n",
    "\n",
    "def preprocess_output(y):\n",
    "    # Standardize every element in y\n",
    "    y[:] = (y[:] - inflow_training_mean) / inflow_training_std\n",
    "    return y\n",
    "\n",
    "# Apply preprocessing to all datasets\n",
    "preprocess(X2_train)\n",
    "preprocess(X2_val)\n",
    "preprocess(X2_test)\n",
    "preprocess_output(y2_train)\n",
    "preprocess_output(y2_val)\n",
    "preprocess_output(y2_test)"
   ]
  },
  {
   "cell_type": "code",
   "execution_count": 20,
   "metadata": {},
   "outputs": [
    {
     "data": {
      "text/plain": [
       "(array([[-0.16178693, -0.47387479, -1.02918874,  0.86394287,  0.50358984,\n",
       "          0.        ,  0.        ,  0.        ,  0.        ,  0.        ,\n",
       "          0.        ,  0.        ,  0.        ,  0.        ,  0.        ,\n",
       "          0.        ,  0.        ,  0.        ,  0.        ,  0.        ,\n",
       "          0.        ,  0.        ,  0.        ,  0.        ,  0.        ],\n",
       "        [-0.20456313, -0.47387479, -1.23306787,  0.87247775,  0.48865384,\n",
       "          0.        ,  0.        ,  0.        ,  0.        ,  0.        ,\n",
       "          0.        ,  0.        ,  0.        ,  0.        ,  0.        ,\n",
       "          0.        ,  0.        ,  0.        ,  0.        ,  0.        ,\n",
       "          0.        ,  0.        ,  0.        ,  0.        ,  0.        ],\n",
       "        [-0.23627486, -0.47387479, -1.06207248,  0.88075444,  0.47357324,\n",
       "          0.        ,  0.        ,  0.        ,  0.        ,  0.        ,\n",
       "          0.        ,  0.        ,  0.        ,  0.        ,  0.        ,\n",
       "          0.        ,  0.        ,  0.        ,  0.        ,  0.        ,\n",
       "          0.        ,  0.        ,  0.        ,  0.        ,  0.        ],\n",
       "        [-0.34346834, -0.47387479, -1.5717703 ,  0.8887705 ,  0.45835249,\n",
       "          0.        ,  0.        ,  0.        ,  0.        ,  0.        ,\n",
       "          0.        ,  0.        ,  0.        ,  0.        ,  0.        ,\n",
       "          0.        ,  0.        ,  0.        ,  0.        ,  0.        ,\n",
       "          0.        ,  0.        ,  0.        ,  0.        ,  0.        ],\n",
       "        [-0.3823777 , -0.44891571, -1.00682781,  0.89652354,  0.4429961 ,\n",
       "          0.        ,  2.2625    ,  0.90401127,  0.42750862,  0.        ,\n",
       "         -3.29166667,  0.91123148,  0.41189463,  0.        , -3.0875    ,\n",
       "          0.91818204,  0.39615874,  5.2       , -1.        ,  0.92486087,\n",
       "          0.38030562, 22.6       ,  5.025     ,  0.93126602,  0.36433996]]),\n",
       " array([-0.38355823, -0.44990893, -0.47533252, -0.49399215,  0.94305818]))"
      ]
     },
     "execution_count": 20,
     "metadata": {},
     "output_type": "execute_result"
    }
   ],
   "source": [
    "X2_test[0] , y2_test[0]"
   ]
  },
  {
   "cell_type": "code",
   "execution_count": 21,
   "metadata": {},
   "outputs": [
    {
     "name": "stdout",
     "output_type": "stream",
     "text": [
      "Model: \"sequential\"\n",
      "_________________________________________________________________\n",
      " Layer (type)                Output Shape              Param #   \n",
      "=================================================================\n",
      " lstm (LSTM)                 (None, 64)                23040     \n",
      "                                                                 \n",
      " dense (Dense)               (None, 32)                2080      \n",
      "                                                                 \n",
      " dense_1 (Dense)             (None, 5)                 165       \n",
      "                                                                 \n",
      "=================================================================\n",
      "Total params: 25285 (98.77 KB)\n",
      "Trainable params: 25285 (98.77 KB)\n",
      "Non-trainable params: 0 (0.00 Byte)\n",
      "_________________________________________________________________\n"
     ]
    }
   ],
   "source": [
    "from tensorflow.keras.models import Sequential\n",
    "from tensorflow.keras.layers import InputLayer, LSTM, Dense\n",
    "\n",
    "model4 = Sequential()\n",
    "model4.add(InputLayer(input_shape=(5, 5+4*HORIZON)))  # (window_size, 5 + 4*horizon)\n",
    "model4.add(LSTM(64, activation='relu'))\n",
    "model4.add(Dense(32, activation='relu'))\n",
    "# Output 3 values at once (for 3-day forecast)\n",
    "model4.add(Dense(HORIZON, activation='linear'))\n",
    "\n",
    "model4.compile(optimizer='adam', loss='mse')\n",
    "model4.summary()\n"
   ]
  },
  {
   "cell_type": "code",
   "execution_count": 22,
   "metadata": {},
   "outputs": [
    {
     "name": "stderr",
     "output_type": "stream",
     "text": [
      "WARNING:absl:At this time, the v2.11+ optimizer `tf.keras.optimizers.Adam` runs slowly on M1/M2 Macs, please use the legacy Keras optimizer instead, located at `tf.keras.optimizers.legacy.Adam`.\n"
     ]
    }
   ],
   "source": [
    "cp4 = ModelCheckpoint('model4/', save_best_only=True)\n",
    "model4.compile(loss=MeanSquaredError(), optimizer=Adam(learning_rate=0.0001), metrics=[RootMeanSquaredError()])"
   ]
  },
  {
   "cell_type": "code",
   "execution_count": 23,
   "metadata": {},
   "outputs": [
    {
     "name": "stdout",
     "output_type": "stream",
     "text": [
      "Epoch 1/100\n",
      "181/188 [===========================>..] - ETA: 0s - loss: 0.7964 - root_mean_squared_error: 0.8924INFO:tensorflow:Assets written to: model4/assets\n"
     ]
    },
    {
     "name": "stderr",
     "output_type": "stream",
     "text": [
      "INFO:tensorflow:Assets written to: model4/assets\n"
     ]
    },
    {
     "name": "stdout",
     "output_type": "stream",
     "text": [
      "188/188 [==============================] - 2s 6ms/step - loss: 0.7959 - root_mean_squared_error: 0.8921 - val_loss: 0.6683 - val_root_mean_squared_error: 0.8175\n",
      "Epoch 2/100\n",
      "166/188 [=========================>....] - ETA: 0s - loss: 0.5155 - root_mean_squared_error: 0.7180INFO:tensorflow:Assets written to: model4/assets\n"
     ]
    },
    {
     "name": "stderr",
     "output_type": "stream",
     "text": [
      "INFO:tensorflow:Assets written to: model4/assets\n"
     ]
    },
    {
     "name": "stdout",
     "output_type": "stream",
     "text": [
      "188/188 [==============================] - 1s 5ms/step - loss: 0.5015 - root_mean_squared_error: 0.7082 - val_loss: 0.3145 - val_root_mean_squared_error: 0.5608\n",
      "Epoch 3/100\n",
      "168/188 [=========================>....] - ETA: 0s - loss: 0.3301 - root_mean_squared_error: 0.5745INFO:tensorflow:Assets written to: model4/assets\n"
     ]
    },
    {
     "name": "stderr",
     "output_type": "stream",
     "text": [
      "INFO:tensorflow:Assets written to: model4/assets\n"
     ]
    },
    {
     "name": "stdout",
     "output_type": "stream",
     "text": [
      "188/188 [==============================] - 1s 5ms/step - loss: 0.3264 - root_mean_squared_error: 0.5713 - val_loss: 0.2072 - val_root_mean_squared_error: 0.4552\n",
      "Epoch 4/100\n",
      "184/188 [============================>.] - ETA: 0s - loss: 0.2647 - root_mean_squared_error: 0.5145INFO:tensorflow:Assets written to: model4/assets\n"
     ]
    },
    {
     "name": "stderr",
     "output_type": "stream",
     "text": [
      "INFO:tensorflow:Assets written to: model4/assets\n"
     ]
    },
    {
     "name": "stdout",
     "output_type": "stream",
     "text": [
      "188/188 [==============================] - 1s 4ms/step - loss: 0.2643 - root_mean_squared_error: 0.5141 - val_loss: 0.1515 - val_root_mean_squared_error: 0.3893\n",
      "Epoch 5/100\n",
      "179/188 [===========================>..] - ETA: 0s - loss: 0.2301 - root_mean_squared_error: 0.4797INFO:tensorflow:Assets written to: model4/assets\n"
     ]
    },
    {
     "name": "stderr",
     "output_type": "stream",
     "text": [
      "INFO:tensorflow:Assets written to: model4/assets\n"
     ]
    },
    {
     "name": "stdout",
     "output_type": "stream",
     "text": [
      "188/188 [==============================] - 1s 5ms/step - loss: 0.2281 - root_mean_squared_error: 0.4776 - val_loss: 0.1259 - val_root_mean_squared_error: 0.3549\n",
      "Epoch 6/100\n",
      "181/188 [===========================>..] - ETA: 0s - loss: 0.2037 - root_mean_squared_error: 0.4513INFO:tensorflow:Assets written to: model4/assets\n"
     ]
    },
    {
     "name": "stderr",
     "output_type": "stream",
     "text": [
      "INFO:tensorflow:Assets written to: model4/assets\n"
     ]
    },
    {
     "name": "stdout",
     "output_type": "stream",
     "text": [
      "188/188 [==============================] - 1s 6ms/step - loss: 0.2054 - root_mean_squared_error: 0.4532 - val_loss: 0.1142 - val_root_mean_squared_error: 0.3379\n",
      "Epoch 7/100\n",
      "166/188 [=========================>....] - ETA: 0s - loss: 0.1921 - root_mean_squared_error: 0.4383INFO:tensorflow:Assets written to: model4/assets\n"
     ]
    },
    {
     "name": "stderr",
     "output_type": "stream",
     "text": [
      "INFO:tensorflow:Assets written to: model4/assets\n"
     ]
    },
    {
     "name": "stdout",
     "output_type": "stream",
     "text": [
      "188/188 [==============================] - 1s 5ms/step - loss: 0.1903 - root_mean_squared_error: 0.4362 - val_loss: 0.1141 - val_root_mean_squared_error: 0.3378\n",
      "Epoch 8/100\n",
      "187/188 [============================>.] - ETA: 0s - loss: 0.1799 - root_mean_squared_error: 0.4242INFO:tensorflow:Assets written to: model4/assets\n"
     ]
    },
    {
     "name": "stderr",
     "output_type": "stream",
     "text": [
      "INFO:tensorflow:Assets written to: model4/assets\n"
     ]
    },
    {
     "name": "stdout",
     "output_type": "stream",
     "text": [
      "188/188 [==============================] - 1s 4ms/step - loss: 0.1799 - root_mean_squared_error: 0.4241 - val_loss: 0.0989 - val_root_mean_squared_error: 0.3145\n",
      "Epoch 9/100\n",
      "180/188 [===========================>..] - ETA: 0s - loss: 0.1724 - root_mean_squared_error: 0.4152INFO:tensorflow:Assets written to: model4/assets\n"
     ]
    },
    {
     "name": "stderr",
     "output_type": "stream",
     "text": [
      "INFO:tensorflow:Assets written to: model4/assets\n"
     ]
    },
    {
     "name": "stdout",
     "output_type": "stream",
     "text": [
      "188/188 [==============================] - 1s 5ms/step - loss: 0.1714 - root_mean_squared_error: 0.4140 - val_loss: 0.0966 - val_root_mean_squared_error: 0.3109\n",
      "Epoch 10/100\n",
      "156/188 [=======================>......] - ETA: 0s - loss: 0.1715 - root_mean_squared_error: 0.4141INFO:tensorflow:Assets written to: model4/assets\n"
     ]
    },
    {
     "name": "stderr",
     "output_type": "stream",
     "text": [
      "INFO:tensorflow:Assets written to: model4/assets\n"
     ]
    },
    {
     "name": "stdout",
     "output_type": "stream",
     "text": [
      "188/188 [==============================] - 1s 4ms/step - loss: 0.1647 - root_mean_squared_error: 0.4058 - val_loss: 0.0876 - val_root_mean_squared_error: 0.2959\n",
      "Epoch 11/100\n",
      "180/188 [===========================>..] - ETA: 0s - loss: 0.1584 - root_mean_squared_error: 0.3979INFO:tensorflow:Assets written to: model4/assets\n"
     ]
    },
    {
     "name": "stderr",
     "output_type": "stream",
     "text": [
      "INFO:tensorflow:Assets written to: model4/assets\n"
     ]
    },
    {
     "name": "stdout",
     "output_type": "stream",
     "text": [
      "188/188 [==============================] - 1s 4ms/step - loss: 0.1579 - root_mean_squared_error: 0.3974 - val_loss: 0.0828 - val_root_mean_squared_error: 0.2878\n",
      "Epoch 12/100\n",
      "188/188 [==============================] - 0s 2ms/step - loss: 0.1528 - root_mean_squared_error: 0.3910 - val_loss: 0.0894 - val_root_mean_squared_error: 0.2989\n",
      "Epoch 13/100\n",
      "188/188 [==============================] - 0s 2ms/step - loss: 0.1479 - root_mean_squared_error: 0.3846 - val_loss: 0.1000 - val_root_mean_squared_error: 0.3163\n",
      "Epoch 14/100\n",
      "188/188 [==============================] - 0s 2ms/step - loss: 0.1440 - root_mean_squared_error: 0.3795 - val_loss: 0.0953 - val_root_mean_squared_error: 0.3087\n",
      "Epoch 15/100\n",
      "188/188 [==============================] - 0s 2ms/step - loss: 0.1399 - root_mean_squared_error: 0.3740 - val_loss: 0.0935 - val_root_mean_squared_error: 0.3058\n",
      "Epoch 16/100\n",
      "188/188 [==============================] - 0s 2ms/step - loss: 0.1375 - root_mean_squared_error: 0.3708 - val_loss: 0.0900 - val_root_mean_squared_error: 0.3000\n",
      "Epoch 17/100\n",
      "188/188 [==============================] - 0s 2ms/step - loss: 0.1342 - root_mean_squared_error: 0.3663 - val_loss: 0.0956 - val_root_mean_squared_error: 0.3092\n",
      "Epoch 18/100\n",
      "188/188 [==============================] - 0s 2ms/step - loss: 0.1311 - root_mean_squared_error: 0.3621 - val_loss: 0.0963 - val_root_mean_squared_error: 0.3103\n",
      "Epoch 19/100\n",
      "188/188 [==============================] - 0s 2ms/step - loss: 0.1289 - root_mean_squared_error: 0.3590 - val_loss: 0.0953 - val_root_mean_squared_error: 0.3087\n",
      "Epoch 20/100\n",
      "188/188 [==============================] - 0s 2ms/step - loss: 0.1263 - root_mean_squared_error: 0.3555 - val_loss: 0.1069 - val_root_mean_squared_error: 0.3270\n",
      "Epoch 21/100\n",
      "188/188 [==============================] - 0s 2ms/step - loss: 0.1247 - root_mean_squared_error: 0.3531 - val_loss: 0.0922 - val_root_mean_squared_error: 0.3037\n",
      "Epoch 22/100\n",
      "188/188 [==============================] - 0s 2ms/step - loss: 0.1226 - root_mean_squared_error: 0.3502 - val_loss: 0.1054 - val_root_mean_squared_error: 0.3246\n",
      "Epoch 23/100\n",
      "188/188 [==============================] - 0s 2ms/step - loss: 0.1212 - root_mean_squared_error: 0.3481 - val_loss: 0.0952 - val_root_mean_squared_error: 0.3086\n",
      "Epoch 24/100\n",
      "188/188 [==============================] - 0s 2ms/step - loss: 0.1206 - root_mean_squared_error: 0.3472 - val_loss: 0.0996 - val_root_mean_squared_error: 0.3157\n",
      "Epoch 25/100\n",
      "188/188 [==============================] - 0s 2ms/step - loss: 0.1184 - root_mean_squared_error: 0.3441 - val_loss: 0.1015 - val_root_mean_squared_error: 0.3185\n",
      "Epoch 26/100\n",
      "188/188 [==============================] - 0s 2ms/step - loss: 0.1176 - root_mean_squared_error: 0.3429 - val_loss: 0.1044 - val_root_mean_squared_error: 0.3231\n",
      "Epoch 27/100\n",
      "188/188 [==============================] - 0s 2ms/step - loss: 0.1157 - root_mean_squared_error: 0.3402 - val_loss: 0.1186 - val_root_mean_squared_error: 0.3444\n",
      "Epoch 28/100\n",
      "188/188 [==============================] - 0s 2ms/step - loss: 0.1146 - root_mean_squared_error: 0.3386 - val_loss: 0.1142 - val_root_mean_squared_error: 0.3379\n",
      "Epoch 29/100\n",
      "188/188 [==============================] - 0s 2ms/step - loss: 0.1139 - root_mean_squared_error: 0.3375 - val_loss: 0.1144 - val_root_mean_squared_error: 0.3382\n",
      "Epoch 30/100\n",
      "188/188 [==============================] - 0s 2ms/step - loss: 0.1126 - root_mean_squared_error: 0.3356 - val_loss: 0.1194 - val_root_mean_squared_error: 0.3455\n",
      "Epoch 31/100\n",
      "188/188 [==============================] - 0s 2ms/step - loss: 0.1115 - root_mean_squared_error: 0.3339 - val_loss: 0.1218 - val_root_mean_squared_error: 0.3491\n",
      "Epoch 32/100\n",
      "188/188 [==============================] - 0s 2ms/step - loss: 0.1105 - root_mean_squared_error: 0.3325 - val_loss: 0.1044 - val_root_mean_squared_error: 0.3231\n",
      "Epoch 33/100\n",
      "188/188 [==============================] - 0s 2ms/step - loss: 0.1098 - root_mean_squared_error: 0.3314 - val_loss: 0.1109 - val_root_mean_squared_error: 0.3330\n",
      "Epoch 34/100\n",
      "188/188 [==============================] - 0s 2ms/step - loss: 0.1087 - root_mean_squared_error: 0.3297 - val_loss: 0.1063 - val_root_mean_squared_error: 0.3261\n",
      "Epoch 35/100\n",
      "188/188 [==============================] - 0s 2ms/step - loss: 0.1086 - root_mean_squared_error: 0.3296 - val_loss: 0.1028 - val_root_mean_squared_error: 0.3206\n",
      "Epoch 36/100\n",
      "188/188 [==============================] - 0s 2ms/step - loss: 0.1072 - root_mean_squared_error: 0.3274 - val_loss: 0.1091 - val_root_mean_squared_error: 0.3304\n",
      "Epoch 37/100\n",
      "188/188 [==============================] - 0s 2ms/step - loss: 0.1064 - root_mean_squared_error: 0.3262 - val_loss: 0.1261 - val_root_mean_squared_error: 0.3551\n",
      "Epoch 38/100\n",
      "188/188 [==============================] - 0s 2ms/step - loss: 0.1060 - root_mean_squared_error: 0.3256 - val_loss: 0.1178 - val_root_mean_squared_error: 0.3432\n",
      "Epoch 39/100\n",
      "188/188 [==============================] - 0s 2ms/step - loss: 0.1053 - root_mean_squared_error: 0.3245 - val_loss: 0.1358 - val_root_mean_squared_error: 0.3685\n",
      "Epoch 40/100\n",
      "188/188 [==============================] - 0s 2ms/step - loss: 0.1047 - root_mean_squared_error: 0.3236 - val_loss: 0.1146 - val_root_mean_squared_error: 0.3386\n",
      "Epoch 41/100\n",
      "188/188 [==============================] - 0s 2ms/step - loss: 0.1042 - root_mean_squared_error: 0.3228 - val_loss: 0.1269 - val_root_mean_squared_error: 0.3563\n",
      "Epoch 42/100\n",
      "188/188 [==============================] - 0s 2ms/step - loss: 0.1034 - root_mean_squared_error: 0.3216 - val_loss: 0.1238 - val_root_mean_squared_error: 0.3518\n",
      "Epoch 43/100\n",
      "188/188 [==============================] - 0s 2ms/step - loss: 0.1028 - root_mean_squared_error: 0.3206 - val_loss: 0.1219 - val_root_mean_squared_error: 0.3492\n",
      "Epoch 44/100\n",
      "188/188 [==============================] - 0s 2ms/step - loss: 0.1019 - root_mean_squared_error: 0.3192 - val_loss: 0.1299 - val_root_mean_squared_error: 0.3604\n",
      "Epoch 45/100\n",
      "188/188 [==============================] - 0s 2ms/step - loss: 0.1015 - root_mean_squared_error: 0.3187 - val_loss: 0.1206 - val_root_mean_squared_error: 0.3472\n",
      "Epoch 46/100\n",
      "188/188 [==============================] - 0s 2ms/step - loss: 0.1007 - root_mean_squared_error: 0.3174 - val_loss: 0.1225 - val_root_mean_squared_error: 0.3500\n",
      "Epoch 47/100\n",
      "188/188 [==============================] - 0s 2ms/step - loss: 0.1003 - root_mean_squared_error: 0.3168 - val_loss: 0.1347 - val_root_mean_squared_error: 0.3671\n",
      "Epoch 48/100\n",
      "188/188 [==============================] - 0s 2ms/step - loss: 0.0996 - root_mean_squared_error: 0.3156 - val_loss: 0.1223 - val_root_mean_squared_error: 0.3497\n",
      "Epoch 49/100\n",
      "188/188 [==============================] - 0s 2ms/step - loss: 0.0988 - root_mean_squared_error: 0.3144 - val_loss: 0.1213 - val_root_mean_squared_error: 0.3483\n",
      "Epoch 50/100\n",
      "188/188 [==============================] - 0s 2ms/step - loss: 0.0991 - root_mean_squared_error: 0.3149 - val_loss: 0.1275 - val_root_mean_squared_error: 0.3570\n",
      "Epoch 51/100\n",
      "188/188 [==============================] - 0s 2ms/step - loss: 0.0980 - root_mean_squared_error: 0.3130 - val_loss: 0.1231 - val_root_mean_squared_error: 0.3508\n",
      "Epoch 52/100\n",
      "188/188 [==============================] - 0s 2ms/step - loss: 0.0977 - root_mean_squared_error: 0.3125 - val_loss: 0.1256 - val_root_mean_squared_error: 0.3543\n",
      "Epoch 53/100\n",
      "188/188 [==============================] - 0s 2ms/step - loss: 0.0969 - root_mean_squared_error: 0.3113 - val_loss: 0.1146 - val_root_mean_squared_error: 0.3385\n",
      "Epoch 54/100\n",
      "188/188 [==============================] - 0s 2ms/step - loss: 0.0965 - root_mean_squared_error: 0.3106 - val_loss: 0.1319 - val_root_mean_squared_error: 0.3631\n",
      "Epoch 55/100\n",
      "188/188 [==============================] - 0s 2ms/step - loss: 0.0967 - root_mean_squared_error: 0.3109 - val_loss: 0.1397 - val_root_mean_squared_error: 0.3738\n",
      "Epoch 56/100\n",
      "188/188 [==============================] - 0s 2ms/step - loss: 0.0957 - root_mean_squared_error: 0.3093 - val_loss: 0.1307 - val_root_mean_squared_error: 0.3616\n",
      "Epoch 57/100\n",
      "188/188 [==============================] - 0s 2ms/step - loss: 0.0953 - root_mean_squared_error: 0.3088 - val_loss: 0.1339 - val_root_mean_squared_error: 0.3660\n",
      "Epoch 58/100\n",
      "188/188 [==============================] - 0s 2ms/step - loss: 0.0944 - root_mean_squared_error: 0.3072 - val_loss: 0.1298 - val_root_mean_squared_error: 0.3603\n",
      "Epoch 59/100\n",
      "188/188 [==============================] - 0s 2ms/step - loss: 0.0946 - root_mean_squared_error: 0.3075 - val_loss: 0.1309 - val_root_mean_squared_error: 0.3618\n",
      "Epoch 60/100\n",
      "188/188 [==============================] - 0s 2ms/step - loss: 0.0936 - root_mean_squared_error: 0.3059 - val_loss: 0.1262 - val_root_mean_squared_error: 0.3552\n",
      "Epoch 61/100\n",
      "188/188 [==============================] - 0s 2ms/step - loss: 0.0933 - root_mean_squared_error: 0.3055 - val_loss: 0.1356 - val_root_mean_squared_error: 0.3682\n",
      "Epoch 62/100\n",
      "188/188 [==============================] - 0s 2ms/step - loss: 0.0936 - root_mean_squared_error: 0.3059 - val_loss: 0.1295 - val_root_mean_squared_error: 0.3598\n",
      "Epoch 63/100\n",
      "188/188 [==============================] - 0s 2ms/step - loss: 0.0925 - root_mean_squared_error: 0.3041 - val_loss: 0.1195 - val_root_mean_squared_error: 0.3457\n",
      "Epoch 64/100\n",
      "188/188 [==============================] - 0s 2ms/step - loss: 0.0922 - root_mean_squared_error: 0.3036 - val_loss: 0.1378 - val_root_mean_squared_error: 0.3712\n",
      "Epoch 65/100\n",
      "188/188 [==============================] - 0s 2ms/step - loss: 0.0918 - root_mean_squared_error: 0.3029 - val_loss: 0.1287 - val_root_mean_squared_error: 0.3587\n",
      "Epoch 66/100\n",
      "188/188 [==============================] - 0s 2ms/step - loss: 0.0917 - root_mean_squared_error: 0.3028 - val_loss: 0.1216 - val_root_mean_squared_error: 0.3488\n",
      "Epoch 67/100\n",
      "188/188 [==============================] - 0s 2ms/step - loss: 0.0912 - root_mean_squared_error: 0.3020 - val_loss: 0.1383 - val_root_mean_squared_error: 0.3718\n",
      "Epoch 68/100\n",
      "188/188 [==============================] - 0s 2ms/step - loss: 0.0905 - root_mean_squared_error: 0.3008 - val_loss: 0.1315 - val_root_mean_squared_error: 0.3626\n",
      "Epoch 69/100\n",
      "188/188 [==============================] - 0s 2ms/step - loss: 0.0904 - root_mean_squared_error: 0.3007 - val_loss: 0.1166 - val_root_mean_squared_error: 0.3415\n",
      "Epoch 70/100\n",
      "188/188 [==============================] - 0s 2ms/step - loss: 0.0907 - root_mean_squared_error: 0.3011 - val_loss: 0.1195 - val_root_mean_squared_error: 0.3457\n",
      "Epoch 71/100\n",
      "188/188 [==============================] - 0s 2ms/step - loss: 0.0897 - root_mean_squared_error: 0.2995 - val_loss: 0.1313 - val_root_mean_squared_error: 0.3623\n",
      "Epoch 72/100\n",
      "188/188 [==============================] - 0s 2ms/step - loss: 0.0891 - root_mean_squared_error: 0.2984 - val_loss: 0.1289 - val_root_mean_squared_error: 0.3590\n",
      "Epoch 73/100\n",
      "188/188 [==============================] - 0s 2ms/step - loss: 0.0890 - root_mean_squared_error: 0.2983 - val_loss: 0.1308 - val_root_mean_squared_error: 0.3616\n",
      "Epoch 74/100\n",
      "188/188 [==============================] - 0s 2ms/step - loss: 0.0892 - root_mean_squared_error: 0.2987 - val_loss: 0.1343 - val_root_mean_squared_error: 0.3665\n",
      "Epoch 75/100\n",
      "188/188 [==============================] - 0s 2ms/step - loss: 0.0882 - root_mean_squared_error: 0.2969 - val_loss: 0.1531 - val_root_mean_squared_error: 0.3912\n",
      "Epoch 76/100\n",
      "188/188 [==============================] - 0s 2ms/step - loss: 0.0881 - root_mean_squared_error: 0.2968 - val_loss: 0.1352 - val_root_mean_squared_error: 0.3677\n",
      "Epoch 77/100\n",
      "188/188 [==============================] - 0s 2ms/step - loss: 0.0872 - root_mean_squared_error: 0.2953 - val_loss: 0.1398 - val_root_mean_squared_error: 0.3739\n",
      "Epoch 78/100\n",
      "188/188 [==============================] - 0s 2ms/step - loss: 0.0867 - root_mean_squared_error: 0.2944 - val_loss: 0.1297 - val_root_mean_squared_error: 0.3602\n",
      "Epoch 79/100\n",
      "188/188 [==============================] - 0s 2ms/step - loss: 0.0869 - root_mean_squared_error: 0.2949 - val_loss: 0.1350 - val_root_mean_squared_error: 0.3674\n",
      "Epoch 80/100\n",
      "188/188 [==============================] - 0s 2ms/step - loss: 0.0862 - root_mean_squared_error: 0.2936 - val_loss: 0.1440 - val_root_mean_squared_error: 0.3795\n",
      "Epoch 81/100\n",
      "188/188 [==============================] - 0s 2ms/step - loss: 0.0860 - root_mean_squared_error: 0.2932 - val_loss: 0.1459 - val_root_mean_squared_error: 0.3820\n",
      "Epoch 82/100\n",
      "188/188 [==============================] - 0s 2ms/step - loss: 0.0856 - root_mean_squared_error: 0.2926 - val_loss: 0.1556 - val_root_mean_squared_error: 0.3944\n",
      "Epoch 83/100\n",
      "188/188 [==============================] - 0s 2ms/step - loss: 0.0850 - root_mean_squared_error: 0.2916 - val_loss: 0.1403 - val_root_mean_squared_error: 0.3745\n",
      "Epoch 84/100\n",
      "188/188 [==============================] - 0s 2ms/step - loss: 0.0854 - root_mean_squared_error: 0.2923 - val_loss: 0.1555 - val_root_mean_squared_error: 0.3944\n",
      "Epoch 85/100\n",
      "188/188 [==============================] - 0s 2ms/step - loss: 0.0846 - root_mean_squared_error: 0.2908 - val_loss: 0.1575 - val_root_mean_squared_error: 0.3968\n",
      "Epoch 86/100\n",
      "188/188 [==============================] - 0s 2ms/step - loss: 0.0847 - root_mean_squared_error: 0.2911 - val_loss: 0.1459 - val_root_mean_squared_error: 0.3819\n",
      "Epoch 87/100\n",
      "188/188 [==============================] - 0s 2ms/step - loss: 0.0841 - root_mean_squared_error: 0.2900 - val_loss: 0.1563 - val_root_mean_squared_error: 0.3953\n",
      "Epoch 88/100\n",
      "188/188 [==============================] - 0s 2ms/step - loss: 0.0837 - root_mean_squared_error: 0.2893 - val_loss: 0.1633 - val_root_mean_squared_error: 0.4041\n",
      "Epoch 89/100\n",
      "188/188 [==============================] - 0s 2ms/step - loss: 0.0833 - root_mean_squared_error: 0.2887 - val_loss: 0.1521 - val_root_mean_squared_error: 0.3900\n",
      "Epoch 90/100\n",
      "188/188 [==============================] - 0s 2ms/step - loss: 0.0832 - root_mean_squared_error: 0.2885 - val_loss: 0.1546 - val_root_mean_squared_error: 0.3932\n",
      "Epoch 91/100\n",
      "188/188 [==============================] - 0s 2ms/step - loss: 0.0834 - root_mean_squared_error: 0.2889 - val_loss: 0.1503 - val_root_mean_squared_error: 0.3877\n",
      "Epoch 92/100\n",
      "188/188 [==============================] - 0s 2ms/step - loss: 0.0823 - root_mean_squared_error: 0.2869 - val_loss: 0.1361 - val_root_mean_squared_error: 0.3689\n",
      "Epoch 93/100\n",
      "188/188 [==============================] - 0s 2ms/step - loss: 0.0823 - root_mean_squared_error: 0.2869 - val_loss: 0.1497 - val_root_mean_squared_error: 0.3869\n",
      "Epoch 94/100\n",
      "188/188 [==============================] - 0s 2ms/step - loss: 0.0819 - root_mean_squared_error: 0.2862 - val_loss: 0.1435 - val_root_mean_squared_error: 0.3789\n",
      "Epoch 95/100\n",
      "188/188 [==============================] - 0s 2ms/step - loss: 0.0814 - root_mean_squared_error: 0.2853 - val_loss: 0.1390 - val_root_mean_squared_error: 0.3729\n",
      "Epoch 96/100\n",
      "188/188 [==============================] - 0s 2ms/step - loss: 0.0812 - root_mean_squared_error: 0.2850 - val_loss: 0.1415 - val_root_mean_squared_error: 0.3762\n",
      "Epoch 97/100\n",
      "188/188 [==============================] - 0s 2ms/step - loss: 0.0811 - root_mean_squared_error: 0.2847 - val_loss: 0.1509 - val_root_mean_squared_error: 0.3885\n",
      "Epoch 98/100\n",
      "188/188 [==============================] - 0s 2ms/step - loss: 0.0806 - root_mean_squared_error: 0.2840 - val_loss: 0.1336 - val_root_mean_squared_error: 0.3655\n",
      "Epoch 99/100\n",
      "188/188 [==============================] - 0s 2ms/step - loss: 0.0806 - root_mean_squared_error: 0.2839 - val_loss: 0.1414 - val_root_mean_squared_error: 0.3760\n",
      "Epoch 100/100\n",
      "188/188 [==============================] - 0s 2ms/step - loss: 0.0800 - root_mean_squared_error: 0.2828 - val_loss: 0.1646 - val_root_mean_squared_error: 0.4057\n"
     ]
    },
    {
     "data": {
      "text/plain": [
       "<keras.src.callbacks.History at 0x335efb100>"
      ]
     },
     "execution_count": 23,
     "metadata": {},
     "output_type": "execute_result"
    }
   ],
   "source": [
    "model4.fit(X2_train, y2_train, validation_data=(X2_val, y2_val), epochs=100, callbacks=[cp4])"
   ]
  },
  {
   "cell_type": "code",
   "execution_count": 24,
   "metadata": {},
   "outputs": [
    {
     "name": "stdout",
     "output_type": "stream",
     "text": [
      "33/33 [==============================] - 0s 750us/step\n"
     ]
    },
    {
     "data": {
      "text/html": [
       "<div>\n",
       "<style scoped>\n",
       "    .dataframe tbody tr th:only-of-type {\n",
       "        vertical-align: middle;\n",
       "    }\n",
       "\n",
       "    .dataframe tbody tr th {\n",
       "        vertical-align: top;\n",
       "    }\n",
       "\n",
       "    .dataframe thead th {\n",
       "        text-align: right;\n",
       "    }\n",
       "</style>\n",
       "<table border=\"1\" class=\"dataframe\">\n",
       "  <thead>\n",
       "    <tr style=\"text-align: right;\">\n",
       "      <th></th>\n",
       "      <th>Inflow Predictions Day 1</th>\n",
       "      <th>Inflow Actuals Day 1</th>\n",
       "      <th>Inflow Predictions Day 2</th>\n",
       "      <th>Inflow Actuals Day 2</th>\n",
       "      <th>Inflow Predictions Day 3</th>\n",
       "      <th>Inflow Actuals Day 3</th>\n",
       "      <th>Inflow Predictions Day 4</th>\n",
       "      <th>Inflow Actuals Day 4</th>\n",
       "      <th>Inflow Predictions Day 5</th>\n",
       "      <th>Inflow Actuals Day 5</th>\n",
       "    </tr>\n",
       "  </thead>\n",
       "  <tbody>\n",
       "    <tr>\n",
       "      <th>0</th>\n",
       "      <td>1576.411133</td>\n",
       "      <td>1015.35</td>\n",
       "      <td>1685.171631</td>\n",
       "      <td>905.19</td>\n",
       "      <td>1381.699707</td>\n",
       "      <td>862.98</td>\n",
       "      <td>946.052368</td>\n",
       "      <td>832.00</td>\n",
       "      <td>2501.888184</td>\n",
       "      <td>3217.89</td>\n",
       "    </tr>\n",
       "    <tr>\n",
       "      <th>1</th>\n",
       "      <td>1869.235962</td>\n",
       "      <td>905.19</td>\n",
       "      <td>1811.388672</td>\n",
       "      <td>862.98</td>\n",
       "      <td>1003.488525</td>\n",
       "      <td>832.00</td>\n",
       "      <td>3220.741699</td>\n",
       "      <td>3217.89</td>\n",
       "      <td>6657.156250</td>\n",
       "      <td>5620.73</td>\n",
       "    </tr>\n",
       "    <tr>\n",
       "      <th>2</th>\n",
       "      <td>1928.427734</td>\n",
       "      <td>862.98</td>\n",
       "      <td>1927.503174</td>\n",
       "      <td>832.00</td>\n",
       "      <td>3220.458740</td>\n",
       "      <td>3217.89</td>\n",
       "      <td>6306.842773</td>\n",
       "      <td>5620.73</td>\n",
       "      <td>6677.777832</td>\n",
       "      <td>4994.59</td>\n",
       "    </tr>\n",
       "    <tr>\n",
       "      <th>3</th>\n",
       "      <td>875.661255</td>\n",
       "      <td>832.00</td>\n",
       "      <td>2883.507568</td>\n",
       "      <td>3217.89</td>\n",
       "      <td>6922.092773</td>\n",
       "      <td>5620.73</td>\n",
       "      <td>7194.916992</td>\n",
       "      <td>4994.59</td>\n",
       "      <td>7442.719238</td>\n",
       "      <td>6097.29</td>\n",
       "    </tr>\n",
       "    <tr>\n",
       "      <th>4</th>\n",
       "      <td>3853.342285</td>\n",
       "      <td>3217.89</td>\n",
       "      <td>8622.426758</td>\n",
       "      <td>5620.73</td>\n",
       "      <td>8094.353027</td>\n",
       "      <td>4994.59</td>\n",
       "      <td>8171.465820</td>\n",
       "      <td>6097.29</td>\n",
       "      <td>7058.402832</td>\n",
       "      <td>5512.87</td>\n",
       "    </tr>\n",
       "    <tr>\n",
       "      <th>...</th>\n",
       "      <td>...</td>\n",
       "      <td>...</td>\n",
       "      <td>...</td>\n",
       "      <td>...</td>\n",
       "      <td>...</td>\n",
       "      <td>...</td>\n",
       "      <td>...</td>\n",
       "      <td>...</td>\n",
       "      <td>...</td>\n",
       "      <td>...</td>\n",
       "    </tr>\n",
       "    <tr>\n",
       "      <th>1021</th>\n",
       "      <td>5526.115234</td>\n",
       "      <td>5809.15</td>\n",
       "      <td>4805.899414</td>\n",
       "      <td>5197.78</td>\n",
       "      <td>4627.416016</td>\n",
       "      <td>5609.26</td>\n",
       "      <td>3906.556152</td>\n",
       "      <td>5643.90</td>\n",
       "      <td>3468.747314</td>\n",
       "      <td>5197.40</td>\n",
       "    </tr>\n",
       "    <tr>\n",
       "      <th>1022</th>\n",
       "      <td>5002.945801</td>\n",
       "      <td>5197.78</td>\n",
       "      <td>4646.696777</td>\n",
       "      <td>5609.26</td>\n",
       "      <td>3957.206055</td>\n",
       "      <td>5643.90</td>\n",
       "      <td>3176.133301</td>\n",
       "      <td>5197.40</td>\n",
       "      <td>2828.634766</td>\n",
       "      <td>6368.46</td>\n",
       "    </tr>\n",
       "    <tr>\n",
       "      <th>1023</th>\n",
       "      <td>4848.052734</td>\n",
       "      <td>5609.26</td>\n",
       "      <td>3988.161621</td>\n",
       "      <td>5643.90</td>\n",
       "      <td>3309.164551</td>\n",
       "      <td>5197.40</td>\n",
       "      <td>2905.374268</td>\n",
       "      <td>6368.46</td>\n",
       "      <td>2689.166992</td>\n",
       "      <td>7162.01</td>\n",
       "    </tr>\n",
       "    <tr>\n",
       "      <th>1024</th>\n",
       "      <td>4498.041016</td>\n",
       "      <td>5643.90</td>\n",
       "      <td>3638.003662</td>\n",
       "      <td>5197.40</td>\n",
       "      <td>3127.301758</td>\n",
       "      <td>6368.46</td>\n",
       "      <td>2802.914062</td>\n",
       "      <td>7162.01</td>\n",
       "      <td>2411.677490</td>\n",
       "      <td>6869.41</td>\n",
       "    </tr>\n",
       "    <tr>\n",
       "      <th>1025</th>\n",
       "      <td>4564.723633</td>\n",
       "      <td>5197.40</td>\n",
       "      <td>3783.852539</td>\n",
       "      <td>6368.46</td>\n",
       "      <td>3356.094727</td>\n",
       "      <td>7162.01</td>\n",
       "      <td>3088.023193</td>\n",
       "      <td>6869.41</td>\n",
       "      <td>2761.915039</td>\n",
       "      <td>6335.36</td>\n",
       "    </tr>\n",
       "  </tbody>\n",
       "</table>\n",
       "<p>1026 rows × 10 columns</p>\n",
       "</div>"
      ],
      "text/plain": [
       "      Inflow Predictions Day 1  Inflow Actuals Day 1  \\\n",
       "0                  1576.411133               1015.35   \n",
       "1                  1869.235962                905.19   \n",
       "2                  1928.427734                862.98   \n",
       "3                   875.661255                832.00   \n",
       "4                  3853.342285               3217.89   \n",
       "...                        ...                   ...   \n",
       "1021               5526.115234               5809.15   \n",
       "1022               5002.945801               5197.78   \n",
       "1023               4848.052734               5609.26   \n",
       "1024               4498.041016               5643.90   \n",
       "1025               4564.723633               5197.40   \n",
       "\n",
       "      Inflow Predictions Day 2  Inflow Actuals Day 2  \\\n",
       "0                  1685.171631                905.19   \n",
       "1                  1811.388672                862.98   \n",
       "2                  1927.503174                832.00   \n",
       "3                  2883.507568               3217.89   \n",
       "4                  8622.426758               5620.73   \n",
       "...                        ...                   ...   \n",
       "1021               4805.899414               5197.78   \n",
       "1022               4646.696777               5609.26   \n",
       "1023               3988.161621               5643.90   \n",
       "1024               3638.003662               5197.40   \n",
       "1025               3783.852539               6368.46   \n",
       "\n",
       "      Inflow Predictions Day 3  Inflow Actuals Day 3  \\\n",
       "0                  1381.699707                862.98   \n",
       "1                  1003.488525                832.00   \n",
       "2                  3220.458740               3217.89   \n",
       "3                  6922.092773               5620.73   \n",
       "4                  8094.353027               4994.59   \n",
       "...                        ...                   ...   \n",
       "1021               4627.416016               5609.26   \n",
       "1022               3957.206055               5643.90   \n",
       "1023               3309.164551               5197.40   \n",
       "1024               3127.301758               6368.46   \n",
       "1025               3356.094727               7162.01   \n",
       "\n",
       "      Inflow Predictions Day 4  Inflow Actuals Day 4  \\\n",
       "0                   946.052368                832.00   \n",
       "1                  3220.741699               3217.89   \n",
       "2                  6306.842773               5620.73   \n",
       "3                  7194.916992               4994.59   \n",
       "4                  8171.465820               6097.29   \n",
       "...                        ...                   ...   \n",
       "1021               3906.556152               5643.90   \n",
       "1022               3176.133301               5197.40   \n",
       "1023               2905.374268               6368.46   \n",
       "1024               2802.914062               7162.01   \n",
       "1025               3088.023193               6869.41   \n",
       "\n",
       "      Inflow Predictions Day 5  Inflow Actuals Day 5  \n",
       "0                  2501.888184               3217.89  \n",
       "1                  6657.156250               5620.73  \n",
       "2                  6677.777832               4994.59  \n",
       "3                  7442.719238               6097.29  \n",
       "4                  7058.402832               5512.87  \n",
       "...                        ...                   ...  \n",
       "1021               3468.747314               5197.40  \n",
       "1022               2828.634766               6368.46  \n",
       "1023               2689.166992               7162.01  \n",
       "1024               2411.677490               6869.41  \n",
       "1025               2761.915039               6335.36  \n",
       "\n",
       "[1026 rows x 10 columns]"
      ]
     },
     "execution_count": 24,
     "metadata": {},
     "output_type": "execute_result"
    }
   ],
   "source": [
    "def postprocess(arr):\n",
    "    # Apply the inverse transformation to all elements in the array\n",
    "    return (arr * inflow_training_std) + inflow_training_mean\n",
    "\n",
    "def get_predictions_postprocessed(model, X, y):\n",
    "    # Get multi-step predictions from the model (shape: (num_samples, horizon))\n",
    "    predictions = model.predict(X)\n",
    "    # Postprocess predictions and actuals\n",
    "    predictions_post = postprocess(predictions)\n",
    "    y_post = postprocess(y)\n",
    "    \n",
    "    # Assume horizon is the number of days predicted (e.g., 3)\n",
    "    horizon = predictions_post.shape[1]\n",
    "    \n",
    "    # Create a dictionary with columns for each forecast day\n",
    "    data = {}\n",
    "    for i in range(horizon):\n",
    "        data[f'Inflow Predictions Day {i+1}'] = predictions_post[:, i]\n",
    "        data[f'Inflow Actuals Day {i+1}'] = y_post[:, i]\n",
    "    \n",
    "    # Create and return a DataFrame with the results\n",
    "    return pd.DataFrame(data)\n",
    "\n",
    "# Example usage:\n",
    "post_processed_df = get_predictions_postprocessed(model4, X2_test, y2_test)\n",
    "post_processed_df\n"
   ]
  },
  {
   "cell_type": "code",
   "execution_count": 25,
   "metadata": {},
   "outputs": [
    {
     "data": {
      "text/plain": [
       "{'Day 1': 478.44226776757176,\n",
       " 'Day 2': 684.1636947780243,\n",
       " 'Day 3': 831.2711576387334,\n",
       " 'Day 4': 929.1604749699766,\n",
       " 'Day 5': 937.3549999322792}"
      ]
     },
     "execution_count": 25,
     "metadata": {},
     "output_type": "execute_result"
    }
   ],
   "source": [
    "def compute_rmse_for_each_horizon(df, horizon=HORIZON):\n",
    "    \"\"\"\n",
    "    Compute RMSE for each forecast horizon using the rmse package/function.\n",
    "\n",
    "    Parameters:\n",
    "      df      : DataFrame with columns \n",
    "                'Inflow Predictions Day 1', 'Inflow Actuals Day 1', \n",
    "                'Inflow Predictions Day 2', 'Inflow Actuals Day 2', etc.\n",
    "      horizon : Number of forecast days (e.g., 3)\n",
    "\n",
    "    Returns:\n",
    "      A dictionary with RMSE for each forecast day.\n",
    "    \"\"\"\n",
    "    rmse_dict = {}\n",
    "    for i in range(1, horizon + 1):\n",
    "        pred_col = f'Inflow Predictions Day {i}'\n",
    "        actual_col = f'Inflow Actuals Day {i}'\n",
    "        rmse_val = rmse(df[pred_col], df[actual_col])\n",
    "        rmse_dict[f'Day {i}'] = rmse_val\n",
    "    return rmse_dict\n",
    "\n",
    "# Example usage:\n",
    "rmse_values = compute_rmse_for_each_horizon(post_processed_df, horizon=HORIZON)\n",
    "rmse_values\n"
   ]
  },
  {
   "cell_type": "code",
   "execution_count": 26,
   "metadata": {},
   "outputs": [
    {
     "data": {
      "image/png": "[encoded data removed]",
      "text/plain": [
       "<Figure size 800x500 with 1 Axes>"
      ]
     },
     "metadata": {},
     "output_type": "display_data"
    }
   ],
   "source": [
    "def plot_rmse_for_each_horizon(rmse_dict):\n",
    "    \"\"\"\n",
    "    Plots a bar chart of RMSE for each forecast horizon.\n",
    "    \n",
    "    Parameters:\n",
    "      rmse_dict : Dictionary with keys like 'Day 1', 'Day 2', ... and RMSE values.\n",
    "    \"\"\"\n",
    "    horizons = list(rmse_dict.keys())\n",
    "    rmse_values = list(rmse_dict.values())\n",
    "    \n",
    "    plt.figure(figsize=(8, 5))\n",
    "    plt.plot(horizons, rmse_values, color='steelblue')\n",
    "    plt.xlabel(\"Forecast Horizon\")\n",
    "    plt.ylabel(\"RMSE\")\n",
    "    plt.title(\"RMSE for Each Forecast Horizon\")\n",
    "    plt.show()\n",
    "\n",
    "# Example usage:\n",
    "rmse_values = compute_rmse_for_each_horizon(post_processed_df, horizon=HORIZON)\n",
    "plot_rmse_for_each_horizon(rmse_values)"
   ]
  },
  {
   "cell_type": "code",
   "execution_count": 27,
   "metadata": {},
   "outputs": [
    {
     "data": {
      "text/plain": [
       "dict_values([478.44226776757176, 684.1636947780243, 831.2711576387334, 929.1604749699766, 937.3549999322792])"
      ]
     },
     "execution_count": 27,
     "metadata": {},
     "output_type": "execute_result"
    }
   ],
   "source": [
    "rmse_values.values()"
   ]
  },
  {
   "cell_type": "code",
   "execution_count": 28,
   "metadata": {},
   "outputs": [
    {
     "data": {
      "image/png": "[encoded data removed]",
      "text/plain": [
       "<Figure size 640x480 with 1 Axes>"
      ]
     },
     "metadata": {},
     "output_type": "display_data"
    }
   ],
   "source": [
    "# Hard-coded RMSE values from R\n",
    "rmse_yhat1 = [647.6976, 922.0222, 1126.1235, 1266.7477, 1356.4172]\n",
    "rmse_yhatp = [559.0008, 893.0612, 1106.6746, 1248.3544, 1339.4242]\n",
    "\n",
    "horizons = list(range(1,HORIZON+1))\n",
    "\n",
    "# Plot each list with a line\n",
    "plt.plot(horizons, rmse_yhat1, marker='o', label='Yhat1')\n",
    "plt.plot(horizons, rmse_yhatp, marker='o', label='YhatP')\n",
    "plt.plot(horizons, rmse_values.values(), marker='o', label='LSTM')\n",
    "\n",
    "plt.xlabel(\"Horizon k\")\n",
    "plt.ylabel(\"RMSE\")\n",
    "plt.title(\"RMSE for Each Forecast Horizon\")\n",
    "plt.legend()\n",
    "plt.show()"
   ]
  }
 ],
 "metadata": {
  "kernelspec": {
   "display_name": "Python 3",
   "language": "python",
   "name": "python3"
  },
  "language_info": {
   "codemirror_mode": {
    "name": "ipython",
    "version": 3
   },
   "file_extension": ".py",
   "mimetype": "text/x-python",
   "name": "python",
   "nbconvert_exporter": "python",
   "pygments_lexer": "ipython3",
   "version": "3.10.11"
  }
 },
 "nbformat": 4,
 "nbformat_minor": 2
}
